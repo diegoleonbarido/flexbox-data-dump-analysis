{
 "metadata": {
  "name": "",
  "signature": "sha256:51aa8ad10a63c00a4b5565a36cf755a83ef70f1a018681593ec8773dcf4882cb"
 },
 "nbformat": 3,
 "nbformat_minor": 0,
 "worksheets": [
  {
   "cells": [
    {
     "cell_type": "code",
     "collapsed": false,
     "input": [
      "import pandas as pd\n",
      "import copy\n",
      "from datetime import datetime,timedelta\n",
      "import numpy as np\n",
      "import json\n",
      "import pickle\n",
      "import os\n",
      "import copy\n",
      "import csv\n",
      "import re\n",
      "from calendar import monthrange\n",
      "import urllib2\n",
      "import urllib\n",
      "from bs4 import BeautifulSoup \n",
      "\n",
      "import matplotlib.pyplot as plt\n",
      "%matplotlib inline\n",
      "import seaborn\n",
      "import statsmodels.api as sm"
     ],
     "language": "python",
     "metadata": {},
     "outputs": [],
     "prompt_number": 2
    },
    {
     "cell_type": "code",
     "collapsed": false,
     "input": [
      "#Jan 11,2012 Pen 1 y 2, Pen 3 came online\n",
      "#June 30,2012\n",
      "#July 25, 2012 the PBP Wind Plant came online.\n",
      "#August 13, 2012 the PBP plant came offline for the day, returned August 14, 2012\n",
      "#October 30, 2012 the \n",
      "#November 10, 2012 EOL came online\n",
      "#December 18, 2012 PEN4 Geothermal Plant came online.\n",
      "#December 27, 2012 SND-L9090 Northern Interconnect came online @ 11AM\n",
      "#March 11, 2013 Pen 1 y 2 came offline\n",
      "#July 9, 2013 PHC1 was offline for that day\n",
      "#August 19, 2013 HPA1 and HPA2 came online\n",
      "#November 29, 2013 ABR came online\n",
      "#October 22, 2014 C.CONT, C.OPOR appear, then reappear on October 26,2014\n",
      "#November 30, 2014 Pen 1 y 2 goes down, then reappears on November 24, 2014\n",
      "#April 6, 2015 PHL1 and PHL2 goes down, then reappears April 7, 2015\n",
      "#March 30, 2015 PHL1 and PHL2 Hydro Plants came online\n",
      "#December 22, 2015 HEMCO-HEM and IHSA-PHD\n",
      "#January 21, 2016 Green Power MTL came online"
     ],
     "language": "python",
     "metadata": {},
     "outputs": [],
     "prompt_number": 3
    },
    {
     "cell_type": "code",
     "collapsed": false,
     "input": [
      "###Jan 20,2012 - Hour 6 missing TPC\n",
      "###July 31, 2012 - Hour 13 missing PCF1,PCF2\n",
      "###August 29, 2012 - Hour 23 missing CEN\n",
      "###October 11, 2012 - Hour 22,23 missing PBP\n",
      "###November 9, 2012 - Hour 19 missing PBP\n",
      "###November 11, 2012 - Hour 14 missing PHC2\n",
      "###November 12, 2012 - Hour 16 missing PHC2\n",
      "###November 13, 2012 - Hour 9 missing PBP\n",
      "###December 30, 2012 - Hour 23 missing PBP\n",
      "###December 31, 2012 - Hour 23 missing PBP\n",
      "###February *, 2013 - Hour 23 missing PHC2\n",
      "###July 9, 2013 - Hour 0 missing PCF2\n",
      "###December 3, 2013 - Hour 5 missing PMG3\n",
      "###January 14, 2014 - Hour 7, missing PNI2\n",
      "###February 26, 2014 - Hour 18 - PMT2\n",
      "###March 4, 2014 - Hour 11 - PCG8\n",
      "###March 8, 2014 - Hour 19 PMG5\n",
      "#March 20, 2013 - Hour 0 missing PMT1\n",
      "###March 30, 2014 - Hour 16 PBP\n",
      "###March 31, 2014 - Hour 19 PNI1\n",
      "###June 11, 2014 - Hour 7 PMG5\n",
      "###June 12, 2014 - Hour 18 PNI1\n",
      "###October 10, 2014 - Hour 11 - PCA2, PCF1, PCF1\n",
      "###May 20, 2015 - Hour 11, PBP\n",
      "###June 28, 2015 - Hour 19, PBP\n",
      "###July 14, 2015 - Hour 21, PBP\n",
      "###August 26, 2015 - Hour 20, PBP\n",
      "###November 4, 2014 - Hour 21, PBP"
     ],
     "language": "python",
     "metadata": {},
     "outputs": [],
     "prompt_number": 4
    },
    {
     "cell_type": "markdown",
     "metadata": {},
     "source": [
      "#1. Scraping Actual from Website"
     ]
    },
    {
     "cell_type": "code",
     "collapsed": false,
     "input": [
      "#For some reason, when a new plant is added, the columns get messed up and it switches to ABC order. So in that case\n",
      "#you take up to that day, and then after that day, seperately. I change the for loop to only go up to the day before\n",
      "#the plant was added, then run it again for that month after that day, then manually combine the spreadsheets.\n",
      "def get_gen_df_on_date(day,month,year):\n",
      "    url = 'http://www.cndc.org.ni/consultas/reportesDiarios/postDespacho/consultaPostdespacho.php?fecha='+day+'/'+month+'/'+year\n",
      "    response = urllib2.urlopen(url)\n",
      "    data = response.read()\n",
      "    soup = BeautifulSoup(data)\n",
      "    header = soup.findAll('tr')[1].findAll(class_='trEncabezado3')\n",
      "    columns = ['HORA']\n",
      "    for column in header:\n",
      "        columns.append(column.get_text().encode('ascii','ignore'))\n",
      "    columns.append('Demanda')\n",
      "    columns.append('Date')\n",
      "    rows = soup.findAll(class_='trRegistro')\n",
      "    df_list = []\n",
      "    for row in rows:\n",
      "        row_text = []\n",
      "        row_vals = row.findAll('td')\n",
      "        for val in row_vals:\n",
      "            row_text.append(val.get_text().encode('ascii','ignore'))\n",
      "        row_text.append(day+'/'+month+'/'+year)\n",
      "        df_list.append(row_text)\n",
      "    #df = pd.DataFrame(df_list)\n",
      "\n",
      "    df = pd.DataFrame(df_list,columns=columns)\n",
      "    return df\n",
      "\n",
      "years = [2016]\n",
      "months = [2,3]\n",
      "dfs = []\n",
      "'''\n",
      "print datetime.now()\n",
      "for year in years:\n",
      "    for month in months:\n",
      "        num_days = monthrange(year, month)[1]\n",
      "        dfs = []\n",
      "        for day in range(1,num_days+1):\n",
      "            day_df = (get_gen_df_on_date(str(day),str(month),str(year)))\n",
      "            if len(dfs)>0:\n",
      "                print 'day ' + str(day)+ ' ' + str(day_df.keys()[0])+str(list(set(day_df.keys())-set(dfs[-1:][0].keys())))\n",
      "                print 'day ' + str(day)+ ' ' + str(day_df.keys()[0])+str(list(set(dfs[-1:][0].keys())-set(day_df.keys())))\n",
      "            else:\n",
      "                print 'day ' + str(day)+ ' ' + str(day_df.keys()[0])\n",
      "            dfs.append(day_df)\n",
      "        df = pd.concat(dfs)\n",
      "        df.to_csv(str(year)+'_'+str(month)+'.csv')\n",
      "        print datetime.now()\n",
      "'''\n",
      "pass"
     ],
     "language": "python",
     "metadata": {},
     "outputs": [],
     "prompt_number": 5
    },
    {
     "cell_type": "markdown",
     "metadata": {},
     "source": [
      "#2. Converting Scraped Actual Data into Dataframe"
     ]
    },
    {
     "cell_type": "code",
     "collapsed": false,
     "input": [
      "dfs = []\n",
      "years = range(2012,2016)\n",
      "months = range(1,13)\n",
      "for year in years:\n",
      "    for month in months:  \n",
      "        dfs.append(pd.read_csv('../../NatData/'+str(year)+'_'+str(month)+'.csv'))\n",
      "\n",
      "df_actual = pd.concat(dfs)\n",
      "datetimes = []\n",
      "for val in df_actual.iterrows():\n",
      "    date = val[1]['Date'].split('/')\n",
      "    hora = val[1]['HORA']\n",
      "    datetimes.append(datetime(int(date[2]),int(date[1]),int(date[0]),int(hora)))\n",
      "df_actual['datetime'] = datetimes\n",
      "df_actual = df_actual.set_index('datetime',drop=True)\n",
      "df_actual['LNI-L9040'] = df_actual['LNI-L9040']*-1\n",
      "df_actual['SND-L9090'] = df_actual['SND-L9090']*-1\n",
      "df_actual['AMY-L9030'] = df_actual['AMY-L9030']*-1\n",
      "df_actual['TCPI-L9150'] = df_actual['TCPI-L9150']*-1\n",
      "pass"
     ],
     "language": "python",
     "metadata": {},
     "outputs": [],
     "prompt_number": 6
    },
    {
     "cell_type": "markdown",
     "metadata": {},
     "source": [
      "#3. Scraping Actual Cost from Website"
     ]
    },
    {
     "cell_type": "code",
     "collapsed": false,
     "input": [
      "def get_price_df_on_date(day,month,year):\n",
      "    url = 'http://www.cndc.org.ni/consultas/reportesDiarios/postDespacho/consultaCostosVarHora.php?fecha='+day+'/'+month+'/'+year\n",
      "    response = urllib2.urlopen(url)\n",
      "    data = response.read()\n",
      "    soup = BeautifulSoup(data)\n",
      "    header = soup.findAll('tr')[1].findAll(class_='trEncabezado3')\n",
      "    columns = ['HORA']\n",
      "    for column in header:\n",
      "        columns.append(column.get_text().encode('ascii','ignore'))\n",
      "    columns.append('Date')\n",
      "    rows = soup.findAll(class_='trRegistro')\n",
      "    df_list = []\n",
      "    for row in rows:\n",
      "        row_text = []\n",
      "        row_vals = row.findAll('td')\n",
      "        for val in row_vals:\n",
      "            row_text.append(val.get_text().encode('ascii','ignore'))\n",
      "        row_text.append(day+'/'+month+'/'+year)\n",
      "        df_list.append(row_text)\n",
      "    #df = pd.DataFrame(df_list)\n",
      "\n",
      "    df = pd.DataFrame(df_list,columns=columns)\n",
      "    return df\n",
      "\n",
      "years = [2012]\n",
      "months = [12]\n",
      "dfs = []\n",
      "\n",
      "print datetime.now()\n",
      "for year in years:\n",
      "    for month in months:\n",
      "        num_days = monthrange(year, month)[1]\n",
      "        dfs = []\n",
      "        print 'Year:' + str(year)+' Month: '+str(month)\n",
      "        for day in range(18,31):#num_days+1):\n",
      "            day_df = (get_price_df_on_date(str(day),str(month),str(year)))\n",
      "            if len(dfs)>0:\n",
      "                print 'day ' + str(day)+ ' ' + str(day_df.keys()[0])+str(list(set(day_df.keys())-set(dfs[-1:][0].keys())))\n",
      "                print 'day ' + str(day)+ ' ' + str(day_df.keys()[0])+str(list(set(dfs[-1:][0].keys())-set(day_df.keys())))\n",
      "            else:\n",
      "                print 'day ' + str(day)+ ' ' + str(day_df.keys()[0])\n",
      "            dfs.append(day_df)\n",
      "        df = pd.concat(dfs)\n",
      "        df.to_csv(str(year)+'_'+str(month)+'_cost2.csv')\n",
      "        print datetime.now()\n",
      "\n",
      "pass"
     ],
     "language": "python",
     "metadata": {},
     "outputs": [
      {
       "output_type": "stream",
       "stream": "stdout",
       "text": [
        "2016-04-11 18:30:43.471995\n",
        "Year:2012 Month: 12\n",
        "day 18 HORA"
       ]
      },
      {
       "output_type": "stream",
       "stream": "stdout",
       "text": [
        "\n",
        "day 19 HORA[]"
       ]
      },
      {
       "output_type": "stream",
       "stream": "stdout",
       "text": [
        "\n",
        "day 19 HORA[]\n",
        "day 20 HORA[]"
       ]
      },
      {
       "output_type": "stream",
       "stream": "stdout",
       "text": [
        "\n",
        "day 20 HORA[]\n",
        "day 21 HORA[]"
       ]
      },
      {
       "output_type": "stream",
       "stream": "stdout",
       "text": [
        "\n",
        "day 21 HORA[]\n",
        "day 22 HORA[]"
       ]
      },
      {
       "output_type": "stream",
       "stream": "stdout",
       "text": [
        "\n",
        "day 22 HORA[]\n",
        "day 23 HORA[]"
       ]
      },
      {
       "output_type": "stream",
       "stream": "stdout",
       "text": [
        "\n",
        "day 23 HORA[]\n",
        "day 24 HORA[]"
       ]
      },
      {
       "output_type": "stream",
       "stream": "stdout",
       "text": [
        "\n",
        "day 24 HORA[]\n",
        "day 25 HORA[]"
       ]
      },
      {
       "output_type": "stream",
       "stream": "stdout",
       "text": [
        "\n",
        "day 25 HORA[]\n",
        "day 26 HORA[]"
       ]
      },
      {
       "output_type": "stream",
       "stream": "stdout",
       "text": [
        "\n",
        "day 26 HORA[]\n",
        "day 27 HORA[]"
       ]
      },
      {
       "output_type": "stream",
       "stream": "stdout",
       "text": [
        "\n",
        "day 27 HORA[]\n",
        "day 28 HORA[]"
       ]
      },
      {
       "output_type": "stream",
       "stream": "stdout",
       "text": [
        "\n",
        "day 28 HORA[]\n",
        "day 29 HORA[]"
       ]
      },
      {
       "output_type": "stream",
       "stream": "stdout",
       "text": [
        "\n",
        "day 29 HORA[]\n",
        "day 30 HORA[]"
       ]
      },
      {
       "output_type": "stream",
       "stream": "stdout",
       "text": [
        "\n",
        "day 30 HORA[]\n",
        "2016-04-11 18:31:20.296022\n"
       ]
      }
     ],
     "prompt_number": 11
    },
    {
     "cell_type": "markdown",
     "metadata": {},
     "source": [
      "#4. Converting Scraped Actual Cost Data into Dataframe"
     ]
    },
    {
     "cell_type": "code",
     "collapsed": false,
     "input": [
      "dfs = []\n",
      "years = range(2012,2016)\n",
      "months = range(1,13)\n",
      "for year in years:\n",
      "    for month in months:\n",
      "        df = pd.read_csv('../../NatDataCosts/'+str(year)+'_'+str(month)+'_cost.csv')\n",
      "        if df.keys()[1] != 'HORA':\n",
      "            print str(month) +' ' + str(year)\n",
      "        dfs.append(df)\n",
      "\n",
      "df_actual_cost = pd.concat(dfs)\n",
      "datetimes = []\n",
      "for val in df_actual_cost.iterrows():\n",
      "    try:\n",
      "        date = val[1]['Date'].split('/')\n",
      "    except:\n",
      "        print val[1]\n",
      "    hora = val[1]['HORA']\n",
      "    datetimes.append(datetime(int(date[2]),int(date[1]),int(date[0]),int(hora)))\n",
      "df_actual_cost['datetime'] = datetimes\n",
      "df_actual_cost = df_actual_cost.set_index('datetime',drop=True)\n",
      "pass"
     ],
     "language": "python",
     "metadata": {},
     "outputs": [],
     "prompt_number": 7
    },
    {
     "cell_type": "markdown",
     "metadata": {},
     "source": [
      "#Scraping Color-Code from Website"
     ]
    },
    {
     "cell_type": "code",
     "collapsed": false,
     "input": [
      "##This prints out any plants that were added and then any plants that were removed on each day\n",
      "def get_color_df_on_date(day,month,year):\n",
      "    url = 'http://www.cndc.org.ni/consultas/reportesDiarios/postDespacho/consultaPostdespacho.php?fecha='+day+'/'+month+'/'+year\n",
      "    response = urllib2.urlopen(url)\n",
      "    data = response.read()\n",
      "    soup = BeautifulSoup(data)\n",
      "    header = soup.findAll('tr')[1].findAll(class_='trEncabezado3')\n",
      "    columns = ['HORA']\n",
      "    for column in header:\n",
      "        columns.append(column.get_text().encode('ascii','ignore'))\n",
      "    columns.append('Demanda')\n",
      "    columns.append('Date')\n",
      "    rows = soup.findAll(class_='trRegistro')\n",
      "    df_list = []\n",
      "    for row in rows:\n",
      "        row_text = []\n",
      "        for i,val in enumerate(row.findAll('td')):\n",
      "            val_str = str(val)\n",
      "            if 'background-color' in val_str:\n",
      "                value = val_str[val_str.index('(')+1:val_str.index(')')].replace(', ',' ').strip()\n",
      "                if len(value)==0:\n",
      "                    value = '0 0 0'\n",
      "            else:\n",
      "                value = val.get_text().encode('ascii','ignore')\n",
      "            row_text.append(value)\n",
      "        row_text.append(day+'/'+month+'/'+year)\n",
      "        df_list.append(row_text)\n",
      "    #df = pd.DataFrame(df_list)\n",
      "\n",
      "    df = pd.DataFrame(df_list,columns=columns)\n",
      "    return df\n",
      "'''\n",
      "years = [2015]\n",
      "months = [12]\n",
      "print datetime.now()\n",
      "for year in years:\n",
      "    for month in months:\n",
      "        num_days = monthrange(year, month)[1]\n",
      "        dfs = []\n",
      "        print 'Year:' + str(year)+' Month: '+str(month)\n",
      "        for day in range(1,22):#,num_days+1):\n",
      "            day_df = (get_color_df_on_date(str(day),str(month),str(year)))\n",
      "            if len(dfs)>0:\n",
      "                print 'day ' + str(day)+ ' ' + str(day_df.keys()[0])+str(list(set(day_df.keys())-set(dfs[-1:][0].keys())))\n",
      "                print 'day ' + str(day)+ ' ' + str(day_df.keys()[0])+str(list(set(dfs[-1:][0].keys())-set(day_df.keys())))\n",
      "            else:\n",
      "                print 'day ' + str(day)+ ' ' + str(day_df.keys()[0])\n",
      "            dfs.append(day_df)\n",
      "        df = pd.concat(dfs)\n",
      "        df.to_csv('color/'+str(year)+'_'+str(month)+'_color1.csv')\n",
      "        print datetime.now()\n",
      "'''\n",
      "pass"
     ],
     "language": "python",
     "metadata": {},
     "outputs": [],
     "prompt_number": 8
    },
    {
     "cell_type": "markdown",
     "metadata": {},
     "source": [
      "#Converting scraped color data to into dataframe"
     ]
    },
    {
     "cell_type": "code",
     "collapsed": false,
     "input": [
      "dfs = []\n",
      "years = range(2012,2016)\n",
      "months = range(1,13)\n",
      "for year in years:\n",
      "    for month in months:\n",
      "        df = pd.read_csv('../../NatDataColor/'+str(year)+'_'+str(month)+'_color.csv')\n",
      "        if df.keys()[1] != 'HORA':\n",
      "            print str(month) +' ' + str(year)\n",
      "        dfs.append(df)\n",
      "\n",
      "df_actual_color = pd.concat(dfs)\n",
      "datetimes = []\n",
      "for val in df_actual_color.iterrows():\n",
      "    try:\n",
      "        date = val[1]['Date'].split('/')\n",
      "    except:\n",
      "        print val[1]\n",
      "    hora = val[1]['HORA']\n",
      "    datetimes.append(datetime(int(date[2]),int(date[1]),int(date[0]),int(hora)))\n",
      "    old_val = val\n",
      "df_actual_color['datetime'] = datetimes\n",
      "df_actual_color = df_actual_color.set_index('datetime',drop=True)\n",
      "df_actual_color = df_actual_color.drop('Date',axis=1)\n",
      "df_actual_color = df_actual_color.drop('Demanda',axis=1)\n",
      "df_actual_color = df_actual_color.drop('HORA',axis=1)\n",
      "df_actual_color = df_actual_color.drop('Unnamed: 0',axis=1)\n",
      "df_actual_color = df_actual_color.drop('Unnamed: 24',axis=1)\n",
      "pass"
     ],
     "language": "python",
     "metadata": {},
     "outputs": [],
     "prompt_number": 9
    },
    {
     "cell_type": "markdown",
     "metadata": {},
     "source": [
      "#5. Scraping Predicted Values from Website \n",
      "Make a cronjob to run predispatch.sh once per day, which will download the PREDESPACHO page onto the server."
     ]
    },
    {
     "cell_type": "markdown",
     "metadata": {},
     "source": [
      "#6. Converting Scraped Predicted Data into Dataframe"
     ]
    },
    {
     "cell_type": "code",
     "collapsed": false,
     "input": [
      "#PREDICTED VALUES\n",
      "\n",
      "scrape_dir = '../../scrape'\n",
      "days = os.listdir(scrape_dir)\n",
      "soup = {}\n",
      "hours = []\n",
      "rows = []\n",
      "datetimes = []\n",
      "rows_new = []\n",
      "datetimes_new = []\n",
      "for day in days:\n",
      "    filename = scrape_dir+'/'+day+'/www.cndc.org.ni/Principal/PREDESPACHO_files/sheet002.htm'\n",
      "    if not os.path.isfile(filename): \n",
      "        print filename\n",
      "        filename = scrape_dir+'/'+day+'/www.cndc.org.ni/Principal/PREDESPACHO_archivos/sheet002.htm'\n",
      "    data = open(filename,'r').read()\n",
      "    soup[day] = BeautifulSoup(data)\n",
      "    day_split = re.search(r'(\\d+/\\d+/\\d+)',soup[day].text).group(1).split('/')\n",
      "    columns = [header.text.encode('ascii','ignore') for header in soup[day].find('table').findAll('tr')[10].findAll('td')]\n",
      "    columns.insert(0,'HORA')\n",
      "    if 'MTL' not in columns:\n",
      "        num_cols = 54\n",
      "        columns_old = copy.deepcopy(columns)\n",
      "        columns_old.insert(51,'Demanda')\n",
      "        columns_old = columns_old[:num_cols]\n",
      "        for val in range(11,35):\n",
      "            row = [header.text.encode('ascii','ignore') for header in soup[day].find('table').findAll('tr')[val].findAll('td')][:num_cols]\n",
      "            hour = row[0].split(':')[0]\n",
      "            for i,cell in enumerate(row):\n",
      "                if i>0:\n",
      "                    row[i] = float(cell)\n",
      "            rows.append(row)\n",
      "            datetimes.append(datetime(int(day_split[2]),int(day_split[1]),int(day_split[0]),int(hour)))\n",
      "    else:\n",
      "        num_cols = 55\n",
      "        columns_new = copy.deepcopy(columns)\n",
      "        columns_new.insert(52,'Demanda')\n",
      "        columns_new = columns_new[:num_cols]\n",
      "        for val in range(11,35):\n",
      "            row = [header.text.encode('ascii','ignore') for header in soup[day].find('table').findAll('tr')[val].findAll('td')][:num_cols]\n",
      "            hour = row[0].split(':')[0]\n",
      "            for i,cell in enumerate(row):\n",
      "                if i>0:\n",
      "                    row[i] = float(cell)\n",
      "            rows_new.append(row)\n",
      "            datetimes_new.append(datetime(int(day_split[2]),int(day_split[1]),int(day_split[0]),int(hour)))\n",
      "\n",
      "df_predict_new = pd.DataFrame(rows_new,columns=columns_new,index=datetimes_new).sort_index()\n",
      "df_predict = pd.DataFrame(rows,columns=columns_old,index=datetimes).sort_index()\n",
      "\n",
      "df_predict = df_predict.append(df_predict_new)\n",
      "df_predict = df_predict.sort_index()\n",
      "df_predict['PEN1 y 2'] = df_predict['PEN 1 y 2']\n",
      "df_predict = df_predict.drop('PEN 1 y 2',axis=1)\n",
      "df_predict.to_csv('predicted_hourly.csv')"
     ],
     "language": "python",
     "metadata": {},
     "outputs": [
      {
       "output_type": "stream",
       "stream": "stdout",
       "text": [
        "../../scrape/08.08.2015/www.cndc.org.ni/Principal/PREDESPACHO_files/sheet002.htm\n",
        "../../scrape/28.11.2015/www.cndc.org.ni/Principal/PREDESPACHO_files/sheet002.htm"
       ]
      },
      {
       "output_type": "stream",
       "stream": "stdout",
       "text": [
        "\n",
        "../../scrape/12.09.2015/www.cndc.org.ni/Principal/PREDESPACHO_files/sheet002.htm"
       ]
      },
      {
       "output_type": "stream",
       "stream": "stdout",
       "text": [
        "\n",
        "../../scrape/14.11.2015/www.cndc.org.ni/Principal/PREDESPACHO_files/sheet002.htm"
       ]
      },
      {
       "output_type": "stream",
       "stream": "stdout",
       "text": [
        "\n",
        "../../scrape/31.10.2015/www.cndc.org.ni/Principal/PREDESPACHO_files/sheet002.htm"
       ]
      },
      {
       "output_type": "stream",
       "stream": "stdout",
       "text": [
        "\n",
        "../../scrape/24.01.2016/www.cndc.org.ni/Principal/PREDESPACHO_files/sheet002.htm"
       ]
      },
      {
       "output_type": "stream",
       "stream": "stdout",
       "text": [
        "\n",
        "../../scrape/19.09.2015/www.cndc.org.ni/Principal/PREDESPACHO_files/sheet002.htm"
       ]
      },
      {
       "output_type": "stream",
       "stream": "stdout",
       "text": [
        "\n",
        "../../scrape/22.08.2015/www.cndc.org.ni/Principal/PREDESPACHO_files/sheet002.htm"
       ]
      },
      {
       "output_type": "stream",
       "stream": "stdout",
       "text": [
        "\n",
        "../../scrape/06.02.2016/www.cndc.org.ni/Principal/PREDESPACHO_files/sheet002.htm"
       ]
      },
      {
       "output_type": "stream",
       "stream": "stdout",
       "text": [
        "\n",
        "../../scrape/03.10.2015/www.cndc.org.ni/Principal/PREDESPACHO_files/sheet002.htm"
       ]
      },
      {
       "output_type": "stream",
       "stream": "stdout",
       "text": [
        "\n",
        "../../scrape/26.12.2015/www.cndc.org.ni/Principal/PREDESPACHO_files/sheet002.htm"
       ]
      },
      {
       "output_type": "stream",
       "stream": "stdout",
       "text": [
        "\n",
        "../../scrape/09.02.2016/www.cndc.org.ni/Principal/PREDESPACHO_files/sheet002.htm"
       ]
      },
      {
       "output_type": "stream",
       "stream": "stdout",
       "text": [
        "\n",
        "../../scrape/04.01.2016/www.cndc.org.ni/Principal/PREDESPACHO_files/sheet002.htm"
       ]
      },
      {
       "output_type": "stream",
       "stream": "stdout",
       "text": [
        "\n",
        "../../scrape/17.10.2015/www.cndc.org.ni/Principal/PREDESPACHO_files/sheet002.htm"
       ]
      },
      {
       "output_type": "stream",
       "stream": "stdout",
       "text": [
        "\n",
        "../../scrape/05.09.2015/www.cndc.org.ni/Principal/PREDESPACHO_files/sheet002.htm"
       ]
      },
      {
       "output_type": "stream",
       "stream": "stdout",
       "text": [
        "\n",
        "../../scrape/20.02.2016/www.cndc.org.ni/Principal/PREDESPACHO_files/sheet002.htm"
       ]
      },
      {
       "output_type": "stream",
       "stream": "stdout",
       "text": [
        "\n",
        "../../scrape/30.12.2015/www.cndc.org.ni/Principal/PREDESPACHO_files/sheet002.htm"
       ]
      },
      {
       "output_type": "stream",
       "stream": "stdout",
       "text": [
        "\n",
        "../../scrape/09.01.2016/www.cndc.org.ni/Principal/PREDESPACHO_files/sheet002.htm"
       ]
      },
      {
       "output_type": "stream",
       "stream": "stdout",
       "text": [
        "\n",
        "../../scrape/05.12.2015/www.cndc.org.ni/Principal/PREDESPACHO_files/sheet002.htm"
       ]
      },
      {
       "output_type": "stream",
       "stream": "stdout",
       "text": [
        "\n",
        "../../scrape/07.12.2015/www.cndc.org.ni/Principal/PREDESPACHO_files/sheet002.htm"
       ]
      },
      {
       "output_type": "stream",
       "stream": "stdout",
       "text": [
        "\n",
        "../../scrape/26.11.2015/www.cndc.org.ni/Principal/PREDESPACHO_files/sheet002.htm"
       ]
      },
      {
       "output_type": "stream",
       "stream": "stdout",
       "text": [
        "\n",
        "../../scrape/02.01.2016/www.cndc.org.ni/Principal/PREDESPACHO_files/sheet002.htm"
       ]
      },
      {
       "output_type": "stream",
       "stream": "stdout",
       "text": [
        "\n",
        "../../scrape/22.09.2015/www.cndc.org.ni/Principal/PREDESPACHO_files/sheet002.htm"
       ]
      },
      {
       "output_type": "stream",
       "stream": "stdout",
       "text": [
        "\n"
       ]
      }
     ],
     "prompt_number": 10
    },
    {
     "cell_type": "markdown",
     "metadata": {},
     "source": [
      "#7. Converting Scraped Predicted Cost Data into Dataframe"
     ]
    },
    {
     "cell_type": "code",
     "collapsed": false,
     "input": [
      "#PREDICTED VALUES\n",
      "\n",
      "scrape_dir = '../../scrape'\n",
      "days = os.listdir(scrape_dir)\n",
      "soup = {}\n",
      "hours = []\n",
      "rows = []\n",
      "datetimes = []\n",
      "for day in days:\n",
      "    filename = scrape_dir+'/'+day+'/www.cndc.org.ni/Principal/PREDESPACHO_files/sheet002.htm'\n",
      "    if not os.path.isfile(filename): \n",
      "        print filename\n",
      "        filename = scrape_dir+'/'+day+'/www.cndc.org.ni/Principal/PREDESPACHO_archivos/sheet002.htm'\n",
      "    data = open(filename,'r').read()\n",
      "    soup[day] = BeautifulSoup(data)\n",
      "    day_split = re.search(r'(\\d+/\\d+/\\d+)',soup[day].text).group(1).split('/')\n",
      "    columns = [header.text.encode('ascii','ignore') for header in soup[day].find('table').findAll('tr')[10].findAll('td')]\n",
      "    columns.insert(0,'HORA')\n",
      "    columns.insert(51,'Demanda')\n",
      "    columns = columns[:54]\n",
      "    for val in range(11,35):\n",
      "        row = [header.text.encode('ascii','ignore') for header in soup[day].find('table').findAll('tr')[val].findAll('td')][:54]\n",
      "        hour = row[0].split(':')[0]\n",
      "        rows.append(row)\n",
      "        datetimes.append(datetime(int(day_split[2]),int(day_split[1]),int(day_split[0]),int(hour)))\n",
      "df_predict_cost = pd.DataFrame(rows,columns=columns,index=datetimes).sort_index()"
     ],
     "language": "python",
     "metadata": {},
     "outputs": [
      {
       "output_type": "stream",
       "stream": "stdout",
       "text": [
        "../../scrape/08.08.2015/www.cndc.org.ni/Principal/PREDESPACHO_files/sheet002.htm\n",
        "../../scrape/28.11.2015/www.cndc.org.ni/Principal/PREDESPACHO_files/sheet002.htm"
       ]
      },
      {
       "output_type": "stream",
       "stream": "stdout",
       "text": [
        "\n",
        "../../scrape/12.09.2015/www.cndc.org.ni/Principal/PREDESPACHO_files/sheet002.htm"
       ]
      },
      {
       "output_type": "stream",
       "stream": "stdout",
       "text": [
        "\n",
        "../../scrape/14.11.2015/www.cndc.org.ni/Principal/PREDESPACHO_files/sheet002.htm"
       ]
      },
      {
       "output_type": "stream",
       "stream": "stdout",
       "text": [
        "\n",
        "../../scrape/31.10.2015/www.cndc.org.ni/Principal/PREDESPACHO_files/sheet002.htm"
       ]
      },
      {
       "output_type": "stream",
       "stream": "stdout",
       "text": [
        "\n",
        "../../scrape/24.01.2016/www.cndc.org.ni/Principal/PREDESPACHO_files/sheet002.htm"
       ]
      },
      {
       "output_type": "stream",
       "stream": "stdout",
       "text": [
        "\n",
        "../../scrape/19.09.2015/www.cndc.org.ni/Principal/PREDESPACHO_files/sheet002.htm"
       ]
      },
      {
       "output_type": "stream",
       "stream": "stdout",
       "text": [
        "\n",
        "../../scrape/22.08.2015/www.cndc.org.ni/Principal/PREDESPACHO_files/sheet002.htm"
       ]
      },
      {
       "output_type": "stream",
       "stream": "stdout",
       "text": [
        "\n",
        "../../scrape/06.02.2016/www.cndc.org.ni/Principal/PREDESPACHO_files/sheet002.htm"
       ]
      },
      {
       "output_type": "stream",
       "stream": "stdout",
       "text": [
        "\n",
        "../../scrape/03.10.2015/www.cndc.org.ni/Principal/PREDESPACHO_files/sheet002.htm"
       ]
      },
      {
       "output_type": "stream",
       "stream": "stdout",
       "text": [
        "\n",
        "../../scrape/26.12.2015/www.cndc.org.ni/Principal/PREDESPACHO_files/sheet002.htm"
       ]
      },
      {
       "output_type": "stream",
       "stream": "stdout",
       "text": [
        "\n",
        "../../scrape/09.02.2016/www.cndc.org.ni/Principal/PREDESPACHO_files/sheet002.htm"
       ]
      },
      {
       "output_type": "stream",
       "stream": "stdout",
       "text": [
        "\n",
        "../../scrape/04.01.2016/www.cndc.org.ni/Principal/PREDESPACHO_files/sheet002.htm"
       ]
      },
      {
       "output_type": "stream",
       "stream": "stdout",
       "text": [
        "\n",
        "../../scrape/17.10.2015/www.cndc.org.ni/Principal/PREDESPACHO_files/sheet002.htm"
       ]
      },
      {
       "output_type": "stream",
       "stream": "stdout",
       "text": [
        "\n",
        "../../scrape/05.09.2015/www.cndc.org.ni/Principal/PREDESPACHO_files/sheet002.htm"
       ]
      },
      {
       "output_type": "stream",
       "stream": "stdout",
       "text": [
        "\n",
        "../../scrape/20.02.2016/www.cndc.org.ni/Principal/PREDESPACHO_files/sheet002.htm"
       ]
      },
      {
       "output_type": "stream",
       "stream": "stdout",
       "text": [
        "\n",
        "../../scrape/30.12.2015/www.cndc.org.ni/Principal/PREDESPACHO_files/sheet002.htm"
       ]
      },
      {
       "output_type": "stream",
       "stream": "stdout",
       "text": [
        "\n",
        "../../scrape/09.01.2016/www.cndc.org.ni/Principal/PREDESPACHO_files/sheet002.htm"
       ]
      },
      {
       "output_type": "stream",
       "stream": "stdout",
       "text": [
        "\n",
        "../../scrape/05.12.2015/www.cndc.org.ni/Principal/PREDESPACHO_files/sheet002.htm"
       ]
      },
      {
       "output_type": "stream",
       "stream": "stdout",
       "text": [
        "\n",
        "../../scrape/07.12.2015/www.cndc.org.ni/Principal/PREDESPACHO_files/sheet002.htm"
       ]
      },
      {
       "output_type": "stream",
       "stream": "stdout",
       "text": [
        "\n",
        "../../scrape/26.11.2015/www.cndc.org.ni/Principal/PREDESPACHO_files/sheet002.htm"
       ]
      },
      {
       "output_type": "stream",
       "stream": "stdout",
       "text": [
        "\n",
        "../../scrape/02.01.2016/www.cndc.org.ni/Principal/PREDESPACHO_files/sheet002.htm"
       ]
      },
      {
       "output_type": "stream",
       "stream": "stdout",
       "text": [
        "\n",
        "../../scrape/22.09.2015/www.cndc.org.ni/Principal/PREDESPACHO_files/sheet002.htm"
       ]
      },
      {
       "output_type": "stream",
       "stream": "stdout",
       "text": [
        "\n"
       ]
      }
     ],
     "prompt_number": 11
    },
    {
     "cell_type": "code",
     "collapsed": false,
     "input": [
      "#difference in columns between actual and predicted tables\n",
      "list(set(df_predict.keys())-set(df_actual.keys()))"
     ],
     "language": "python",
     "metadata": {},
     "outputs": [
      {
       "metadata": {},
       "output_type": "pyout",
       "prompt_number": 12,
       "text": [
        "['IND', 'PCG10', 'LIQ', 'MTL']"
       ]
      }
     ],
     "prompt_number": 12
    },
    {
     "cell_type": "code",
     "collapsed": false,
     "input": [
      "if 'Unnamed: 0' in df_actual.keys():\n",
      "    print 'removed'\n",
      "    df_actual = df_actual.drop('Unnamed: 0',axis=1)\n",
      "start = datetime(2012,9,1)\n",
      "end = datetime(2012,9,30)\n",
      "#plt.plot(df_predict[start:end].index,df_predict[start:end]['PCG6'].astype(float),label='Predicted')\n",
      "for key in ['PMT1','PMT2','PMT3']:\n",
      "    plt.plot(df_actual[start:end].index,df_actual[start:end][key].astype(float),label=key)\n",
      "plt.legend(bbox_to_anchor=(1.32, 1.02))\n",
      "#plt.plot(df_actual_cost[start:end].index,df_actual_cost[start:end]['PCG6'])"
     ],
     "language": "python",
     "metadata": {},
     "outputs": [
      {
       "output_type": "stream",
       "stream": "stdout",
       "text": [
        "removed\n"
       ]
      },
      {
       "metadata": {},
       "output_type": "pyout",
       "prompt_number": 13,
       "text": [
        "<matplotlib.legend.Legend at 0x7f629f4076d0>"
       ]
      },
      {
       "metadata": {},
       "output_type": "display_data",
       "png": "[encoded data removed]",
       "text": [
        "<matplotlib.figure.Figure at 0x7f629f11ee90>"
       ]
      }
     ],
     "prompt_number": 13
    },
    {
     "cell_type": "code",
     "collapsed": false,
     "input": [
      "def get_cfs(start,end):\n",
      "    cap_fact = []\n",
      "    cap_dict = {}\n",
      "    keys = []\n",
      "    for val in df_actual.keys():\n",
      "        if val not in ['Demanda','Date','HORA','LNI-L9040','SND-L9090']:\n",
      "            cf = float(len(df_actual[start:end][df_actual[start:end][val]>0]))/len(df_actual[start:end])\n",
      "            cap_dict[val] = cf\n",
      "            cap_fact.append(cf)\n",
      "            keys.append(val)\n",
      "    df_cf = pd.DataFrame([keys,cap_fact]).T\n",
      "    df_cf.columns = ['Plant','CF']\n",
      "    df_cf.sort_values('CF',ascending=False)\n",
      "    return cap_dict\n"
     ],
     "language": "python",
     "metadata": {},
     "outputs": [],
     "prompt_number": 14
    },
    {
     "cell_type": "code",
     "collapsed": false,
     "input": [
      "df_predict_merge = copy.deepcopy(df_predict)\n",
      "df_predict_merge.columns = [column+'_pred' for column in df_predict_merge.keys()]\n",
      "df_gen_predict = df_predict_merge.join(df_actual,how='inner')\n",
      "\n",
      "df_cost_merge = copy.deepcopy(df_actual_cost)\n",
      "df_cost_merge.columns = [column+'_cost' for column in df_cost_merge.keys()]\n",
      "df_gen_cost = df_cost_merge.join(df_actual,how='inner')"
     ],
     "language": "python",
     "metadata": {},
     "outputs": [],
     "prompt_number": 15
    },
    {
     "cell_type": "markdown",
     "metadata": {},
     "source": [
      "#Calculating Cost/Heat Curves"
     ]
    },
    {
     "cell_type": "code",
     "collapsed": false,
     "input": [
      "#https://www.eia.gov/dnav/pet/hist/LeafHandler.ashx?n=PET&s=RWTC&f=D\n",
      "df_oil_prices = pd.read_csv('../../global_oil_price.csv')\n",
      "datetimes = []\n",
      "for row in df_oil_prices.iterrows():\n",
      "    day_split = row[1]['Day'].split('/')\n",
      "    datetimes.append(datetime(int(day_split[2]),int(day_split[0]),int(day_split[1]),int(hour)))\n",
      "df_oil_prices['datetime'] = datetimes\n",
      "df_oil_prices= df_oil_prices.set_index('datetime',drop=True).sort_index()\n",
      "df_oil_prices = df_oil_prices[datetime(2012,1,1):].resample('H', fill_method='pad')\n",
      "df_oil_prices.columns = ['oil_price']"
     ],
     "language": "python",
     "metadata": {},
     "outputs": [],
     "prompt_number": 16
    },
    {
     "cell_type": "code",
     "collapsed": false,
     "input": [
      "df_actual_cost.keys()"
     ],
     "language": "python",
     "metadata": {},
     "outputs": [
      {
       "metadata": {},
       "output_type": "pyout",
       "prompt_number": 17,
       "text": [
        "Index([u'ABR', u'AMY1', u'AMY2', u'C.CONT', u'C.OPOR', u'CEN', u'Date', u'EEC',\n",
        "       u'EEC20', u'EOL', u'GSR', u'HORA', u'HPA1', u'HPA2', u'MTR', u'NSL',\n",
        "       u'PBP', u'PCA1', u'PCA2', u'PCF1', u'PCF2', u'PCG1', u'PCG2', u'PCG3',\n",
        "       u'PCG4', u'PCG5', u'PCG6', u'PCG7', u'PCG8', u'PCG9', u'PCHN',\n",
        "       u'PEN1 y 2', u'PEN3', u'PEN4', u'PHC1', u'PHC2', u'PHL1', u'PHL2',\n",
        "       u'PLB1', u'PLB2', u'PMG3', u'PMG4', u'PMG5', u'PMT1', u'PMT2', u'PMT3',\n",
        "       u'PNI1', u'PNI2', u'TPC', u'Unnamed: 0'],\n",
        "      dtype='object')"
       ]
      }
     ],
     "prompt_number": 17
    },
    {
     "cell_type": "code",
     "collapsed": false,
     "input": [
      "start = datetime(2015,1,1)\n",
      "end = datetime(2015,12,31)\n",
      "gen = 'EEC'\n",
      "#plt.plot((df_actual_cost[start:end][gen]).index,\n",
      "#         df_actual_cost[start:end][gen])\n",
      "#plt.plot(df_actual[start:end].index,df_actual[start:end][gen])\n",
      "#plt.figure()\n",
      "slopes = []\n",
      "\n",
      "df_gen_cost_graph = copy.deepcopy(df_gen_cost).fillna(0)\n",
      "df_gen_cost_graph = df_gen_cost_graph[df_gen_cost_graph[gen]>0]\n",
      "df_gen_cost_graph = df_gen_cost_graph.join(df_oil_prices,how='inner')\n",
      "cf_dict = get_cfs(start,end)\n",
      "for day in range(1,2):\n",
      "    day_cost = df_gen_cost_graph[start+timedelta(days=day):\\\n",
      "                     start+timedelta(hours=23)+timedelta(days=day+0)][gen+'_cost']\n",
      "    day_gen = df_gen_cost_graph[start+timedelta(days=day):\\\n",
      "                         start+timedelta(hours=23)+timedelta(days=day+0)][gen]\n",
      "    day_oil_price = (df_gen_cost_graph[start+timedelta(days=day):\\\n",
      "                     start+timedelta(hours=23)+timedelta(days=day+0)]['oil_price'])\n",
      "    day_total_cost = day_cost*day_gen\n",
      "\n",
      "    day_total_cost_pu = day_total_cost/day_oil_price*5.5513*1000\n",
      "    day_total_cost_pu.name = gen+'_total_cost'\n",
      "\n",
      "    if len(day_total_cost)>1:\n",
      "        regress =  sm.OLS(day_total_cost_pu,day_gen).fit()\n",
      "        plt.figure(1)\n",
      "        #plt.plot(day_gen,day_cost_pu,'.')\n",
      "        plt.plot(day_gen,regress.fittedvalues,'-')\n",
      "        print gen+ ': '+'CF='+str(cf_dict[gen])+\", \"+str(regress.params[gen]/1000/1000)\n",
      "        #plt.figure(2)\n",
      "        plt.plot(day_gen,day_total_cost_pu,'.')"
     ],
     "language": "python",
     "metadata": {},
     "outputs": [
      {
       "output_type": "stream",
       "stream": "stdout",
       "text": [
        "EEC: CF=0.993687593251, 0.00862936234305\n"
       ]
      },
      {
       "metadata": {},
       "output_type": "display_data",
       "png": "[encoded data removed]",
       "text": [
        "<matplotlib.figure.Figure at 0x7f6254605b50>"
       ]
      }
     ],
     "prompt_number": 18
    },
    {
     "cell_type": "code",
     "collapsed": false,
     "input": [
      "start = datetime(2015,1,1)\n",
      "end = datetime(2015,12,31)\n",
      "gens = df_actual_cost.keys()\n",
      "gens = gens.drop('C.CONT')\n",
      "gens = gens.drop('C.OPOR')\n",
      "gens = gens.drop('Date')\n",
      "gens = gens.drop('HORA')\n",
      "gens = gens.drop('Unnamed: 0')\n",
      "cf_dict = get_cfs(start,end)\n",
      "cfs = []\n",
      "costs = []\n",
      "for gen in gens:\n",
      "    day_gen = df_gen_cost_graph[start:end][gen]\n",
      "    day_total_cost =  df_gen_cost_graph[start:end][gen+'_cost']*day_gen\n",
      "    day_oil_price = df_gen_cost_graph[start:end]['oil_price']\n",
      "    day_total_cost_pu = day_total_cost#/day_oil_price*5.5513*1000\n",
      "    day_total_cost_pu.name = gen+'_total_cost'\n",
      "\n",
      "    regress =  sm.OLS(day_total_cost_pu,day_gen).fit()\n",
      "    plt.figure(1)\n",
      "    #plt.plot(day_gen,day_cost_pu,'.')\n",
      "    #plt.plot(day_gen,regress.fittedvalues,'-')\n",
      "    cost = regress.params[gen]/1000\n",
      "    #print gen+ ': '+'CF='+str(cf_dict[gen])+\", \"+str(cost)\n",
      "    costs.append(cost)\n",
      "    cfs.append(cf_dict[gen])\n",
      "    #plt.figure(2)\n",
      "    plt.plot(day_gen,day_total_cost_pu,'.')\n",
      "df_gen_cost_total = pd.DataFrame([gens,costs,cfs]).T\n",
      "df_gen_cost_total.columns = ['Plant','$/kWh','CF']\n",
      "plt.figure()\n",
      "print df_gen_cost_total.sort_values('$/kWh',ascending=False)[:10]\n",
      "plt.plot(df_gen_cost_total['$/kWh'],df_gen_cost_total['CF'],'.')"
     ],
     "language": "python",
     "metadata": {},
     "outputs": [
      {
       "output_type": "stream",
       "stream": "stdout",
       "text": [
        "   Plant      $/kWh          CF\n",
        "34  PLB1   0.220674  0.00482038\n",
        "35  PLB2   0.167674  0.00585332\n",
        "31  PHC2   0.129862   0.0541719\n",
        "30  PHC1    0.12806   0.0501549\n",
        "15  PCF1  0.0996647    0.242741\n",
        "43  PNI2  0.0935601    0.570756\n",
        "39  PMT1  0.0908925    0.927694\n",
        "41  PMT3  0.0908296    0.950534\n",
        "42  PNI1   0.090412    0.901756\n",
        "21  PCG5  0.0892094    0.147596\n"
       ]
      },
      {
       "metadata": {},
       "output_type": "pyout",
       "prompt_number": 19,
       "text": [
        "[<matplotlib.lines.Line2D at 0x7f625437c150>]"
       ]
      },
      {
       "metadata": {},
       "output_type": "display_data",
       "png": "[encoded data removed]",
       "text": [
        "<matplotlib.figure.Figure at 0x7f6254605b10>"
       ]
      },
      {
       "metadata": {},
       "output_type": "display_data",
       "png": "[encoded data removed]",
       "text": [
        "<matplotlib.figure.Figure at 0x7f62547d5ed0>"
       ]
      }
     ],
     "prompt_number": 19
    },
    {
     "cell_type": "code",
     "collapsed": false,
     "input": [],
     "language": "python",
     "metadata": {},
     "outputs": [],
     "prompt_number": 19
    },
    {
     "cell_type": "code",
     "collapsed": false,
     "input": [
      "print df_gen_cost_total.sort_values('$/kWh',ascending=False)"
     ],
     "language": "python",
     "metadata": {},
     "outputs": [
      {
       "output_type": "stream",
       "stream": "stdout",
       "text": [
        "       Plant      $/kWh           CF\n",
        "34      PLB1   0.220674   0.00482038\n",
        "35      PLB2   0.167674   0.00585332\n",
        "31      PHC2   0.129862    0.0541719\n",
        "30      PHC1    0.12806    0.0501549\n",
        "15      PCF1  0.0996647     0.242741\n",
        "43      PNI2  0.0935601     0.570756\n",
        "39      PMT1  0.0908925     0.927694\n",
        "41      PMT3  0.0908296     0.950534\n",
        "42      PNI1   0.090412     0.901756\n",
        "21      PCG5  0.0892094     0.147596\n",
        "16      PCF2  0.0890913      0.13038\n",
        "13      PCA1  0.0885305     0.588546\n",
        "28      PEN3  0.0879356     0.996901\n",
        "20      PCG4  0.0878921     0.165385\n",
        "19      PCG3  0.0868538     0.266269\n",
        "17      PCG1  0.0866625     0.306209\n",
        "14      PCA2  0.0862959     0.681051\n",
        "29      PEN4  0.0858069     0.930449\n",
        "18      PCG2  0.0857104     0.256169\n",
        "9       HPA2  0.0848383     0.444279\n",
        "8       HPA1  0.0848138     0.441409\n",
        "37      PMG4  0.0822807      0.40847\n",
        "24      PCG8  0.0822374     0.426719\n",
        "38      PMG5  0.0817744      0.42339\n",
        "25      PCG9  0.0809818     0.555377\n",
        "23      PCG7  0.0807212     0.782279\n",
        "3        CEN  0.0803363     0.818203\n",
        "4        EEC  0.0801333     0.993688\n",
        "22      PCG6  0.0799565     0.746356\n",
        "5      EEC20   0.079172     0.651555\n",
        "44       TPC  0.0771226     0.982096\n",
        "7        GSR  0.0730954  0.000459084\n",
        "10       MTR  0.0711549     0.786296\n",
        "33      PHL2  0.0675171     0.332033\n",
        "32      PHL1  0.0666215     0.331803\n",
        "11       NSL  0.0525347      0.55664\n",
        "0        ABR          0     0.879031\n",
        "1       AMY1          0     0.921382\n",
        "2       AMY2          0     0.894411\n",
        "6        EOL          0      0.92999\n",
        "12       PBP          0     0.916906\n",
        "26      PCHN          0            0\n",
        "27  PEN1 y 2          0            0\n",
        "36      PMG3          0            0\n",
        "40      PMT2          0  0.000114771\n"
       ]
      }
     ],
     "prompt_number": 20
    },
    {
     "cell_type": "code",
     "collapsed": false,
     "input": [
      "day = 0\n",
      "length = 10000\n",
      "day_cost = df_gen_cost_graph[start+timedelta(days=day):\\\n",
      "                 start+timedelta(hours=23)+timedelta(days=day+length)][gen+'_cost']\n",
      "day_gen = df_gen_cost_graph[start+timedelta(days=day):\\\n",
      "                     start+timedelta(hours=23)+timedelta(days=day+length)][gen]\n",
      "day_oil_price = (df_gen_cost_graph[start+timedelta(days=day):\\\n",
      "                 start+timedelta(hours=23)+timedelta(days=day+length)]['oil_price'])\n",
      "plt.plot(day_cost.index,day_cost)\n",
      "plt.plot(day_oil_price.resample('H',how='mean').index,day_oil_price.resample('H',how='mean')*1.6)"
     ],
     "language": "python",
     "metadata": {},
     "outputs": [
      {
       "metadata": {},
       "output_type": "pyout",
       "prompt_number": 21,
       "text": [
        "[<matplotlib.lines.Line2D at 0x7f62542b40d0>]"
       ]
      },
      {
       "metadata": {},
       "output_type": "display_data",
       "png": "[encoded data removed]",
       "text": [
        "<matplotlib.figure.Figure at 0x7f62543d6d50>"
       ]
      }
     ],
     "prompt_number": 21
    },
    {
     "cell_type": "code",
     "collapsed": false,
     "input": [
      "plt.plot(df_oil_price.index,df_oil_price['Price'])\n",
      "plt.plot(df_actual_cost.index,df_actual_cost['EEC'])"
     ],
     "language": "python",
     "metadata": {},
     "outputs": [
      {
       "ename": "NameError",
       "evalue": "name 'df_oil_price' is not defined",
       "output_type": "pyerr",
       "traceback": [
        "\u001b[0;31m---------------------------------------------------------------------------\u001b[0m\n\u001b[0;31mNameError\u001b[0m                                 Traceback (most recent call last)",
        "\u001b[0;32m<ipython-input-22-c90e3e4bc2df>\u001b[0m in \u001b[0;36m<module>\u001b[0;34m()\u001b[0m\n\u001b[0;32m----> 1\u001b[0;31m \u001b[0mplt\u001b[0m\u001b[0;34m.\u001b[0m\u001b[0mplot\u001b[0m\u001b[0;34m(\u001b[0m\u001b[0mdf_oil_price\u001b[0m\u001b[0;34m.\u001b[0m\u001b[0mindex\u001b[0m\u001b[0;34m,\u001b[0m\u001b[0mdf_oil_price\u001b[0m\u001b[0;34m[\u001b[0m\u001b[0;34m'Price'\u001b[0m\u001b[0;34m]\u001b[0m\u001b[0;34m)\u001b[0m\u001b[0;34m\u001b[0m\u001b[0m\n\u001b[0m\u001b[1;32m      2\u001b[0m \u001b[0mplt\u001b[0m\u001b[0;34m.\u001b[0m\u001b[0mplot\u001b[0m\u001b[0;34m(\u001b[0m\u001b[0mdf_actual_cost\u001b[0m\u001b[0;34m.\u001b[0m\u001b[0mindex\u001b[0m\u001b[0;34m,\u001b[0m\u001b[0mdf_actual_cost\u001b[0m\u001b[0;34m[\u001b[0m\u001b[0;34m'EEC'\u001b[0m\u001b[0;34m]\u001b[0m\u001b[0;34m)\u001b[0m\u001b[0;34m\u001b[0m\u001b[0m\n",
        "\u001b[0;31mNameError\u001b[0m: name 'df_oil_price' is not defined"
       ]
      }
     ],
     "prompt_number": 22
    },
    {
     "cell_type": "code",
     "collapsed": false,
     "input": [],
     "language": "python",
     "metadata": {},
     "outputs": []
    },
    {
     "cell_type": "code",
     "collapsed": false,
     "input": [],
     "language": "python",
     "metadata": {},
     "outputs": []
    }
   ],
   "metadata": {}
  }
 ]
}