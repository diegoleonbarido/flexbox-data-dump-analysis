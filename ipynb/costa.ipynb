{
 "metadata": {
  "name": "",
  "signature": "sha256:6e14327ad1061f6761493529cdc7b574c74d989c58b687b853f4a72df7cbb811"
 },
 "nbformat": 3,
 "nbformat_minor": 0,
 "worksheets": [
  {
   "cells": [
    {
     "cell_type": "code",
     "collapsed": false,
     "input": [
      "import urllib\n",
      "import urllib2\n",
      "from bs4 import BeautifulSoup\n",
      "import pandas as pd"
     ],
     "language": "python",
     "metadata": {},
     "outputs": [],
     "prompt_number": 119
    },
    {
     "cell_type": "code",
     "collapsed": false,
     "input": [
      "query_args = { 'formPosdespacho':'formPosdespacho','formPosdespacho:pickFechaInputDate':'04/01/2016',\\\n",
      "              'formPosdespacho:pickFechaInputCurrentDate':'01/2016'}\n",
      "encoded_args = urllib.urlencode(query_args)\n",
      "url = 'http://appcenter.grupoice.com/CenceWeb/CencePosdespachoNacional.jsf'\n",
      "html_doc = urllib2.urlopen(url, encoded_args).read()\n",
      "soup = BeautifulSoup(html_doc, 'html.parser')"
     ],
     "language": "python",
     "metadata": {},
     "outputs": [],
     "prompt_number": 17
    },
    {
     "cell_type": "code",
     "collapsed": false,
     "input": [],
     "language": "python",
     "metadata": {},
     "outputs": [
      {
       "output_type": "stream",
       "stream": "stdout",
       "text": [
        "domingo 7 de febrero de 2016\n"
       ]
      }
     ],
     "prompt_number": 18
    },
    {
     "cell_type": "code",
     "collapsed": false,
     "input": [
      "import time\n",
      "from selenium import webdriver\n",
      "from selenium.webdriver.common.by import By\n",
      "from selenium.webdriver.support.ui import WebDriverWait\n",
      "from selenium.webdriver.support import expected_conditions as EC\n",
      "from selenium.common.exceptions import TimeoutException\n",
      " \n",
      " \n",
      "def init_driver():\n",
      "    driver = webdriver.Firefox()\n",
      "    driver.wait = WebDriverWait(driver, 5)\n",
      "    return driver\n",
      " \n",
      " \n",
      "def lookup(driver, query):\n",
      "    driver.get(\"http://appcenter.grupoice.com/CenceWeb/CencePosdespachoNacional.jsf\")\n",
      "    dfs = {}\n",
      "    try:\n",
      "        for i in range(2,4):#iterates through dates in calendar picker\n",
      "            ##To Do: move around dataframe so that it is date-time indexed, so that it can be\n",
      "            ##made into one giant dataframe and saved as a csv\n",
      "            box = driver.wait.until(EC.presence_of_element_located(\n",
      "                (By.NAME, \"formPosdespacho:pickFechaInputDate\")))\n",
      "            box.click()\n",
      "            calendar = driver.wait.until(EC.presence_of_element_located(\n",
      "                (By.ID, \"formPosdespacho:pickFechaHeader\")))\n",
      "            print driver.find_element(By.ID,\"tituloFecha\").get_attribute('innerHTML')\n",
      "            date = calendar.find_element(By.XPATH,\"//tr/td[contains(text(), '\"+str(i)+\"')]\")\n",
      "            date.click()\n",
      "            driver.find_element(By.NAME,\"formPosdespacho:j_id32\").click()\n",
      "            html = driver.page_source\n",
      "            soup = BeautifulSoup(html_doc, 'html.parser')\n",
      "            table = soup.find('table',{\"class\":\"tablaDatos\"})\n",
      "            col_headers = []\n",
      "            for header in table.thead.findAll(\"tr\")[0].findAll(\"th\"):\n",
      "                col_headers.append(header.text)\n",
      "            plants = []\n",
      "            for row in table.tbody.findAll(\"tr\"):\n",
      "                plant = []\n",
      "                for val in row.findAll(\"td\"):\n",
      "                    plant.append(val.text)\n",
      "                plants.append(plant)\n",
      "            df = pd.DataFrame(plants,columns=col_headers)\n",
      "            dfs[i] = df\n",
      "            \n",
      "    except TimeoutException:\n",
      "        print(\"Timeout Error\")\n",
      "    \n",
      "    return dfs\n",
      " \n",
      " \n",
      "driver = init_driver()\n",
      "dfs = lookup(driver, \"Selenium\")\n",
      "driver.quit()"
     ],
     "language": "python",
     "metadata": {},
     "outputs": [
      {
       "output_type": "stream",
       "stream": "stdout",
       "text": [
        "domingo 7 de febrero de 2016\n",
        "martes 2 de febrero de 2016"
       ]
      },
      {
       "output_type": "stream",
       "stream": "stdout",
       "text": [
        "\n"
       ]
      }
     ],
     "prompt_number": 128
    },
    {
     "cell_type": "code",
     "collapsed": false,
     "input": [],
     "language": "python",
     "metadata": {},
     "outputs": []
    }
   ],
   "metadata": {}
  }
 ]
}