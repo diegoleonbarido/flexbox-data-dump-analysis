{
 "metadata": {
  "name": ""
 },
 "nbformat": 3,
 "nbformat_minor": 0,
 "worksheets": [
  {
   "cells": [
    {
     "cell_type": "code",
     "collapsed": false,
     "input": [
      "from flexbox import psql_server as psql\n",
      "from sqlalchemy import cast,Date,text\n",
      "from datetime import datetime\n",
      "import re\n",
      "import pandas as pd\n",
      "import yaml\n",
      "import time\n",
      "import numpy as np\n",
      "import copy"
     ],
     "language": "python",
     "metadata": {},
     "outputs": [],
     "prompt_number": 13
    },
    {
     "cell_type": "code",
     "collapsed": false,
     "input": [
      "def create_monotonically_increasing_energy_vals(table_dict,flxbx):\n",
      "    column_names = table_dict['zwave_table'].columns.keys()\n",
      "    # The next two lines are SQL Alchemy code, ordering each house energy data by date and then executing \n",
      "    df = pd.DataFrame(table_dict['zwave_table'].select(\"hostname='\"+flxbx+\"'\").\\\n",
      "         order_by(table_dict['zwave_table'].c.datetime.asc()).execute().fetchall(),columns=column_names)\n",
      "    if len(df)>0 : \n",
      "        df['month'] = [x.month for x in df['datetime']] #list comprehension can also be written into a for loop as exemplified below\n",
      "        #I added the line below so that the dataframe can be indexed by datetime, making slices easier\n",
      "        df.index = df.index = pd.to_datetime(df['datetime']) #<--- I added this line \n",
      "        #Below adds a new column to take into account when the Z-wave gets reset to 0\n",
      "        threshold = np.percentile(df[df['houseAll_Energy'].diff()>0]['houseAll_Energy'].diff(),98)*2\n",
      "        if threshold != threshold:#this checks if threshold is NaN, in which case we don't have to worry about outliers.\n",
      "            temporary_df_copy = copy.deepcopy(df[df['houseAll_Energy']>0])\n",
      "        else:\n",
      "            temporary_df = copy.deepcopy(df[(abs(df['houseAll_Energy'].diff())<threshold) & (df['houseAll_Energy']>0)])\n",
      "            temporary_df_copy = copy.deepcopy(temporary_df[abs(temporary_df['houseAll_Energy'].diff())<threshold])\n",
      "        temporary_df_fixed = copy.deepcopy(temporary_df_copy)\n",
      "        for val in temporary_df_copy['houseAll_Energy'].loc[temporary_df_copy['houseAll_Energy'].diff()<-1].index:\n",
      "            temporary_df_fixed['houseAll_Energy'][val:]=\\\n",
      "            temporary_df_fixed['houseAll_Energy'][val:]-temporary_df_copy['houseAll_Energy'].diff()[val]\n",
      "        return temporary_df_fixed\n",
      "\n",
      "    else:\n",
      "        return pd.DataFrame()"
     ],
     "language": "python",
     "metadata": {},
     "outputs": [],
     "prompt_number": 27
    },
    {
     "cell_type": "code",
     "collapsed": false,
     "input": [
      "metadata = psql.get_metadata()                                                  \n",
      "table_dict = psql.setup_tables(metadata) "
     ],
     "language": "python",
     "metadata": {},
     "outputs": [],
     "prompt_number": 29
    },
    {
     "cell_type": "code",
     "collapsed": false,
     "input": [
      "dfs[flxbx] = create_monotonically_increasing_energy_vals(table_dict,flxbx)"
     ],
     "language": "python",
     "metadata": {},
     "outputs": [],
     "prompt_number": 74
    },
    {
     "cell_type": "code",
     "collapsed": false,
     "input": [
      "float((datetime.now()-last_text_sent).days)"
     ],
     "language": "python",
     "metadata": {},
     "outputs": [
      {
       "metadata": {},
       "output_type": "pyout",
       "prompt_number": 75,
       "text": [
        "15.0"
       ]
      }
     ],
     "prompt_number": 75
    },
    {
     "cell_type": "code",
     "collapsed": false,
     "input": [],
     "language": "python",
     "metadata": {},
     "outputs": [
      {
       "metadata": {},
       "output_type": "pyout",
       "prompt_number": 76,
       "text": [
        "9.349405924479349"
       ]
      }
     ],
     "prompt_number": 76
    },
    {
     "cell_type": "code",
     "collapsed": false,
     "input": [
      "#energia = dfs[flxbx][last_date_sent:]['houseAll_Energy'][-1:].iloc[0] - dfs[flxbx][last_date_sent:]['houseAll_Energy'][:1].iloc[0]\n",
      "#energia = 100\n",
      "#tariff_code = 'T-0'\n",
      "#recent_price_date = datetime(2016, 5, 1, 0, 0)\n",
      "#last_text_sent = datetime(2016, 5, 20)\n",
      "#last_date_sent = datetime(2016,5,1)\n",
      "#flxbx = 'flxbxD1'\n",
      "#dfs = {}"
     ],
     "language": "python",
     "metadata": {},
     "outputs": [
      {
       "metadata": {},
       "output_type": "pyout",
       "prompt_number": 77,
       "text": [
        "2.9411764705882355"
       ]
      }
     ],
     "prompt_number": 77
    },
    {
     "cell_type": "code",
     "collapsed": false,
     "input": [
      "#Creating a Warning for Increased Average Consumption Since last Text Message\n",
      "if len(dfs[flxbx])>0 and len(dfs[flxbx][last_text_sent:])>0:\n",
      "    energia_pct_limit = dfs[flxbx][last_text_sent:]['houseAll_Energy'][-1:].iloc[0] -\\\n",
      "        dfs[flxbx][last_text_sent:]['houseAll_Energy'][:1].iloc[0]\n",
      "        \n",
      "    daily_pct_warning = energia_pct_limit/float((datetime.now()-last_text_sent).days)\n",
      "else:\n",
      "    energia = 0\n",
      "    \n",
      "#Creating a Value that Calculates the Tarifa Social    \n",
      "daily_pct_social = energia/float((datetime.now()-last_date_sent).days)\n",
      "\n",
      "#Determining Tariff Code for SQL queries\n",
      "if daily_pct_social < 5 and tariff_code == 'T-0' and energia <= 150:\n",
      "    tariff_code_for_sql = 'T-Social'\n",
      "elif tariff_code == 'T-J':\n",
      "    tariff_code_for_sql = 'T-0'\n",
      "else:\n",
      "    tariff_code_for_sql = tariff_code\n",
      "    \n",
      "ine_user_prices = table_dict['user_prices'].select().\\\n",
      "                where(table_dict['user_prices'].c.start_range<=energia).\\\n",
      "                where(table_dict['user_prices'].c.tariff_code==tariff_code_for_sql).\\\n",
      "                where(cast(table_dict['user_prices'].c.datetime,Date)==recent_price_date).\\\n",
      "                order_by(table_dict['user_prices'].\\\n",
      "                c.datetime.desc()).execute().fetchall()\n",
      "                \n",
      "cost_energia = 0\n",
      "\n",
      "for val in ine_user_prices:\n",
      "    \n",
      "    this_start_range = val[2] \n",
      "    this_end_range = val[3] \n",
      "    \n",
      "    #Creating a scalar so that we appropriately assing subsidies to jubilados \n",
      "    if tariff_code == 'T-J' and this_end_range <= 150:\n",
      "        subsidy_scalar = 0.44\n",
      "    else:\n",
      "        subsidy_scalar = 1\n",
      "\n",
      "    \n",
      "    if energia <= this_end_range:\n",
      "        cost_energia += (energia - this_start_range) * val[4] * subsidy_scalar\n",
      "    else:\n",
      "         cost_energia += (this_end_range - this_start_range) * val[4] * subsidy_scalar"
     ],
     "language": "python",
     "metadata": {},
     "outputs": [],
     "prompt_number": 78
    },
    {
     "cell_type": "code",
     "collapsed": false,
     "input": [
      "tariff_code"
     ],
     "language": "python",
     "metadata": {},
     "outputs": [
      {
       "metadata": {},
       "output_type": "pyout",
       "prompt_number": 80,
       "text": [
        "'T-0'"
       ]
      }
     ],
     "prompt_number": 80
    },
    {
     "cell_type": "code",
     "collapsed": false,
     "input": [],
     "language": "python",
     "metadata": {},
     "outputs": [],
     "prompt_number": 81
    },
    {
     "cell_type": "code",
     "collapsed": false,
     "input": [
      "cost_energia"
     ],
     "language": "python",
     "metadata": {},
     "outputs": [
      {
       "metadata": {},
       "output_type": "pyout",
       "prompt_number": 82,
       "text": [
        "213.98499999999999"
       ]
      }
     ],
     "prompt_number": 82
    },
    {
     "cell_type": "code",
     "collapsed": false,
     "input": [],
     "language": "python",
     "metadata": {},
     "outputs": [
      {
       "metadata": {},
       "output_type": "pyout",
       "prompt_number": 26,
       "text": [
        "4788.982099999999"
       ]
      }
     ],
     "prompt_number": 26
    },
    {
     "cell_type": "code",
     "collapsed": false,
     "input": [],
     "language": "python",
     "metadata": {},
     "outputs": []
    }
   ],
   "metadata": {}
  }
 ]
}