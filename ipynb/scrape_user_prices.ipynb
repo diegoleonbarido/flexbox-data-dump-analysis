{
 "metadata": {
  "name": "",
  "signature": "sha256:c0756a46bbfea70ce7243e3e1cf5801a76ccbd76c962d4cafd3072eee1d5fb6b"
 },
 "nbformat": 3,
 "nbformat_minor": 0,
 "worksheets": [
  {
   "cells": [
    {
     "cell_type": "code",
     "collapsed": false,
     "input": [
      "import requests\n",
      "import pdfquery\n",
      "from bs4 import BeautifulSoup\n",
      "import pandas as pd\n",
      "from datetime import datetime\n",
      "import os.path\n"
     ],
     "language": "python",
     "metadata": {},
     "outputs": [],
     "prompt_number": 1
    },
    {
     "cell_type": "code",
     "collapsed": false,
     "input": [
      "def get_start_of_prices(soup):\n",
      "    for i,div in enumerate(soup.findAll('div')):\n",
      "        if div.find('span'):\n",
      "            if('25 kWh' in div.find('span').text):\n",
      "                return i\n",
      "def get_end_of_prices(soup):\n",
      "    for i,div in enumerate(soup.findAll('div')):\n",
      "        if div.find('span'):\n",
      "            if('12.9' in div.find('span').text):\n",
      "                return i\n",
      "def is_number(s):\n",
      "    try:\n",
      "        float(s)\n",
      "        return True\n",
      "    except:\n",
      "        return False\n",
      "\n",
      "values = []\n",
      "datetimes = []\n",
      "months = ['Enero','Febrero','Marzo','Abril','Mayo','Junio','Julio','Agosto','Sept','Octubre','Noviembre','Diciembre']\n",
      "years = range(2013,2016)\n",
      "for year in years:\n",
      "    for month_num,month in enumerate(months):\n",
      "        print month\n",
      "        if len(str(month_num+1))==1:\n",
      "            month_num_text = '0'+str(month_num+1)\n",
      "        else:\n",
      "            month_num_text = str(month_num+1)\n",
      "        month = months[month_num]\n",
      "        month_year = month+'_'+str(year)\n",
      "        date = datetime(year,month_num+1,1)\n",
      "        if not os.path.isfile('price_pdfs/'+month_year+'.pdf'):\n",
      "            print 'Downloading For '+str(month) + ' ' + str(year)\n",
      "            url = 'http://www.ine.gob.ni/DGE/tarifasdge/'+str(year)+'/'+str(month_num_text)+'/Pliego_TAplicado_'+str(month_year)+'_BT1.pdf'\n",
      "            r = requests.get(url)\n",
      "            if r.status_code == 404:\n",
      "                url = 'http://www.ine.gob.ni/DGE/tarifasdge/'+str(year)+'/'+str(month_num_text)+'/Pliego_TAplicada_'+str(month_year)+'_BT1.pdf'\n",
      "                r = requests.get(url)\n",
      "            if r.status_code == 404:\n",
      "                url = 'http://www.ine.gob.ni/DGE/tarifasdge/'+str(year)+'/'+str(month_num_text)+'/PliegoT_Aplicado_'+str(month_year)+'_BT1.pdf'\n",
      "                r = requests.get(url)\n",
      "            if r.status_code == 404:\n",
      "                url = 'http://www.ine.gob.ni/DGE/tarifasdge/'+str(year)+'/'+str(month_num_text)+'/PTarifario_Aplicada_'+str(month_year)+'_BT1.pdf'\n",
      "                r = requests.get(url)\n",
      "            if r.status_code == 404:\n",
      "                url = 'http://www.ine.gob.ni/DGE/tarifasdge/'+str(year)+'/'+str(month_num_text)+'/PTarifario_Aplicado_'+str(month_year)+'_BT1.pdf'\n",
      "                r = requests.get(url)\n",
      "            if r.status_code == 404:\n",
      "                url = 'http://www.ine.gob.ni/DGE/tarifasdge/'+str(year)+'/'+str(month_num_text)+'/Ptarifario_Aplicado_'+str(month_year)+'_BT1.pdf'\n",
      "                r = requests.get(url)\n",
      "            if r.status_code == 404:\n",
      "                url = 'http://www.ine.gob.ni/DGE/tarifasdge/'+str(year)+'/'+str(month_num_text)+'/Ptarifario_Aplicado_'+str(month_year).lower()+'_BT1.pdf'\n",
      "                r = requests.get(url)\n",
      "            if r.status_code == 404:\n",
      "                url = 'http://www.ine.gob.ni/DGE/tarifasdge/'+str(year)+'/'+str(month_num_text)+'/Ptarifario_aplicado_'+str(month_year).lower()+'_BT1.pdf'\n",
      "                r = requests.get(url)\n",
      "            if r.status_code == 404:\n",
      "                url = 'http://www.ine.gob.ni/DGE/tarifasdge/'+str(year)+'/'+str(month_num_text)+'/PTarifario_aplicado_'+str(month_year).lower()+'_BT1.pdf'\n",
      "                r = requests.get(url)\n",
      "            if r.status_code == 404:\n",
      "                url = 'http://www.ine.gob.ni/DGE/tarifasdge/'+str(year)+'/'+str(month_num_text)+'/Pliego_Tarifario_Aplicado'+str(month_year)+'_BT1.pdf'\n",
      "                r = requests.get(url)\n",
      "            if r.status_code == 404:\n",
      "                url = 'http://www.ine.gob.ni/DGE/tarifasdge/'+str(year)+'/'+str(month_num_text)+'/Pliego_Tarifario_Aplicado_'+str(month_year)+'_BT1.pdf'\n",
      "                r = requests.get(url)\n",
      "            if r.status_code == 404:\n",
      "                url = 'http://www.ine.gob.ni/DGE/tarifasdge/'+str(year)+'/'+str(month_num_text)+'/Pliego_Tarifario_Aplicado'+str(month)+str(year)+'_BT1.pdf'\n",
      "                r = requests.get(url)\n",
      "            if r.status_code == 404:\n",
      "                url = 'http://www.ine.gob.ni/DGE/tarifasdge/'+str(year)+'/'+str(month_num_text)+'/PTarifario_Aplicada_'+str(month)+str(year)+'_BT1.pdf'\n",
      "                r = requests.get(url)\n",
      "            if r.status_code == 404:\n",
      "                url = 'http://www.ine.gob.ni/DGE/tarifasdge/'+str(year)+'/'+str(month).lower()+'/Pliego_Tarifario_'+str(month_year).upper()+'-1.pdf'\n",
      "                r = requests.get(url)\n",
      "            if r.status_code == 404:\n",
      "                url = 'http://www.ine.gob.ni/DGE/tarifasdge/'+str(year)+'/'+(str(month)+'iembre').lower()+'/Pliego_Tarifario_'+(str(month)+'iembre_'+str(year)).upper()+'-1.pdf'\n",
      "                r = requests.get(url)\n",
      "            if r.status_code == 404:\n",
      "                url = 'http://www.ine.gob.ni/DGE/tarifasdge/'+str(year)+'/'+str(month_num_text)+'/Pliego_'+str(month_year)+'_9_1.pdf'\n",
      "                r = requests.get(url)\n",
      "                \n",
      "            if r.status_code == 404:\n",
      "                url = 'http://www.ine.gob.ni/DGE/tarifasdge/'+str(year)+'/'+str(month_num_text)+'/Pliego_1_'+str(month)+'_778_BT_1.pdf'\n",
      "                r = requests.get(url)\n",
      "            if r.status_code == 404:\n",
      "                url = 'http://www.ine.gob.ni/DGE/tarifasdge/'+str(year)+'/'+str(month_num).lower()+'/Pliego_tarifario_9_'+str(month).lower()+'_1.pdf'\n",
      "                r = requests.get(url)\n",
      "            if r.status_code == 404:\n",
      "                url = 'http://www.ine.gob.ni/DGE/tarifasdge/'+str(year)+'/'+str(month_num_text)+'/Pliego_tarifario_9_'+str(month).lower()+'_1.pdf'\n",
      "                r = requests.get(url)\n",
      "            if r.status_code == 404:\n",
      "                #NEED TO HANDLE THIS AND SEE WHY THERE ARE 2\n",
      "                url = 'http://www.ine.gob.ni/DGE/tarifasdge/'+str(year)+'/'+str(month_num_text)+'/Pliego_tarifario_9_'+str(month).lower()+'_12_1.pdf'\n",
      "                r = requests.get(url)\n",
      "            if r.status_code == 404:\n",
      "                url = 'http://www.ine.gob.ni/DGE/tarifasdge/'+str(year)+'/'+str(month_num_text)+'/Ptarifario_Aplicado_'+str(month_year)+'_BT_1.pdf'\n",
      "                r = requests.get(url)\n",
      "            if r.status_code == 404:\n",
      "                url = 'http://www.ine.gob.ni/DGE/tarifasdge/'+str(year)+'/'+str(month_num_text)+'/Ptarifario_Aplicado_'+str(month)+'iembre_'+str(year)+'_BT_1.pdf'\n",
      "                r = requests.get(url)\n",
      "            if r.status_code == 404:\n",
      "                url = 'http://www.ine.gob.ni/DGE/tarifasdge/'+str(year)+'/'+str(month_num_text)+'/1_Aplicado.pdf'\n",
      "                r = requests.get(url)\n",
      "            if r.status_code == 404:\n",
      "                url = 'http://www.ine.gob.ni/DGE/tarifasdge/'+str(year)+'/'+str(month_num_text)+'/PT_Aplicado_'+str(month)+'iembre_'+str(year)+'_BT1.pdf'\n",
      "                r = requests.get(url)\n",
      "            if r.status_code == 404:\n",
      "                url = 'http://www.ine.gob.ni/DGE/tarifasdge/'+str(year)+'/'+str(month_num_text)+'/PT_Aplicado_'+str(month_year)+'_BT1.pdf'\n",
      "                r = requests.get(url)\n",
      "            with open('price_pdfs/'+month_year+'.pdf', 'wb') as f:\n",
      "                f.write(r.content)\n",
      "        #https://pypi.python.org/pypi/pdfminer/\n",
      "        !pdf2txt.py -o price_pdfs/{month_year}.html price_pdfs/{month_year}.pdf\n",
      "        pdf = open('price_pdfs/'+month_year+'.html','r').read()\n",
      "        soup = BeautifulSoup(pdf,'html.parser')\n",
      "        headers = []\n",
      "        values_for_month = []\n",
      "        start_of_soup = get_start_of_prices(soup)\n",
      "        for val in soup.findAll('div')[start_of_soup:start_of_soup+26]:\n",
      "            if 'kWh' in val.text:\n",
      "                try:\n",
      "                    headers.append([int(s) for s in val.text.split() if s.isdigit()][0])\n",
      "                except:\n",
      "                    pass\n",
      "            elif is_number(val.text):\n",
      "                values_for_month.append(float(val.text))\n",
      "        values.append(values_for_month)\n",
      "        datetimes.append(date)\n",
      "df = pd.DataFrame(values,columns=['first_25','second_25','third_50','fourth_50','fifth_350','sixth_500','seventh_1000'],index=datetimes)"
     ],
     "language": "python",
     "metadata": {},
     "outputs": [
      {
       "output_type": "stream",
       "stream": "stdout",
       "text": [
        "Enero\n"
       ]
      },
      {
       "output_type": "stream",
       "stream": "stdout",
       "text": [
        "Febrero\n"
       ]
      },
      {
       "output_type": "stream",
       "stream": "stdout",
       "text": [
        "Marzo\n"
       ]
      },
      {
       "output_type": "stream",
       "stream": "stdout",
       "text": [
        "Abril\n"
       ]
      },
      {
       "output_type": "stream",
       "stream": "stdout",
       "text": [
        "Mayo\n"
       ]
      },
      {
       "output_type": "stream",
       "stream": "stdout",
       "text": [
        "Junio\n"
       ]
      },
      {
       "output_type": "stream",
       "stream": "stdout",
       "text": [
        "Julio\n"
       ]
      },
      {
       "output_type": "stream",
       "stream": "stdout",
       "text": [
        "Agosto\n"
       ]
      },
      {
       "output_type": "stream",
       "stream": "stdout",
       "text": [
        "Sept\n"
       ]
      },
      {
       "output_type": "stream",
       "stream": "stdout",
       "text": [
        "Octubre\n"
       ]
      },
      {
       "output_type": "stream",
       "stream": "stdout",
       "text": [
        "Noviembre\n"
       ]
      },
      {
       "output_type": "stream",
       "stream": "stdout",
       "text": [
        "Diciembre\n"
       ]
      },
      {
       "output_type": "stream",
       "stream": "stdout",
       "text": [
        "Enero\n"
       ]
      },
      {
       "output_type": "stream",
       "stream": "stdout",
       "text": [
        "Febrero\n"
       ]
      },
      {
       "output_type": "stream",
       "stream": "stdout",
       "text": [
        "Marzo\n"
       ]
      },
      {
       "output_type": "stream",
       "stream": "stdout",
       "text": [
        "Abril\n"
       ]
      },
      {
       "output_type": "stream",
       "stream": "stdout",
       "text": [
        "Mayo\n"
       ]
      },
      {
       "output_type": "stream",
       "stream": "stdout",
       "text": [
        "Junio\n"
       ]
      },
      {
       "output_type": "stream",
       "stream": "stdout",
       "text": [
        "Julio\n"
       ]
      },
      {
       "output_type": "stream",
       "stream": "stdout",
       "text": [
        "Agosto\n"
       ]
      },
      {
       "output_type": "stream",
       "stream": "stdout",
       "text": [
        "Sept\n"
       ]
      },
      {
       "output_type": "stream",
       "stream": "stdout",
       "text": [
        "Octubre\n"
       ]
      },
      {
       "output_type": "stream",
       "stream": "stdout",
       "text": [
        "Noviembre\n"
       ]
      },
      {
       "output_type": "stream",
       "stream": "stdout",
       "text": [
        "Diciembre\n"
       ]
      },
      {
       "output_type": "stream",
       "stream": "stdout",
       "text": [
        "Enero\n"
       ]
      },
      {
       "output_type": "stream",
       "stream": "stdout",
       "text": [
        "Febrero\n"
       ]
      },
      {
       "output_type": "stream",
       "stream": "stdout",
       "text": [
        "Marzo\n"
       ]
      },
      {
       "output_type": "stream",
       "stream": "stdout",
       "text": [
        "Abril\n"
       ]
      },
      {
       "output_type": "stream",
       "stream": "stdout",
       "text": [
        "Mayo\n"
       ]
      },
      {
       "output_type": "stream",
       "stream": "stdout",
       "text": [
        "Junio\n"
       ]
      },
      {
       "output_type": "stream",
       "stream": "stdout",
       "text": [
        "Julio\n"
       ]
      },
      {
       "output_type": "stream",
       "stream": "stdout",
       "text": [
        "Agosto\n"
       ]
      },
      {
       "output_type": "stream",
       "stream": "stdout",
       "text": [
        "Sept\n"
       ]
      },
      {
       "output_type": "stream",
       "stream": "stdout",
       "text": [
        "Octubre\n"
       ]
      },
      {
       "output_type": "stream",
       "stream": "stdout",
       "text": [
        "Noviembre\n"
       ]
      },
      {
       "output_type": "stream",
       "stream": "stdout",
       "text": [
        "Diciembre\n"
       ]
      }
     ],
     "prompt_number": 4
    },
    {
     "cell_type": "code",
     "collapsed": false,
     "input": [
      "df.to_csv('user_prices.csv')"
     ],
     "language": "python",
     "metadata": {},
     "outputs": [],
     "prompt_number": 5
    },
    {
     "cell_type": "code",
     "collapsed": false,
     "input": [
      "#25,25,50,50,350,1000\n",
      "for i,div in enumerate(soup.findAll('div')):\n",
      "    if div.find('span'):\n",
      "        if('12.01' in div.find('span').text):\n",
      "            print i"
     ],
     "language": "python",
     "metadata": {},
     "outputs": [
      {
       "output_type": "stream",
       "stream": "stdout",
       "text": [
        "52\n"
       ]
      }
     ],
     "prompt_number": 97
    },
    {
     "cell_type": "code",
     "collapsed": false,
     "input": [
      "values = []\n",
      "for val in soup.findAll('div')[start_of_soup:start_of_soup+26]:\n",
      "    if 'kWh' in val.text:\n",
      "        print val.text\n",
      "        try:\n",
      "            headers.append([int(s) for s in val.text.split() if s.isdigit()][0])\n",
      "        except:\n",
      "            pass\n",
      "    elif is_number(val.text):\n",
      "        values.append(float(val.text))"
     ],
     "language": "python",
     "metadata": {},
     "outputs": [
      {
       "output_type": "stream",
       "stream": "stdout",
       "text": [
        "Primeros          25 kWh\n",
        "\n",
        "Siguientes         25 kWh\n",
        "\n",
        "Siguientes         50 kWh\n",
        "\n",
        "Siguientes         50 kWh\n",
        "\n",
        "Siguientes      350 kWh\n",
        "\n",
        "Siguientes       500 kWh\n",
        "\n",
        "Adicionales a 1000 kWh\n",
        "\n",
        "0-150 kWh\n",
        "\n",
        "> 150 kWh\n",
        "\n"
       ]
      }
     ],
     "prompt_number": 186
    },
    {
     "cell_type": "code",
     "collapsed": false,
     "input": [
      "values"
     ],
     "language": "python",
     "metadata": {},
     "outputs": [
      {
       "metadata": {},
       "output_type": "pyout",
       "prompt_number": 185,
       "text": [
        "[2.6129, 5.629, 5.8955, 7.7915, 7.2671, 11.5425, 12.9376]"
       ]
      }
     ],
     "prompt_number": 185
    },
    {
     "cell_type": "code",
     "collapsed": false,
     "input": [
      "tuples"
     ],
     "language": "python",
     "metadata": {},
     "outputs": [
      {
       "metadata": {},
       "output_type": "pyout",
       "prompt_number": 121,
       "text": [
        "[[[25, 25, 50, 50, 350, 500, 1000],\n",
        "  [2.3611, 5.0866, 5.3274, 7.0408, 6.6398, 10.5462, 12.0158]]]"
       ]
      }
     ],
     "prompt_number": 121
    },
    {
     "cell_type": "code",
     "collapsed": false,
     "input": [],
     "language": "python",
     "metadata": {},
     "outputs": []
    }
   ],
   "metadata": {}
  }
 ]
}