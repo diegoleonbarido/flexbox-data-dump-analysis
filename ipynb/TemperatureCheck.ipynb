{
 "metadata": {
  "name": "",
  "signature": "sha256:5b7d8aa1d5666ce745e608c38e0c11a22e0b9d23d5f9ccd11f02a11e8da28a98"
 },
 "nbformat": 3,
 "nbformat_minor": 0,
 "worksheets": [
  {
   "cells": [
    {
     "cell_type": "code",
     "collapsed": false,
     "input": [
      "#!/usr/bin/env python2\n",
      "from twilio.rest import TwilioRestClient\n",
      "from flexbox import psql as psql\n",
      "from flexbox import analysis_tools\n",
      "from sqlalchemy import cast,Date,text\n",
      "from datetime import datetime,date,timedelta\n",
      "from sqlalchemy import MetaData, Column, Table\n",
      "import re\n",
      "import pandas as pd\n",
      "import yaml\n",
      "import time\n",
      "import numpy as np\n",
      "import copy\n",
      "import matplotlib.pyplot as plt\n",
      "%matplotlib inline  "
     ],
     "language": "python",
     "metadata": {},
     "outputs": [],
     "prompt_number": 10
    },
    {
     "cell_type": "code",
     "collapsed": false,
     "input": [
      "metadata = psql.get_pi_metadata()\n",
      "table_dict = psql.setup_tables(metadata)"
     ],
     "language": "python",
     "metadata": {},
     "outputs": [],
     "prompt_number": 11
    },
    {
     "cell_type": "code",
     "collapsed": false,
     "input": [
      "result = table_dict['zwave_table'].select().\\\n",
      "            order_by(table_dict['zwave_table'].\\\n",
      "            c.datetime.asc()).execute()\n",
      "columns = result.keys()\n",
      "values = result.fetchall()\n",
      "df_zwave = pd.DataFrame(values,columns=columns)\n",
      "df_zwave.index = pd.to_datetime(df_mfi['datetime']-timedelta(hours=6))"
     ],
     "language": "python",
     "metadata": {},
     "outputs": []
    },
    {
     "cell_type": "code",
     "collapsed": false,
     "input": [
      "\n",
      "result = table_dict['mfi_table'].select().\\\n",
      "            order_by(table_dict['mfi_table'].\\\n",
      "            c.datetime.asc()).execute()\n",
      "columns = result.keys()\n",
      "values = result.fetchall()\n",
      "df_mfi = pd.DataFrame(values,columns=columns)\n",
      "df_mfi.index = pd.to_datetime(df_mfi['datetime']-timedelta(hours=6))"
     ],
     "language": "python",
     "metadata": {},
     "outputs": [],
     "prompt_number": 12
    },
    {
     "cell_type": "code",
     "collapsed": false,
     "input": [
      "\n",
      "result = table_dict['inside_table'].select().\\\n",
      "            order_by(table_dict['inside_table'].\\\n",
      "            c.datetime.asc()).execute()\n",
      "columns = result.keys()\n",
      "values = result.fetchall()\n",
      "df_inside = pd.DataFrame(values,columns=columns)\n",
      "df_inside.index = pd.to_datetime(df_inside['datetime']-timedelta(hours=6))"
     ],
     "language": "python",
     "metadata": {},
     "outputs": [],
     "prompt_number": 13
    },
    {
     "cell_type": "code",
     "collapsed": false,
     "input": [
      "#df_inside = pd.read_csv('flxbxA17.02.18.2016.sqld_inside_temps_table.csv').dropna()\n",
      "#df_inside = pd.read_csv('flxbxA17.10.20.2015.sqld_inside_temps_table.csv').dropna()\n",
      "'''\n",
      "df_inside.index = pd.to_datetime(df_inside['datetime'])\n",
      "in_temp1 = []\n",
      "in_temp2 = []\n",
      "for val in df_inside['inside_temp1']:\n",
      "    try:\n",
      "        in_temp1.append(int(val))\n",
      "    except:\n",
      "        in_temp1.append(85000)\n",
      "for val in df_inside['inside_temp2']:\n",
      "    try:\n",
      "        in_temp2.append(int(val))\n",
      "    except:\n",
      "        in_temp2.append(85000)\n",
      "df_inside['inside_temp1'] = in_temp1\n",
      "df_inside['inside_temp2'] = in_temp2\n",
      "df_inside = df_inside[df_inside['inside_temp1']<85000]\n",
      "df_inside = df_inside[df_inside['inside_temp2']<85000]\n",
      "'''\n",
      "pass"
     ],
     "language": "python",
     "metadata": {},
     "outputs": [],
     "prompt_number": 8
    },
    {
     "cell_type": "code",
     "collapsed": false,
     "input": [],
     "language": "python",
     "metadata": {},
     "outputs": [],
     "prompt_number": 8
    },
    {
     "cell_type": "code",
     "collapsed": true,
     "input": [
      "#n = 6\n",
      "#date_to_check = datetime.now().date()-timedelta(days=n)\n",
      "date_to_check = datetime(2016,7,12).date()\n",
      "max_temp = 9\n",
      "df_inside = df_inside[df_inside['inside_temp1']<85000]\n",
      "#df_inside = df_inside[df_inside['inside_temp2']<85000]\n",
      "(df_inside['inside_temp1']/1000)[df_inside.index.date>=date(2015,7,6)].plot()\n",
      "#(df_inside['inside_temp2']/1000)[df_inside.index.date>=date(2015,7,6)].plot()\n",
      "plt.ylim([-20,40])\n",
      "plt.axhline(max_temp,color='black')\n",
      "plt.axhline(max_temp+3,color='black')\n",
      "plt.figure()\n",
      "\n",
      "plt.title(date_to_check)\n",
      "(df_inside['inside_temp1']/1000)[df_inside.index.date==date_to_check].plot()\n",
      "(df_inside['inside_temp2']/1000)[df_inside.index.date==date_to_check].plot()\n",
      "plt.ylim([-15,40])\n",
      "plt.axhline(max_temp,color='black')\n",
      "plt.axhline(max_temp+3,color='black')\n",
      "\n",
      "pass"
     ],
     "language": "python",
     "metadata": {},
     "outputs": [
      {
       "metadata": {},
       "output_type": "display_data",
       "png": "[encoded data removed]",
       "text": [
        "<matplotlib.figure.Figure at 0x7fe841ec7650>"
       ]
      },
      {
       "metadata": {},
       "output_type": "display_data",
       "png": "[encoded data removed]",
       "text": [
        "<matplotlib.figure.Figure at 0x7fe8420ae150>"
       ]
      }
     ],
     "prompt_number": 18
    },
    {
     "cell_type": "code",
     "collapsed": false,
     "input": [
      "df_inside.tail()"
     ],
     "language": "python",
     "metadata": {},
     "outputs": [
      {
       "html": [
        "<div style=\"max-width:1500px;overflow:auto;\">\n",
        "<table border=\"1\" class=\"dataframe\">\n",
        "  <thead>\n",
        "    <tr style=\"text-align: right;\">\n",
        "      <th></th>\n",
        "      <th>id</th>\n",
        "      <th>datetime</th>\n",
        "      <th>inside_temp1</th>\n",
        "      <th>inside_temp2</th>\n",
        "      <th>inside_temp3</th>\n",
        "      <th>inside_temp4</th>\n",
        "      <th>inside_temp5</th>\n",
        "    </tr>\n",
        "    <tr>\n",
        "      <th>datetime</th>\n",
        "      <th></th>\n",
        "      <th></th>\n",
        "      <th></th>\n",
        "      <th></th>\n",
        "      <th></th>\n",
        "      <th></th>\n",
        "      <th></th>\n",
        "    </tr>\n",
        "  </thead>\n",
        "  <tbody>\n",
        "    <tr>\n",
        "      <th>2016-07-07 10:52:43.244031</th>\n",
        "      <td>34240</td>\n",
        "      <td>2016-07-07 16:52:43.244031</td>\n",
        "      <td>62.0</td>\n",
        "      <td>-1687.0</td>\n",
        "      <td>None</td>\n",
        "      <td>None</td>\n",
        "      <td>None</td>\n",
        "    </tr>\n",
        "    <tr>\n",
        "      <th>2016-07-07 10:53:05.143649</th>\n",
        "      <td>34241</td>\n",
        "      <td>2016-07-07 16:53:05.143649</td>\n",
        "      <td>187.0</td>\n",
        "      <td>-1687.0</td>\n",
        "      <td>None</td>\n",
        "      <td>None</td>\n",
        "      <td>None</td>\n",
        "    </tr>\n",
        "    <tr>\n",
        "      <th>2016-07-07 10:53:38.383797</th>\n",
        "      <td>34242</td>\n",
        "      <td>2016-07-07 16:53:38.383797</td>\n",
        "      <td>312.0</td>\n",
        "      <td>-1625.0</td>\n",
        "      <td>None</td>\n",
        "      <td>None</td>\n",
        "      <td>None</td>\n",
        "    </tr>\n",
        "    <tr>\n",
        "      <th>2016-07-09 05:44:59.339423</th>\n",
        "      <td>37369</td>\n",
        "      <td>2016-07-09 11:44:59.339423</td>\n",
        "      <td>-6250.0</td>\n",
        "      <td>-1963000.0</td>\n",
        "      <td>None</td>\n",
        "      <td>None</td>\n",
        "      <td>None</td>\n",
        "    </tr>\n",
        "    <tr>\n",
        "      <th>2016-07-09 05:58:45.384353</th>\n",
        "      <td>37441</td>\n",
        "      <td>2016-07-09 11:58:45.384353</td>\n",
        "      <td>-6437.0</td>\n",
        "      <td>-939000.0</td>\n",
        "      <td>None</td>\n",
        "      <td>None</td>\n",
        "      <td>None</td>\n",
        "    </tr>\n",
        "  </tbody>\n",
        "</table>\n",
        "</div>"
       ],
       "metadata": {},
       "output_type": "pyout",
       "prompt_number": 168,
       "text": [
        "                               id                   datetime  inside_temp1  \\\n",
        "datetime                                                                     \n",
        "2016-07-07 10:52:43.244031  34240 2016-07-07 16:52:43.244031          62.0   \n",
        "2016-07-07 10:53:05.143649  34241 2016-07-07 16:53:05.143649         187.0   \n",
        "2016-07-07 10:53:38.383797  34242 2016-07-07 16:53:38.383797         312.0   \n",
        "2016-07-09 05:44:59.339423  37369 2016-07-09 11:44:59.339423       -6250.0   \n",
        "2016-07-09 05:58:45.384353  37441 2016-07-09 11:58:45.384353       -6437.0   \n",
        "\n",
        "                            inside_temp2 inside_temp3 inside_temp4  \\\n",
        "datetime                                                             \n",
        "2016-07-07 10:52:43.244031       -1687.0         None         None   \n",
        "2016-07-07 10:53:05.143649       -1687.0         None         None   \n",
        "2016-07-07 10:53:38.383797       -1625.0         None         None   \n",
        "2016-07-09 05:44:59.339423    -1963000.0         None         None   \n",
        "2016-07-09 05:58:45.384353     -939000.0         None         None   \n",
        "\n",
        "                           inside_temp5  \n",
        "datetime                                 \n",
        "2016-07-07 10:52:43.244031         None  \n",
        "2016-07-07 10:53:05.143649         None  \n",
        "2016-07-07 10:53:38.383797         None  \n",
        "2016-07-09 05:44:59.339423         None  \n",
        "2016-07-09 05:58:45.384353         None  "
       ]
      }
     ],
     "prompt_number": 168
    },
    {
     "cell_type": "code",
     "collapsed": false,
     "input": [
      "w"
     ],
     "language": "python",
     "metadata": {},
     "outputs": []
    }
   ],
   "metadata": {}
  }
 ]
}