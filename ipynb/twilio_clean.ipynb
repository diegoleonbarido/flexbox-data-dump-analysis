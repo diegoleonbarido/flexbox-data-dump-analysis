{
 "metadata": {
  "name": "",
  "signature": "sha256:b16bc2aae86d074133caae75faa69f47d53808a086b86d024bf604ad7cecda24"
 },
 "nbformat": 3,
 "nbformat_minor": 0,
 "worksheets": [
  {
   "cells": [
    {
     "cell_type": "code",
     "collapsed": false,
     "input": [
      "from twilio.rest import TwilioRestClient # This is used further below to access the Twilio database\n",
      "from flexbox import psql_server as psql\n",
      "import yaml\n",
      "import urllib, urllib2\n",
      "import requests\n",
      "import json\n",
      "from datetime import datetime\n",
      "import pandas as pd\n",
      "from sqlalchemy import text,Date, cast"
     ],
     "language": "python",
     "metadata": {},
     "outputs": [],
     "prompt_number": 1
    },
    {
     "cell_type": "code",
     "collapsed": false,
     "input": [
      "#with open('/home/flexbox/twilio_auth.yaml') as f:\n",
      "with open('auth.yaml') as f:\n",
      "        cf = yaml.safe_load(f)\n",
      "client = TwilioRestClient(cf['ACCOUNT_SID'], cf['AUTH_TOKEN'])"
     ],
     "language": "python",
     "metadata": {},
     "outputs": [],
     "prompt_number": 2
    },
    {
     "cell_type": "code",
     "collapsed": false,
     "input": [
      "phone_dictionary ={'+50585531569': 'flxbxD1', '+50588957602': 'flxbxD28', '+50589762464': 'flxbxD24', \n",
      "                   '+50586773460': 'flxbxD17', '+12676718589': 'Stephen', '+16513577324': 'Diego', \n",
      "                   '+50589708489': 'flxbxD26', '+50582371823': 'Odaly'}"
     ],
     "language": "python",
     "metadata": {},
     "outputs": [],
     "prompt_number": 3
    },
    {
     "cell_type": "code",
     "collapsed": false,
     "input": [
      "##functions\n",
      "def create_monotonically_increasing_energy_vals(flxbx):\n",
      "    df = pd.DataFrame(table_dict['zwave_table'].select(\"hostname='\"+flxbx+\"'\").\\\n",
      "    order_by(table_dict['zwave_table'].c.datetime.asc()).execute().fetchall(),columns=column_names)\n",
      "    df['month'] = [x.month for x in df['datetime']] #list comprehension can also be written into a for loop as exemplified below\n",
      "    #I added the line below so that the dataframe can be indexed by datetime, making slices easier\n",
      "    df.index = df.index = pd.to_datetime(df['datetime']) #<--- I added this line \n",
      "    #Below adds a new column to take into account when the Z-wave gets reset to 0\n",
      "    df = df[df['houseAll_Energy']>0]\n",
      "    prev_val = 0\n",
      "    running_total = 0\n",
      "    new_col = []\n",
      "    for val in df['houseAll_Energy']:\n",
      "        if(val<prev_val):\n",
      "            running_total = running_total + prev_val\n",
      "        new_col.append(running_total+val)\n",
      "        prev_val = val\n",
      "    df['houseAll_Energy_total'] = new_col\n",
      "    return df\n",
      "\n"
     ],
     "language": "python",
     "metadata": {},
     "outputs": [],
     "prompt_number": 6
    },
    {
     "cell_type": "code",
     "collapsed": false,
     "input": [
      "#Preparing the Twilio message\n",
      "\n",
      "phone_list = [\"+12676718589\"]\n",
      "since = datetime.datetime(2016,1,15)\n",
      "metadata = psql.get_metadata()                                                  \n",
      "table_dict = psql.setup_tables(metadata)   \n",
      "\n",
      "flxbxList = ['flxbxD1','flxbxD17','flxbxD24','flxbxD26','flxbxD28']\n",
      "column_names = table_dict['zwave_table'].columns.keys()\n",
      "dfs = {}\n",
      "\n",
      "message_total = \"(Just being sent to Steve and Diego) Energy Totals since:\"+str(since.strftime(\"%d/%m/%Y\"))+ \" \"\n",
      "message_last = \"Last heartbeat:\"+ \" \"\n",
      "for flxbx in flxbxList:\n",
      "    # The next two lines are SQL Alchemy code, ordering each house energy data by date and then executing \n",
      "    dfs[flxbx] = create_monotonically_increasing_energy_vals(flxbx)\n",
      "    total_since = dfs[flxbx][since:]['houseAll_Energy_total'][-1:].iloc[0] \\\n",
      "    - dfs[flxbx][since:]['houseAll_Energy_total'][:1].iloc[0]\n",
      "    \n",
      "    message_total+= flxbx + \":\"+ str(round(total_since,0)) + \", \" \n",
      "    message_last+= flxbx + \":\"+str(dfs[flxbx].index[-1:][0].strftime(\"%d/%m/%Y\"))+\", \"\n",
      "\n",
      "message_total = message_total[:-2]\n",
      "message_last = message_last[:-2]\n",
      "print message_total\n",
      "\n",
      "\n",
      "'''\n",
      "for phone_number in phone_list:\n",
      "    message = client.messages.create(\n",
      "        to= phone_number,\n",
      "        from_=\"+12015235236\",\n",
      "        body=message_total,  \n",
      "    )\n",
      "'''\n",
      "pass\n",
      "\n"
     ],
     "language": "python",
     "metadata": {},
     "outputs": [
      {
       "output_type": "stream",
       "stream": "stdout",
       "text": [
        "(Just being sent to Steve and Diego) Energy Totals since:15/01/2016 flxbxD1:148.0, flxbxD17:122.0, flxbxD24:222.0, flxbxD26:729.0, flxbxD28:116.0\n"
       ]
      }
     ],
     "prompt_number": 8
    },
    {
     "cell_type": "code",
     "collapsed": false,
     "input": [
      "def create_monotonically_increasing_energy_vals(flxbx):\n",
      "    df = pd.DataFrame(table_dict['zwave_table'].select(\"hostname='\"+flxbx+\"'\").\\\n",
      "    order_by(table_dict['zwave_table'].c.datetime.asc()).execute().fetchall(),columns=column_names)\n",
      "    df['month'] = [x.month for x in df['datetime']] #list comprehension can also be written into a for loop as exemplified below\n",
      "    #I added the line below so that the dataframe can be indexed by datetime, making slices easier\n",
      "    df.index = df.index = pd.to_datetime(df['datetime']) #<--- I added this line \n",
      "    #Below adds a new column to take into account when the Z-wave gets reset to 0\n",
      "    df = df[df['houseAll_Energy']>0]\n",
      "    prev_val = 0\n",
      "    running_total = 0\n",
      "    new_col = []\n",
      "    for val in df['houseAll_Energy']:\n",
      "        if(val<prev_val):\n",
      "            running_total = running_total + prev_val\n",
      "        new_col.append(running_total+val)\n",
      "        prev_val = val\n",
      "    df['houseAll_Energy_total'] = new_col\n",
      "    return df\n",
      "\n",
      "def add_values_to_twilio_received_direct(flxbx_id,phone_number,date_of_last_bill,limit_kwh):\n",
      "    metadata = psql.get_metadata()                                                  \n",
      "    table_dict = psql.setup_tables(metadata)   \n",
      "    output_dict = {}\n",
      "    output_dict['flexboxid']= flxbx_id\n",
      "    output_dict['date_last'] = date_of_last_bill\n",
      "    output_dict['phone_number'] = phone_number\n",
      "    output_dict['message'] = 'Manually Added to system'\n",
      "    output_dict['limit_kwh'] = int(limit_kwh)\n",
      "    psql.add_values_to_table(table_dict['twilio_received'],output_dict)\n",
      "    \n",
      "def add_values_to_twilio_received_flask(body,from_number):\n",
      "    url = 'http://cooljoule.javirosa.com:5000/'\n",
      "    data = urllib.urlencode({'Body' : body,\n",
      "                         'From'  : from_number})\n",
      "    return urllib2.urlopen(url=url, data=data).read()"
     ],
     "language": "python",
     "metadata": {},
     "outputs": [],
     "prompt_number": 94
    },
    {
     "cell_type": "code",
     "collapsed": false,
     "input": [
      "add_values_to_twilio_received_direct('flxbxD26','+12676718589',datetime(2016,1,15),'500')"
     ],
     "language": "python",
     "metadata": {},
     "outputs": [],
     "prompt_number": 79
    },
    {
     "cell_type": "code",
     "collapsed": false,
     "input": [
      "print add_values_to_twilio_received_flask('LIMITE 13/2/2016 145 KWH','+50589708489')"
     ],
     "language": "python",
     "metadata": {},
     "outputs": [
      {
       "output_type": "stream",
       "stream": "stdout",
       "text": [
        "<?xml version=\"1.0\" encoding=\"UTF-8\"?><Message><Body>Muchas gracias!</Body></Message>\n"
       ]
      }
     ],
     "prompt_number": 99
    },
    {
     "cell_type": "code",
     "collapsed": false,
     "input": [
      "#How to see if words match\n",
      "from difflib import SequenceMatcher\n",
      "SequenceMatcher(None, \"limite\".lower(), \"Limit\").ratio()"
     ],
     "language": "python",
     "metadata": {},
     "outputs": [
      {
       "metadata": {},
       "output_type": "pyout",
       "prompt_number": 9,
       "text": [
        "0.7272727272727273"
       ]
      }
     ],
     "prompt_number": 9
    },
    {
     "cell_type": "code",
     "collapsed": false,
     "input": [
      "#with open('/home/flexbox/twilio_auth.yaml') as f:\n",
      "with open('phonebook.yaml') as f:\n",
      "        phone_dictionary = yaml.safe_load(f)"
     ],
     "language": "python",
     "metadata": {},
     "outputs": [],
     "prompt_number": 43
    },
    {
     "cell_type": "code",
     "collapsed": false,
     "input": [
      "def create_monotonically_increasing_energy_vals(table_dict,flxbx):\n",
      "    column_names = table_dict['zwave_table'].columns.keys()\n",
      "    df = pd.DataFrame(table_dict['zwave_table'].select(\"hostname='\"+flxbx+\"'\").\\\n",
      "    order_by(table_dict['zwave_table'].c.datetime.asc()).execute().fetchall(),columns=column_names)\n",
      "    df['month'] = [x.month for x in df['datetime']] #list comprehension can also be written into a for loop as exemplified below\n",
      "    #I added the line below so that the dataframe can be indexed by datetime, making slices easier\n",
      "    df.index = df.index = pd.to_datetime(df['datetime']) #<--- I added this line \n",
      "    #Below adds a new column to take into account when the Z-wave gets reset to 0\n",
      "    df = df[df['houseAll_Energy']>0]\n",
      "    prev_val = 0\n",
      "    running_total = 0\n",
      "    new_col = []\n",
      "    for val in df['houseAll_Energy']:\n",
      "        if(val<prev_val):\n",
      "            running_total = running_total + prev_val\n",
      "        new_col.append(running_total+val)\n",
      "        prev_val = val\n",
      "    df['houseAll_Energy_total'] = new_col\n",
      "    return df\n",
      "flxbx = 'flxbxD26'\n",
      "last_date = datetime(2016,1,1)\n",
      "metadata = psql.get_metadata()                                                  \n",
      "table_dict = psql.setup_tables(metadata)   \n",
      "df = create_monotonically_increasing_energy_vals(table_dict,flxbx)\n",
      "                \n",
      "energia=df[last_date:]['houseAll_Energy_total'][-1:].iloc[0] - df[last_date:]['houseAll_Energy_total'][:1].iloc[0]\n",
      "               "
     ],
     "language": "python",
     "metadata": {},
     "outputs": [],
     "prompt_number": 70
    },
    {
     "cell_type": "code",
     "collapsed": false,
     "input": [
      "energia"
     ],
     "language": "python",
     "metadata": {},
     "outputs": [
      {
       "metadata": {},
       "output_type": "pyout",
       "prompt_number": 71,
       "text": [
        "729.17211914062"
       ]
      }
     ],
     "prompt_number": 71
    },
    {
     "cell_type": "code",
     "collapsed": false,
     "input": [
      "table_dict['twilio_received'].select(\"flexboxid='\"+flxbx+\"'\").order_by(table_dict['twilio_received'].\\\n",
      "                                                                                   c.datetime.desc()).execute().fetchone()"
     ],
     "language": "python",
     "metadata": {},
     "outputs": [
      {
       "metadata": {},
       "output_type": "pyout",
       "prompt_number": 51,
       "text": [
        "(1, u'flxbxD26', datetime.datetime(2016, 2, 15, 23, 25, 0, 433112), datetime.datetime(2016, 2, 15, 0, 0), u'2676718589', u'Manually Added to system', 500)"
       ]
      }
     ],
     "prompt_number": 51
    },
    {
     "cell_type": "code",
     "collapsed": false,
     "input": [
      "table_dict['twilio_received'].select().where(text(\"flexboxid='\"+flxbx+\"'\")).\\\n",
      "    where(cast(table_dict['twilio_received'].c.datetime,Date)==datetime(2016,2,15)).order_by(table_dict['twilio_received'].\\\n",
      "    c.datetime.desc()).execute().fetchone()"
     ],
     "language": "python",
     "metadata": {},
     "outputs": [
      {
       "metadata": {},
       "output_type": "pyout",
       "prompt_number": 66,
       "text": [
        "(1, u'flxbxD26', datetime.datetime(2016, 2, 15, 23, 25, 0, 433112), datetime.datetime(2016, 2, 15, 0, 0), u'2676718589', u'Manually Added to system', 500)"
       ]
      }
     ],
     "prompt_number": 66
    },
    {
     "cell_type": "code",
     "collapsed": false,
     "input": [
      "table_dict['twilio_received'].select().where(text(\"flexboxid='\"+flxbx+\"'\")).order_by(table_dict['twilio_received'].\\\n",
      "    c.datetime.desc()).execute().fetchall()"
     ],
     "language": "python",
     "metadata": {},
     "outputs": [
      {
       "metadata": {},
       "output_type": "pyout",
       "prompt_number": 65,
       "text": [
        "[(1, u'flxbxD26', datetime.datetime(2016, 2, 15, 23, 25, 0, 433112), datetime.datetime(2016, 2, 15, 0, 0), u'2676718589', u'Manually Added to system', 500)]"
       ]
      }
     ],
     "prompt_number": 65
    },
    {
     "cell_type": "code",
     "collapsed": false,
     "input": [],
     "language": "python",
     "metadata": {},
     "outputs": []
    }
   ],
   "metadata": {}
  }
 ]
}