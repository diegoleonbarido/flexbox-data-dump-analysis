{
 "metadata": {
  "name": ""
 },
 "nbformat": 3,
 "nbformat_minor": 0,
 "worksheets": [
  {
   "cells": [
    {
     "cell_type": "code",
     "collapsed": false,
     "input": [
      "import pandas as pd\n",
      "import os\n",
      "from pandas.tools.plotting import scatter_matrix\n",
      "from datetime import date, datetime, timedelta\n",
      "import matplotlib.pyplot as plt\n",
      "import matplotlib.mlab as mlab\n",
      "import matplotlib as mpl\n",
      "%matplotlib inline\n",
      "import seaborn as sns\n",
      "sns.set_style(\"white\")\n",
      "import statsmodels.api as sm\n",
      "from sklearn import linear_model\n",
      "from scipy.stats import norm,ttest_ind\n",
      "from scipy import stats\n",
      "import copy\n",
      "import numpy as np\n",
      "import os.path\n",
      "from ggplot import *\n",
      "from matplotlib.cm import cool\n",
      "import re\n",
      "import random\n",
      "from niuera_nica import psql_niuera_cndc_hourly as psql\n",
      "from sqlalchemy import cast,Date,text\n",
      "from flexbox import psql_server as psql_flexbox"
     ],
     "language": "python",
     "metadata": {},
     "outputs": [],
     "prompt_number": 32
    },
    {
     "cell_type": "markdown",
     "metadata": {},
     "source": [
      ".\n",
      "\n",
      "The code above is for testing with random dates\n",
      "\n",
      "."
     ]
    },
    {
     "cell_type": "code",
     "collapsed": false,
     "input": [
      "years = range(2009,2016)\n",
      "\n",
      "for year in years:\n",
      "        if os.path.exists('../NatDataSpotPrice/'+str(year)+'spot_prices.csv'):\n",
      "            ops = pd.read_csv('../NatDataSpotPrice/'+str(year)+'spot_prices.csv') \n",
      "                \n",
      "        if year == 2009:\n",
      "            pred_actual_prices = ops\n",
      "        else:\n",
      "            pred_actual_prices = pred_actual_prices.append(ops)\n",
      "            \n",
      "pred_actual_prices.index = pd.to_datetime(pred_actual_prices['datetime'])\n",
      "pred_actual_prices = pred_actual_prices[['prog_ind','prog_liq','real_ind','real_liq']]\n",
      "\n",
      "pred_actual_prices['date'] = pred_actual_prices.index.date\n",
      "pred_actual_prices['hour'] = pred_actual_prices.index.hour"
     ],
     "language": "python",
     "metadata": {},
     "outputs": [],
     "prompt_number": 6
    },
    {
     "cell_type": "markdown",
     "metadata": {},
     "source": [
      ".\n",
      "\n",
      "At first we were going to do two peak events during the day. One of the decision rules for our implementation was that the two peak events were not within 2 to 3 hours of each other. However, many days observed high prices during hours that were very close to each\n",
      "other or next to each other. By the time we had found a period of time when we could implement a DR event that was not within 3 hours of the previous DR event the prices were no longer that high. \n",
      "\n",
      "Therefore we chose to do two different DR events - one event for peak pricing and three wind following events. The DR event can last for one hour, two hours, or three hours. The idea is the following:\n",
      "\n",
      "(1) Calculate a rolling mean for every two hours, and a rolling mean for three hours\n",
      "(2) Compare the unique values that make up the two hour mean and the three hour mean to the highest price value. If the highest value of the day is separate from other hours, is higher than the unique prices and hours within the two hour rolling mean and three hour mean, then it is a 1 hour peak shaving event. Else if that logic does not follow, and the two mean average is higher then we do a 2 hour peak event, else we do a 3 hour peak event.\n",
      "\n",
      ".\n"
     ]
    },
    {
     "cell_type": "code",
     "collapsed": false,
     "input": [
      "metadata = psql.get_metadata()\n",
      "table_dict = psql.setup_tables(metadata)\n",
      "column_names = table_dict['predespacho_table'].columns.keys()\n",
      "\n",
      "date_now = datetime.now().replace(hour=23)\n",
      "\n",
      "pred_actual_prices = pd.DataFrame(table_dict['predespacho_table'].select().\\\n",
      "        where(cast(table_dict['predespacho_table'].c.datetime,Date)>date_now).\\\n",
      "        order_by(table_dict['predespacho_table'].c.datetime.asc()).execute().fetchall(),columns=column_names)\n",
      "\n",
      "pred_actual_prices.index = pd.to_datetime(pred_actual_prices['datetime'])\n",
      "\n",
      "pred_actual_prices['date'] = pred_actual_prices.index.date\n",
      "pred_actual_prices['hour'] = pred_actual_prices.index.hour\n",
      "pred_actual_prices['prog_ind'] = pred_actual_prices['IND']\n",
      "\n",
      "sub_date = pred_actual_prices"
     ],
     "language": "python",
     "metadata": {},
     "outputs": [],
     "prompt_number": 8
    },
    {
     "cell_type": "code",
     "collapsed": false,
     "input": [
      "# Selecting a random date to test \n",
      "random_dates = random.sample(pred_actual_prices['date'].unique(), 1)\n",
      "sub_date = pred_actual_prices[pred_actual_prices['date'] == random_dates[0]]\n",
      "\n",
      "sub_date['rolling_rank3'] = [None] * len(sub_date['prog_ind'])\n",
      "sub_date['rolling_rank2'] = [None] * len(sub_date['prog_ind'])\n",
      "\n",
      "for i,val in enumerate(sub_date['prog_ind']):\n",
      "    if i <= 21:\n",
      "        sub_date['rolling_rank3'][i] = (sub_date['prog_ind'][i] + sub_date['prog_ind'][i+1]  + sub_date['prog_ind'][i+2])/3 \n",
      "        sub_date['rolling_rank2'][i] = (sub_date['prog_ind'][i] + sub_date['prog_ind'][i+1])/2 \n",
      "        \n",
      "    if i == 22:\n",
      "        sub_date['rolling_rank3'][i] = (sub_date['prog_ind'][i] + sub_date['prog_ind'][i+1])/2 \n",
      "        sub_date['rolling_rank2'][i] = (sub_date['prog_ind'][i] + sub_date['prog_ind'][i+1])/2 \n",
      "        \n",
      "    if i == 23:\n",
      "        sub_date['rolling_rank3'][i] = sub_date['prog_ind'][i]\n",
      "        sub_date['rolling_rank2'][i] = sub_date['prog_ind'][i]\n",
      "    else: \n",
      "        pass\n",
      "    \n",
      "# Creating the rolling rank\n",
      "sub_date_sorted = sub_date.sort_values(by='rolling_rank3',ascending=False)"
     ],
     "language": "python",
     "metadata": {},
     "outputs": [
      {
       "output_type": "stream",
       "stream": "stderr",
       "text": [
        "-c:10: SettingWithCopyWarning: \n",
        "A value is trying to be set on a copy of a slice from a DataFrame\n",
        "\n",
        "See the caveats in the documentation: http://pandas.pydata.org/pandas-docs/stable/indexing.html#indexing-view-versus-copy\n",
        "-c:11: SettingWithCopyWarning: \n",
        "A value is trying to be set on a copy of a slice from a DataFrame\n",
        "\n",
        "See the caveats in the documentation: http://pandas.pydata.org/pandas-docs/stable/indexing.html#indexing-view-versus-copy\n"
       ]
      },
      {
       "output_type": "stream",
       "stream": "stderr",
       "text": [
        "-c:14: SettingWithCopyWarning: \n",
        "A value is trying to be set on a copy of a slice from a DataFrame\n",
        "\n",
        "See the caveats in the documentation: http://pandas.pydata.org/pandas-docs/stable/indexing.html#indexing-view-versus-copy\n",
        "-c:15: SettingWithCopyWarning: \n",
        "A value is trying to be set on a copy of a slice from a DataFrame\n",
        "\n",
        "See the caveats in the documentation: http://pandas.pydata.org/pandas-docs/stable/indexing.html#indexing-view-versus-copy\n"
       ]
      },
      {
       "output_type": "stream",
       "stream": "stderr",
       "text": [
        "-c:18: SettingWithCopyWarning: \n",
        "A value is trying to be set on a copy of a slice from a DataFrame\n",
        "\n",
        "See the caveats in the documentation: http://pandas.pydata.org/pandas-docs/stable/indexing.html#indexing-view-versus-copy\n",
        "-c:19: SettingWithCopyWarning: \n",
        "A value is trying to be set on a copy of a slice from a DataFrame\n",
        "\n",
        "See the caveats in the documentation: http://pandas.pydata.org/pandas-docs/stable/indexing.html#indexing-view-versus-copy\n"
       ]
      }
     ],
     "prompt_number": 9
    },
    {
     "cell_type": "code",
     "collapsed": false,
     "input": [
      "highest_hour_price = sub_date[sub_date['prog_ind'] == max(sub_date['prog_ind'])][['prog_ind','hour']].rename(columns={'prog_ind':'price'})\n",
      "highest_hour_price['event'] = 'hour'\n",
      "three_hour_dr = sub_date[sub_date['rolling_rank3'] == max(sub_date['rolling_rank3'])][['rolling_rank3','hour']].rename(columns={'rolling_rank3':'price'})\n",
      "three_hour_dr['event'] = 'three_hour'\n",
      "two_hour_dr = sub_date[sub_date['rolling_rank2'] == max(sub_date['rolling_rank2'])][['rolling_rank2','hour']].rename(columns={'rolling_rank2':'price'})\n",
      "two_hour_dr['event'] = 'two_hour'\n",
      "\n",
      "highest_hour_price = highest_hour_price.append(three_hour_dr)\n",
      "highest_hour_price = highest_hour_price.append(two_hour_dr)\n",
      "\n",
      "max_price_event =  highest_hour_price[highest_hour_price['event'] == 'hour']\n",
      "\n",
      "two_three_dr_hours = range(highest_hour_price[highest_hour_price['event'] == 'three_hour']['hour'][0],highest_hour_price[highest_hour_price['event'] == 'three_hour']['hour'][0]+3)\\\n",
      "+ range(highest_hour_price[highest_hour_price['event'] == 'two_hour']['hour'][0],highest_hour_price[highest_hour_price['event'] == 'two_hour']['hour'][0]+2) \n",
      "  \n",
      "\n",
      "if max_price_event['hour'][0] not in two_three_dr_hours:\n",
      "    event = highest_hour_price[highest_hour_price['event'] == 'hour']\n",
      "elif highest_hour_price[highest_hour_price['event'] == 'three_hour']['price'][0] > highest_hour_price[highest_hour_price['event'] == 'two_hour']['price'][0] :\n",
      "    event = highest_hour_price[highest_hour_price['event'] == 'three_hour']\n",
      "elif highest_hour_price[highest_hour_price['event'] == 'three_hour']['price'][0] < highest_hour_price[highest_hour_price['event'] == 'two_hour']['price'][0] :\n",
      "    event = highest_hour_price[highest_hour_price['event'] == 'two_hour']\n",
      "    \n",
      "\n",
      "if event.shape[0] > 1:\n",
      "    event = event.head(1)\n",
      "else:\n",
      "    pass\n",
      "\n",
      "if event['event'][0] == 'hour':\n",
      "    event['additional_hours'] = 0\n",
      "elif event['event'][0] == 'two_hour':\n",
      "    event['additional_hours'] = 1\n",
      "elif event['event'][0] == 'three_hour':\n",
      "    event['additional_hours'] = 2\n",
      "else:\n",
      "    pass\n",
      "\n",
      "hours_list =  list(range(event['hour'][0],event['hour'][0] + event['additional_hours'][0]+1))\n",
      "\n",
      "output_dict = {}\n",
      "\n",
      "for hour in range(0,24):\n",
      "    output_dict = {}\n",
      "    output_dict['local_date'] = event.index.date[0]\n",
      "    output_dict['local_hour_start'] = hour\n",
      "    if hour in hours_list:\n",
      "        output_dict['signal'] = 1\n",
      "    else:\n",
      "        output_dict['signal'] = 0\n",
      "\n"
     ],
     "language": "python",
     "metadata": {},
     "outputs": [
      {
       "output_type": "stream",
       "stream": "stdout",
       "text": [
        "                     price  hour     event\n",
        "datetime                                  \n",
        "2016-06-16 19:00:00  95.95    19  two_hour\n"
       ]
      }
     ],
     "prompt_number": 10
    },
    {
     "cell_type": "markdown",
     "metadata": {},
     "source": [
      ".\n",
      "\n",
      "The code below is for updating the signal in the server\n",
      "\n",
      "."
     ]
    },
    {
     "cell_type": "code",
     "collapsed": false,
     "input": [
      "metadata = psql_flexbox.get_metadata()\n",
      "table_dict = psql_flexbox.setup_tables(metadata)\n",
      "\n",
      "date_now = datetime.now().date() + timedelta(days=1)\n",
      "hour_now = datetime.now().hour\n",
      "\n",
      "signal_table = table_dict['peak_shifting_dr'].select().\\\n",
      "        where(cast(table_dict['peak_shifting_dr'].c.datetime,Date) == date_now).\\\n",
      "        where(table_dict['peak_shifting_dr'].c.local_hour_start == hour_now).\\\n",
      "        order_by(table_dict['peak_shifting_dr'].c.datetime.asc()).execute().fetchone()\n",
      "\n",
      "signal_table[4]"
     ],
     "language": "python",
     "metadata": {},
     "outputs": [
      {
       "metadata": {},
       "output_type": "pyout",
       "prompt_number": 37,
       "text": [
        "1"
       ]
      }
     ],
     "prompt_number": 37
    },
    {
     "cell_type": "code",
     "collapsed": false,
     "input": [
      "hour_now"
     ],
     "language": "python",
     "metadata": {},
     "outputs": [
      {
       "metadata": {},
       "output_type": "pyout",
       "prompt_number": 36,
       "text": [
        "20"
       ]
      }
     ],
     "prompt_number": 36
    },
    {
     "cell_type": "code",
     "collapsed": false,
     "input": [],
     "language": "python",
     "metadata": {},
     "outputs": []
    }
   ],
   "metadata": {}
  }
 ]
}