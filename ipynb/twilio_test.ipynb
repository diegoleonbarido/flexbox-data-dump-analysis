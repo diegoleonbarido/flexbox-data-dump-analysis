{
 "metadata": {
  "name": "",
  "signature": "sha256:3d6ec8ac8b06d397eb71d10c5ff3aa7140e5b04d51e3082763ac5c14c77a18f8"
 },
 "nbformat": 3,
 "nbformat_minor": 0,
 "worksheets": [
  {
   "cells": [
    {
     "cell_type": "code",
     "collapsed": false,
     "input": [
      "from twilio.rest import TwilioRestClient #sudo pip install twilio\n",
      "import yaml\n",
      "\n",
      "import urllib, urllib2\n",
      "import requests\n",
      "import json\n",
      "import pandas as pd\n",
      "\n",
      "with open('../auth.yaml') as f:\n",
      "        cf = yaml.safe_load(f)"
     ],
     "language": "python",
     "metadata": {},
     "outputs": [],
     "prompt_number": 40
    },
    {
     "cell_type": "code",
     "collapsed": false,
     "input": [
      "from flexbox import psql_server as psql"
     ],
     "language": "python",
     "metadata": {},
     "outputs": [],
     "prompt_number": 41
    },
    {
     "cell_type": "code",
     "collapsed": false,
     "input": [
      "metadata = psql.get_metadata()                                                  \n",
      "table_dict = psql.setup_tables(metadata)   "
     ],
     "language": "python",
     "metadata": {},
     "outputs": [],
     "prompt_number": 42
    },
    {
     "cell_type": "code",
     "collapsed": false,
     "input": [
      "dfs = {}\n",
      "columns = table_dict['zwave_table'].columns.keys()\n",
      "flxbxList = ['flxbxD1','flxbxD17','flxbxD24','flxbxD26','flxbxD28']\n",
      "for flxbx in flxbxList:\n",
      "    dfs[flxbx] = pd.DataFrame(table_dict['zwave_table'].select(\"hostname='\"+flxbx+\"'\").\\\n",
      "    order_by(table_dict['zwave_table'].c.datetime.asc()).execute().fetchall(),columns=columns)\n",
      "    dfs[flxbx]['month'] = [x.month for x in dfs[flxbx]['datetime']]\n",
      "    print flxbx\n",
      "    print dfs[flxbx].groupby('month')['houseAll_Energy'].last()\\\n",
      "    -dfs[flxbx].groupby('month')['houseAll_Energy'].first()\n",
      "    print"
     ],
     "language": "python",
     "metadata": {},
     "outputs": [
      {
       "output_type": "stream",
       "stream": "stdout",
       "text": [
        "flxbxD1\n",
        "month\n",
        "1    28.80603\n",
        "Name: houseAll_Energy, dtype: float64\n",
        "\n",
        "flxbxD17\n",
        "month\n",
        "1    44.60498\n",
        "Name: houseAll_Energy, dtype: float64\n",
        "\n",
        "flxbxD24\n",
        "month\n",
        "1    45.118896\n",
        "Name: houseAll_Energy, dtype: float64\n",
        "\n",
        "flxbxD26\n",
        "month\n",
        "1    149.465088\n",
        "Name: houseAll_Energy, dtype: float64\n",
        "\n",
        "flxbxD28\n",
        "month\n",
        "1    15.406982\n",
        "Name: houseAll_Energy, dtype: float64\n",
        "\n"
       ]
      }
     ],
     "prompt_number": 78
    },
    {
     "cell_type": "code",
     "collapsed": false,
     "input": [
      "client = TwilioRestClient(cf['ACCOUNT_SID'], cf['AUTH_TOKEN']) \n",
      " \n",
      "message = client.messages.create(\n",
      "    #to=\"+50582371823\",\n",
      "    to=\"+12676718589\",\n",
      "    from_=\"+12675352129\", \n",
      "    body=\"Hi Odaly! Este es Stephen!\",  \n",
      ")"
     ],
     "language": "python",
     "metadata": {},
     "outputs": [],
     "prompt_number": 3
    }
   ],
   "metadata": {}
  }
 ]
}