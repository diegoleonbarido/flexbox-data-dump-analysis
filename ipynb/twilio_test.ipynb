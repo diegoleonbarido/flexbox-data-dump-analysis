{
 "metadata": {
  "name": "",
  "signature": "sha256:3d6ec8ac8b06d397eb71d10c5ff3aa7140e5b04d51e3082763ac5c14c77a18f8"
 },
 "nbformat": 3,
 "nbformat_minor": 0,
 "worksheets": [
  {
   "cells": [
    {
     "cell_type": "code",
     "collapsed": false,
     "input": [
      "# Authors: Stephen and Diego\n",
      "# Date: January - February 2016\n",
      "# Purpose: Energy Text Messages to Project Participants\n",
      "\n",
      "# TO DO:\n",
      "    # 1. Odaly call them and explain to them that we want them to text us: a) the date when they got their last receipt, and b) the consumption limit they want to establish\n",
      "\n",
      "# Goals:\n",
      "    # 1. [DONE] Identify who the message is going to \n",
      "    # 2. Identify who is sending a message, and understand the kWh limit they are setting\n",
      "    # 3. Do automated analysis and send text messages to people automatically \n",
      "    # 4. Automated Analysis: a) send text message when we have reached 50% of the limit and 80% of the limit and 95% of the limit\n",
      "    #    b) send text message when they have reached 50% of their consumption last month, c) they can text and ask how much their consuming\n",
      "    # 5. Adjust dates to the dates when people usually receive their electricity bill"
     ],
     "language": "python",
     "metadata": {},
     "outputs": []
    },
    {
     "cell_type": "code",
     "collapsed": false,
     "input": [
      "from twilio.rest import TwilioRestClient # This is used further below to access the Twilio database\n",
      "from flexbox import psql_server as psql\n",
      "import yaml\n",
      "import urllib, urllib2\n",
      "import requests\n",
      "import json\n",
      "import datetime\n",
      "import pandas as pd"
     ],
     "language": "python",
     "metadata": {},
     "outputs": [],
     "prompt_number": 10
    },
    {
     "cell_type": "code",
     "collapsed": false,
     "input": [
      "with open('auth.yaml') as f:\n",
      "        cf = yaml.safe_load(f)"
     ],
     "language": "python",
     "metadata": {},
     "outputs": [],
     "prompt_number": 22
    },
    {
     "cell_type": "code",
     "collapsed": false,
     "input": [
      "#Preparing the Twilio message\n",
      "client = TwilioRestClient(cf['ACCOUNT_SID'], cf['AUTH_TOKEN']) #Calling python twilio to authenticate that indeed we have an account\n",
      "\n",
      "phone_id = [\"Odaly\",\"A1\",\"A24\",\"A26\",\"A28\",\"A17\",\"Stephen\",\"Diego\"]\n",
      "phone_list = [\"+50582371823\",\"+50585531569\",\"+50589762464\",\"+50586840640\",\"+50588957602\",\"+50586773460\",\"+12676718589\",\"+16513577324\"]\n",
      "message_one = \"Hola! Somos los investigadores del proyecto de energia (FlexBox). Nos gustaria empezar a ayudarlo a administrar su consumo energetico. Diganos: cuantos kWh le gustaria consumir este mes? Le avisaremos cuando este apunto de llegar a su limite!\"\n",
      "message_two = \"Por favor responda con la fecha cuando recibio su ultimo recibo, y con el limite de kWh que le gustaria establecer para su proximo recibo. Por ejemplo, usted podria responder asi: 27/2/2016 245 kWh\"\n",
      "message_three = \"Gracias por participar en la prueba de los mensajes de texto energeticos! Porfavor avise a Odaly cuando llegue su siguiente recibo y lo ayudaremos a llegar a sus metas energeticas\""
     ],
     "language": "python",
     "metadata": {},
     "outputs": [],
     "prompt_number": 46
    },
    {
     "cell_type": "code",
     "collapsed": false,
     "input": [
      "message_three"
     ],
     "language": "python",
     "metadata": {},
     "outputs": [
      {
       "metadata": {},
       "output_type": "pyout",
       "prompt_number": 47,
       "text": [
        "'Gracias por participar en la prueba de los mensajes de texto energeticos! Porfavor avise a Odaly cuando llegue su siguiente recibo y lo ayudaremos a llegar a sus metas energeticas'"
       ]
      }
     ],
     "prompt_number": 47
    },
    {
     "cell_type": "code",
     "collapsed": false,
     "input": [
      "for phone_number in phone_list:\n",
      "    message = client.messages.create(\n",
      "        to= phone_number,\n",
      "        from_=\"+12015235236\",\n",
      "        body=message_three,  \n",
      "    )"
     ],
     "language": "python",
     "metadata": {},
     "outputs": [],
     "prompt_number": 48
    },
    {
     "cell_type": "code",
     "collapsed": false,
     "input": [
      "####### Analysis\n",
      "\n",
      "# 1. Get data from the latest heart beat and match with the date thay they are sending us\n",
      "\n",
      "# A. You only have to do this once\n",
      "# cd /Users/Diego/Downloads/flexkeys_2/ Diegos-MacBook-Pro-2:flexkeys_2 Diego$ ls\n",
      "# chmod 400 flexboxkey.pub\n",
      "# chmod 400 flexboxkey\n",
      "\n",
      "# B. From the terminal:\n",
      "# ssh -i ~/Downloads/flexkeys_2/flexboxkey flexbox@162.243.146.213\n",
      "\n",
      "# C. If you want to look at the data in the server do:\n",
      "# psql flexbox_db_server -h localhost -U flexbox \n",
      "\n",
      "# D. Dump the data (note the date):\n",
      "# pg_dump flexbox_db_server -h localhost -U flexbox > dump2Feb2016.sqld\n",
      "\n",
      "# E. Create a local version of db_server (Make sure you download this into the folder where you want the data)\n",
      "# scp -i ~/Downloads/flexkeys_2/flexboxkey flexbox@162.243.146.213:/home/flexbox/dump2Feb2016.sqld .\n",
      "\n",
      "# F. Once you've made a new dump logging in do the psql server and create a new local database so you can analyze the data:\n",
      "    # Login to postgres: \"sudo -u diego psql postgres\"\n",
      "    # Drop the old database: \"drop database flexbox_db_server\";\n",
      "    # Create the new database: \"create database flexbox_db_server\";\n",
      "    # Grant all privileges: \"grant all privileges on database flexbox_db_server to flexbox;\"\n",
      "    # Now move to the folder where you want to dump the data into, and dump it there (in this case we are dumping into DUMP3):\n",
      "    # \"psql -U flexbox flexbox_db_server < dump2Feb2016.sqld\"\n",
      "\n",
      "#Grabbing data and pulling it\n",
      "    \n",
      "metadata = psql.get_metadata()                                                  \n",
      "table_dict = psql.setup_tables(metadata)   "
     ],
     "language": "python",
     "metadata": {},
     "outputs": [],
     "prompt_number": 11
    },
    {
     "cell_type": "code",
     "collapsed": false,
     "input": [
      "#Inputs are date and energy limit\n",
      "#Outputs are text messages\n",
      "\n",
      "dfs = {}\n",
      "column_names = table_dict['zwave_table'].columns.keys()"
     ],
     "language": "python",
     "metadata": {},
     "outputs": [],
     "prompt_number": 20
    },
    {
     "cell_type": "code",
     "collapsed": false,
     "input": [
      "print type(column_names)"
     ],
     "language": "python",
     "metadata": {},
     "outputs": [
      {
       "output_type": "stream",
       "stream": "stdout",
       "text": [
        "<type 'list'>\n"
       ]
      }
     ],
     "prompt_number": 13
    },
    {
     "cell_type": "code",
     "collapsed": false,
     "input": [
      "flxbxList = ['flxbxD1','flxbxD17','flxbxD24','flxbxD26','flxbxD28']"
     ],
     "language": "python",
     "metadata": {},
     "outputs": [],
     "prompt_number": 14
    },
    {
     "cell_type": "code",
     "collapsed": false,
     "input": [
      "column_names"
     ],
     "language": "python",
     "metadata": {},
     "outputs": [
      {
       "metadata": {},
       "output_type": "pyout",
       "prompt_number": 21,
       "text": [
        "['hostname',\n",
        " 'id',\n",
        " 'datetime',\n",
        " 'houseAll_Voltage',\n",
        " 'houseAll_Current',\n",
        " 'houseAll_Power',\n",
        " 'houseAll_Energy',\n",
        " 'house1_Voltage',\n",
        " 'house1_Current',\n",
        " 'house1_Power',\n",
        " 'house1_Energy',\n",
        " 'house2_Voltage',\n",
        " 'house2_Current',\n",
        " 'house2_Power',\n",
        " 'house2_Energy']"
       ]
      }
     ],
     "prompt_number": 21
    },
    {
     "cell_type": "code",
     "collapsed": false,
     "input": [
      "pd.DataFrame(table_dict['zwave_table'].select(\"hostname='\"+flxbx+\"'\")"
     ],
     "language": "python",
     "metadata": {},
     "outputs": [
      {
       "ename": "SyntaxError",
       "evalue": "unexpected EOF while parsing (<ipython-input-16-1c838caa0903>, line 1)",
       "output_type": "pyerr",
       "traceback": [
        "\u001b[0;36m  File \u001b[0;32m\"<ipython-input-16-1c838caa0903>\"\u001b[0;36m, line \u001b[0;32m1\u001b[0m\n\u001b[0;31m    pd.DataFrame(table_dict['zwave_table'].select(\"hostname='\"+flxbx+\"'\").\u001b[0m\n\u001b[0m                                                                          ^\u001b[0m\n\u001b[0;31mSyntaxError\u001b[0m\u001b[0;31m:\u001b[0m unexpected EOF while parsing\n"
       ]
      }
     ],
     "prompt_number": 16
    },
    {
     "cell_type": "code",
     "collapsed": false,
     "input": [
      "flxbx = 'flxbxD1'"
     ],
     "language": "python",
     "metadata": {},
     "outputs": [],
     "prompt_number": 18
    },
    {
     "cell_type": "code",
     "collapsed": false,
     "input": [
      "for flxbx in flxbxList:\n",
      "    # The next two lines are SQL Alchemy code, ordering each house energy data by date and then executing \n",
      "    dfs[flxbx] = pd.DataFrame(table_dict['zwave_table'].select(\"hostname='\"+flxbx+\"'\").\\\n",
      "    order_by(table_dict['zwave_table'].c.datetime.asc()).execute().fetchall(),columns=column_names)\n",
      "    dfs[flxbx]['month'] = [x.month for x in dfs[flxbx]['datetime']] #list comprehension can also be written into a for loop as exemplified below\n",
      "    print flxbx\n",
      "    print dfs[flxbx].groupby('month')['houseAll_Energy'].last()\\\n",
      "    -dfs[flxbx].groupby('month')['houseAll_Energy'].first()\n",
      "    print"
     ],
     "language": "python",
     "metadata": {},
     "outputs": []
    },
    {
     "cell_type": "code",
     "collapsed": false,
     "input": [
      "# For loop for the list comprehension above\n",
      "datetime.datetime.now()\n",
      "array_ex = []\n",
      "for x in dfs[flxbx]['datetime']:\n",
      "    array_ex.append(x.month);\n",
      "    \n",
      "dfs[flxbx]['month'] = array_ex\n",
      "datetime.datetime.now()"
     ],
     "language": "python",
     "metadata": {},
     "outputs": [],
     "prompt_number": 23
    },
    {
     "cell_type": "code",
     "collapsed": false,
     "input": [
      "# Work with specific dates as inputs  - since then calculate now until since \n",
      "# Clean the zwave data to take into outlier events, zeros, and any other noise that might cause problems \n"
     ],
     "language": "python",
     "metadata": {},
     "outputs": [
      {
       "metadata": {},
       "output_type": "pyout",
       "prompt_number": 7,
       "text": [
        "datetime.datetime(2016, 2, 4, 14, 53, 12, 78052)"
       ]
      }
     ],
     "prompt_number": 7
    },
    {
     "cell_type": "code",
     "collapsed": false,
     "input": [],
     "language": "python",
     "metadata": {},
     "outputs": []
    }
   ],
   "metadata": {}
  }
 ]
}