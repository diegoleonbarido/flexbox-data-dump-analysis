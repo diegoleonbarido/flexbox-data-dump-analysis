{
 "metadata": {
  "name": "",
  "signature": "sha256:fe81076e0b65ff122cd29895a78595a49aa55208ffbdb56c95ad054a00a0719f"
 },
 "nbformat": 3,
 "nbformat_minor": 0,
 "worksheets": [
  {
   "cells": [
    {
     "cell_type": "markdown",
     "metadata": {},
     "source": [
      "## Authors: Stephen and Diego\n",
      "## Date: January - February 2016\n",
      "## Purpose: Energy Text Messages to Project Participants\n",
      "\n",
      "## DONE:\n",
      "1. Odaly call them and explain to them that we want them to text us: a) the date when they got their last receipt, and b) the consumption limit they want to establish\n",
      "\n",
      "## Goals:\n",
      "   1. [DONE] Identify who the message is going to \n",
      "   2. Identify who is sending a message, and understand the kWh limit they are setting\n",
      "   3. Do automated analysis and send text messages to people automatically \n",
      "   4. Automated Analysis: a) send text message when we have reached 50% of the limit and 80% of the limit and 95% of the limit\n",
      "   b) send text message when they have reached 50% of their consumption last month, c) they can text and ask how much their consuming\n",
      "   5. Adjust dates to the dates when people usually receive their electricity bill\n",
      "   \n",
      "##We need a database with the following columns:\n",
      "user table\n",
      "   - phone number\n",
      "   - flxbx id\n",
      "   - kWh limit\n",
      "   - date of last bill\n",
      "request table\n",
      "   - phone number\n",
      "   - flxbx id\n",
      "   - message sent to us\n",
      "   - datetime\n",
      "\n",
      "## Order of operations\n",
      "1. Receive message from household that is either: a) an old number or b) a new number\n",
      "2. For an old number we will receive either: a) a date with a value 'limite dia/mes/ano XXX kWh', or b)\n",
      "\n",
      "\n"
     ]
    },
    {
     "cell_type": "code",
     "collapsed": false,
     "input": [
      "from twilio.rest import TwilioRestClient # This is used further below to access the Twilio database\n",
      "from flexbox import psql_server as psql\n",
      "import yaml\n",
      "import urllib, urllib2\n",
      "import requests\n",
      "import json\n",
      "import re\n",
      "from datetime import datetime\n",
      "import pandas as pd"
     ],
     "language": "python",
     "metadata": {},
     "outputs": [],
     "prompt_number": 1
    },
    {
     "cell_type": "code",
     "collapsed": false,
     "input": [
      "with open('auth.yaml') as f:\n",
      "        cf = yaml.safe_load(f)"
     ],
     "language": "python",
     "metadata": {},
     "outputs": [],
     "prompt_number": 2
    },
    {
     "cell_type": "code",
     "collapsed": false,
     "input": [
      "#Preparing the Twilio message\n",
      "\n",
      "client = TwilioRestClient(cf['ACCOUNT_SID'], cf['AUTH_TOKEN']) #Calling python twilio to authenticate that indeed we have an account\n",
      "\n",
      "phone_id = [\"Odaly\",\"A1\",\"A3\",\"A6\",\"A9\",\"A11\",\"A12\",\"A14\",\"A16\",\"A17\",\"A18\",\"A19\",\"A20\",\"A22\",\"A24\",\"A25\",\"A26\",\"A28\",\"A29\",\"Stephen\",\"Diego\"]\n",
      "phone_list = [\"+50582371823\",\"+50589322897\",\"+50588895968\",\"+50588173043\",\"+50582726949\",\"+50587403397\",\"+50587964731\",\"+50587777748\",\"+50581865758\",\"+50588140038\",\"+50586702761\",\"+50584528501\",\"+50558093889\",\"+50581809386\",\"+50589762464\",\"+50581336784\",\"+50589708489\",\"+50588957602\",\"+50588740508\",\"+12676718589\",\"+16513577324\"]\n",
      "#phone_list = [\"+50582371823\",\"+50589322897\",\"+12676718589\",\"+16513577324\"]\n",
      "\n",
      "#phone_dictionary ={'+50585531569': 'A1', '+50588957602': 'A28', '+50589762464': 'A24', '+50586773460': 'A17', '+12676718589': 'Stephen', '+16513577324': 'Diego', '+50589708489': 'A26', '+50582371823': 'Odaly'}\n",
      "\n",
      "\n",
      "\n",
      "#message_one = \"Hola! Somos los investigadores del proyecto de energia (FlexBox). Nos gustaria empezar a ayudarlo a administrar su consumo energetico. Diganos: cuantos kWh le gustaria consumir este mes? Le avisaremos cuando este apunto de llegar a su limite!\"\n",
      "message_two = \"Hola! Somos los investigadores del proyecto de energia (FlexBox). Por favor responda con la palabra 'limite',  la fecha cuando recibio su ultimo recibo, y con el limite de kWh que le gustaria establecer para su proximo recibo. Por ejemplo, si el dia fue el 27 de Febrero, usted podria responder asi: 'limite 27/2/2016 245 kWh'\"\n",
      "message_three = \"Gracias por participar en la prueba de los mensajes de texto energeticos! Porfavor avise a Odaly cuando llegue su siguiente recibo y lo ayudaremos a llegar a sus metas energeticas\"\n",
      "message_four= \"Gracias! Le avisaremos cuando haya llegado a la mitad de ese consumo (50%),75%,90%, y 95% de ese consumo. De esta manera usted sabra cuando este llegando al limite deseado.\"\n",
      "message_five = \"Hola! Somos los investigadores del proyecto de energia (FlexBox). En cualquier momento usted puede checar su consumo energetico si responde a este mensaje con la palabra 'energia'\"\n",
      "message_six = \"Hola! Ayer cometimos un error al mandarle un mensaje de texto incorrecto. Si recibio un mensaje que decia que ha gastado '1000 kWh' recibio ese mensaje por error. Disculpe, los mensajes de texto comenzaran cuando reciba su siguiente recibo energetico.\""
     ],
     "language": "python",
     "metadata": {},
     "outputs": [],
     "prompt_number": 7
    },
    {
     "cell_type": "code",
     "collapsed": false,
     "input": [
      "len(phone_id),len(phone_list)"
     ],
     "language": "python",
     "metadata": {},
     "outputs": [
      {
       "metadata": {},
       "output_type": "pyout",
       "prompt_number": 8,
       "text": [
        "(21, 21)"
       ]
      }
     ],
     "prompt_number": 8
    },
    {
     "cell_type": "code",
     "collapsed": false,
     "input": [
      "#I commented out the following lines so that I don't accidentally text people\n",
      "#'''\n",
      "for phone_number in phone_list:\n",
      "    message = client.messages.create(\n",
      "        to= phone_number,\n",
      "        from_=\"+12015235236\",\n",
      "        body=message_six,  \n",
      "    )\n",
      "#'''\n",
      "#pass"
     ],
     "language": "python",
     "metadata": {},
     "outputs": [],
     "prompt_number": 9
    },
    {
     "cell_type": "markdown",
     "metadata": {},
     "source": [
      "## Analysis\n",
      "\n",
      "## 1. Get data from the latest heart beat and match with the date thay they are sending us\n",
      "\n",
      "## A. You only have to do this once\n",
      "cd /Users/Diego/Downloads/flexkeys_2/ Diegos-MacBook-Pro-2:flexkeys_2 Diego$ ls\n",
      "chmod 400 flexboxkey.pub\n",
      "chmod 400 flexboxkey\n",
      "\n",
      "## B. From the terminal:\n",
      "ssh -i ~/Downloads/flexkeys_2/flexboxkey flexbox@162.243.146.213\n",
      "\n",
      "## C. If you want to look at the data in the server do:\n",
      "psql flexbox_db_server -h localhost -U flexbox \n",
      "\n",
      "## D. Dump the data (note the date):\n",
      "pg_dump flexbox_db_server -h localhost -U flexbox > dump2Feb2016.sqld\n",
      "\n",
      "## E. Create a local version of db_server (Make sure you download this into the folder where you want the data)\n",
      "scp -i ~/Downloads/flexkeys_2/flexboxkey flexbox@162.243.146.213:/home/flexbox/dump2Feb2016.sqld .\n",
      "\n",
      "## F. Once you've made a new dump logging in do the psql server and create a new local database so you can analyze the data:\n",
      "  Login to postgres: \"sudo -u diego psql postgres\"\n",
      "  Drop the old database: \"drop database flexbox_db_server\";\n",
      "  Create the new database: \"create database flexbox_db_server\";\n",
      "  Grant all privileges: \"grant all privileges on database flexbox_db_server to flexbox;\"\n",
      "  Now move to the folder where you want to dump the data into, and dump it there (in this case we are dumping into DUMP3):\n",
      "  \"psql -U flexbox flexbox_db_server < dump2Feb2016.sqld\""
     ]
    },
    {
     "cell_type": "code",
     "collapsed": false,
     "input": [
      "#Grabbing data and pulling it\n",
      "metadata = psql.get_metadata()                                                  \n",
      "table_dict = psql.setup_tables(metadata)  "
     ],
     "language": "python",
     "metadata": {},
     "outputs": []
    },
    {
     "cell_type": "code",
     "collapsed": false,
     "input": [
      "#Inputs are date and energy limit\n",
      "#Outputs are text messages\n",
      "\n",
      "dfs = {}\n",
      "column_names = table_dict['zwave_table'].columns.keys()"
     ],
     "language": "python",
     "metadata": {},
     "outputs": [],
     "prompt_number": 5
    },
    {
     "cell_type": "code",
     "collapsed": false,
     "input": [
      "print type(column_names)"
     ],
     "language": "python",
     "metadata": {},
     "outputs": [
      {
       "output_type": "stream",
       "stream": "stdout",
       "text": [
        "<type 'list'>\n"
       ]
      }
     ],
     "prompt_number": 6
    },
    {
     "cell_type": "code",
     "collapsed": false,
     "input": [
      "flxbxList = ['flxbxD1','flxbxD17','flxbxD24','flxbxD26','flxbxD28']"
     ],
     "language": "python",
     "metadata": {},
     "outputs": [],
     "prompt_number": 7
    },
    {
     "cell_type": "code",
     "collapsed": false,
     "input": [
      "column_names"
     ],
     "language": "python",
     "metadata": {},
     "outputs": [
      {
       "metadata": {},
       "output_type": "pyout",
       "prompt_number": 8,
       "text": [
        "['hostname',\n",
        " 'id',\n",
        " 'datetime',\n",
        " 'houseAll_Voltage',\n",
        " 'houseAll_Current',\n",
        " 'houseAll_Power',\n",
        " 'houseAll_Energy',\n",
        " 'house1_Voltage',\n",
        " 'house1_Current',\n",
        " 'house1_Power',\n",
        " 'house1_Energy',\n",
        " 'house2_Voltage',\n",
        " 'house2_Current',\n",
        " 'house2_Power',\n",
        " 'house2_Energy']"
       ]
      }
     ],
     "prompt_number": 8
    },
    {
     "cell_type": "code",
     "collapsed": false,
     "input": [
      "#pd.DataFrame(table_dict['zwave_table'].select(\"hostname='\"+flxbx+\"'\")"
     ],
     "language": "python",
     "metadata": {},
     "outputs": [],
     "prompt_number": 12
    },
    {
     "cell_type": "code",
     "collapsed": false,
     "input": [
      "flxbx = 'flxbxD1'"
     ],
     "language": "python",
     "metadata": {},
     "outputs": [],
     "prompt_number": 13
    },
    {
     "cell_type": "code",
     "collapsed": false,
     "input": [
      "for flxbx in flxbxList:\n",
      "    # The next two lines are SQL Alchemy code, ordering each house energy data by date and then executing \n",
      "    dfs[flxbx] = pd.DataFrame(table_dict['zwave_table'].select(\"hostname='\"+flxbx+\"'\").\\\n",
      "    order_by(table_dict['zwave_table'].c.datetime.asc()).execute().fetchall(),columns=column_names)\n",
      "    dfs[flxbx]['month'] = [x.month for x in dfs[flxbx]['datetime']] #list comprehension can also be written into a for loop as exemplified below\n",
      "    print flxbx\n",
      "    print dfs[flxbx].groupby('month')['houseAll_Energy'].last()\\\n",
      "    -dfs[flxbx].groupby('month')['houseAll_Energy'].first()\n",
      "    print"
     ],
     "language": "python",
     "metadata": {},
     "outputs": [
      {
       "output_type": "stream",
       "stream": "stdout",
       "text": [
        "flxbxD1\n",
        "month\n",
        "1    127.488037\n",
        "2     18.447021\n",
        "Name: houseAll_Energy, dtype: float64\n",
        "\n",
        "flxbxD17\n",
        "month\n",
        "1    125.100952\n",
        "Name: houseAll_Energy, dtype: float64\n",
        "\n",
        "flxbxD24\n",
        "month\n",
        "1   -2355.571102\n",
        "2      26.463001\n",
        "Name: houseAll_Energy, dtype: float64\n",
        "\n",
        "flxbxD26\n",
        "month\n",
        "1    633.376221\n",
        "2     75.317871\n",
        "Name: houseAll_Energy, dtype: float64\n",
        "\n",
        "flxbxD28\n",
        "month\n",
        "1    119.077026\n",
        "Name: houseAll_Energy, dtype: float64\n",
        "\n"
       ]
      }
     ],
     "prompt_number": 14
    },
    {
     "cell_type": "code",
     "collapsed": false,
     "input": [
      "# For loop for the list comprehension above\n",
      "datetime.datetime.now()\n",
      "array_ex = []\n",
      "for x in dfs[flxbx]['datetime']:\n",
      "    array_ex.append(x.month);\n",
      "    \n",
      "dfs[flxbx]['month'] = array_ex\n",
      "datetime.datetime.now()"
     ],
     "language": "python",
     "metadata": {},
     "outputs": [
      {
       "metadata": {},
       "output_type": "pyout",
       "prompt_number": 15,
       "text": [
        "datetime.datetime(2016, 2, 8, 15, 1, 5, 284988)"
       ]
      }
     ],
     "prompt_number": 15
    },
    {
     "cell_type": "code",
     "collapsed": false,
     "input": [
      "# Work with specific dates as inputs  - since then calculate now until since \n",
      "# Clean the zwave data to take into outlier events, zeros, and any other noise that might cause problems \n"
     ],
     "language": "python",
     "metadata": {},
     "outputs": [],
     "prompt_number": 16
    },
    {
     "cell_type": "markdown",
     "metadata": {},
     "source": [
      "# Work with specific dates as inputs  - since then calculate now until since "
     ]
    },
    {
     "cell_type": "code",
     "collapsed": false,
     "input": [
      "def fix_zwave_reset(df):\n",
      "    prev_val = 0\n",
      "    running_total = 0\n",
      "    new_col = []\n",
      "    for val in df['houseAll_Energy']:\n",
      "        if(val<prev_val):\n",
      "            running_total = running_total + prev_val\n",
      "        new_col.append(running_total+val)\n",
      "        prev_val = val\n",
      "    return new_col\n",
      "\n",
      "for flxbx in flxbxList:\n",
      "    # The next two lines are SQL Alchemy code, ordering each house energy data by date and then executing \n",
      "    dfs[flxbx] = pd.DataFrame(table_dict['zwave_table'].select(\"hostname='\"+flxbx+\"'\").\\\n",
      "    order_by(table_dict['zwave_table'].c.datetime.asc()).execute().fetchall(),columns=column_names)\n",
      "    dfs[flxbx]['month'] = [x.month for x in dfs[flxbx]['datetime']] #list comprehension can also be written into a for loop as exemplified below\n",
      "    #I added the line below so that the dataframe can be indexed by datetime, making slices easier\n",
      "    dfs[flxbx].index = dfs[flxbx].index = pd.to_datetime(dfs[flxbx]['datetime']) #<--- I added this line \n",
      "    #Below adds a new column to take into account when the Z-wave gets reset to 0\n",
      "    dfs[flxbx] = dfs[flxbx][dfs[flxbx]['houseAll_Energy']>0]\n",
      "    dfs[flxbx]['houseAll_Energy_total'] = fix_zwave_reset(dfs[flxbx])\n",
      "        \n",
      "    \n",
      "    '''\n",
      "    print flxbx\n",
      "    print dfs[flxbx].groupby('month')['houseAll_Energy'].last()\\\n",
      "    -dfs[flxbx].groupby('month')['houseAll_Energy'].first()\n",
      "    print\n",
      "    '''\n",
      "    pass"
     ],
     "language": "python",
     "metadata": {},
     "outputs": [],
     "prompt_number": 125
    },
    {
     "cell_type": "code",
     "collapsed": false,
     "input": [
      "flxbx = flxbxList[3]\n",
      "start = datetime.datetime(2016,1,15)\n",
      "dfs[flxbx][start:]['houseAll_Energy_total'][-1:].iloc[0] - dfs[flxbx][start:]['houseAll_Energy_total'][:1].iloc[0]\n"
     ],
     "language": "python",
     "metadata": {},
     "outputs": [
      {
       "metadata": {},
       "output_type": "pyout",
       "prompt_number": 133,
       "text": [
        "729.17211914062"
       ]
      }
     ],
     "prompt_number": 133
    },
    {
     "cell_type": "code",
     "collapsed": false,
     "input": [],
     "language": "python",
     "metadata": {},
     "outputs": [],
     "prompt_number": 122
    },
    {
     "cell_type": "code",
     "collapsed": false,
     "input": [
      "print dfs[flxbxList[3]][['houseAll_Energy','houseAll_Energy_total']]"
     ],
     "language": "python",
     "metadata": {},
     "outputs": [
      {
       "output_type": "stream",
       "stream": "stdout",
       "text": [
        "                     houseAll_Energy  houseAll_Energy_total\n",
        "datetime                                                   \n",
        "2016-01-15 01:52:08      3654.281982            3654.281982\n",
        "2016-01-15 07:51:56      3663.092041            3663.092041\n",
        "2016-01-15 13:52:13      3666.519043            3666.519043\n",
        "2016-01-15 19:52:05      3681.205078            3681.205078\n",
        "2016-01-16 01:52:13      3695.997070            3695.997070\n",
        "2016-01-16 07:52:10      3704.343018            3704.343018\n",
        "2016-01-16 13:51:54      3707.563965            3707.563965\n",
        "2016-01-16 19:52:12      3722.728027            3722.728027\n",
        "2016-01-17 01:52:10      3738.143066            3738.143066\n",
        "2016-01-17 07:52:08      3746.877930            3746.877930\n",
        "2016-01-17 13:52:08      3749.762939            3749.762939\n",
        "2016-01-17 19:52:07      3765.781006            3765.781006\n",
        "2016-01-18 01:52:13      3781.095947            3781.095947\n",
        "2016-01-18 07:51:48      3789.063965            3789.063965\n",
        "2016-01-18 13:52:13      3792.394043            3792.394043\n",
        "2016-01-18 19:51:50      3803.747070            3803.747070\n",
        "2016-01-19 01:52:10      3818.181885            3818.181885\n",
        "2016-01-19 13:52:13      3828.169922            3828.169922\n",
        "2016-01-19 19:52:12      3841.664062            3841.664062\n",
        "2016-01-20 01:52:13      3856.104004            3856.104004\n",
        "2016-01-20 07:52:02      3863.191895            3863.191895\n",
        "2016-01-20 13:52:12      3865.898926            3865.898926\n",
        "2016-01-20 19:52:09      3880.851074            3880.851074\n",
        "2016-01-21 01:52:13      3894.155029            3894.155029\n",
        "2016-01-21 07:52:04      3902.189941            3902.189941\n",
        "2016-01-21 13:52:12      3906.048096            3906.048096\n",
        "2016-01-21 19:52:11      3918.847900            3918.847900\n",
        "2016-01-22 01:52:11      3932.938965            3932.938965\n",
        "2016-01-22 07:52:03      3940.291992            3940.291992\n",
        "2016-01-22 13:52:08      3943.803955            3943.803955\n",
        "...                              ...                    ...\n",
        "2016-01-26 13:52:08      4092.991943            4092.991943\n",
        "2016-01-26 19:52:11      4107.006836            4107.006836\n",
        "2016-01-27 01:52:12      4122.120117            4122.120117\n",
        "2016-01-27 07:52:08      4130.166992            4130.166992\n",
        "2016-01-27 13:52:11      4133.235840            4133.235840\n",
        "2016-01-27 19:52:12      4147.115234            4147.115234\n",
        "2016-01-28 01:51:58      4161.494141            4161.494141\n",
        "2016-01-28 07:51:46      4169.564941            4169.564941\n",
        "2016-01-28 13:52:08      4172.875000            4172.875000\n",
        "2016-01-28 19:52:11      4184.866211            4184.866211\n",
        "2016-01-29 01:51:59      4198.758789            4198.758789\n",
        "2016-01-29 07:51:45      4209.279785            4209.279785\n",
        "2016-01-29 13:51:45      4214.542969            4214.542969\n",
        "2016-01-29 19:52:10      4228.397949            4228.397949\n",
        "2016-01-30 01:52:11      4240.814941            4240.814941\n",
        "2016-01-30 07:51:34      4247.629883            4247.629883\n",
        "2016-01-30 13:52:12      4250.220215            4250.220215\n",
        "2016-01-30 19:52:10      4263.167969            4263.167969\n",
        "2016-01-31 01:52:06      4277.820801            4277.820801\n",
        "2016-01-31 07:52:13      4284.969238            4284.969238\n",
        "2016-01-31 13:52:09      4287.658203            4287.658203\n",
        "2016-02-01 01:52:04      4308.136230            4308.136230\n",
        "2016-02-01 07:52:10      4314.451172            4314.451172\n",
        "2016-02-01 13:52:09      4317.749023            4317.749023\n",
        "2016-02-01 19:51:57      4329.887207            4329.887207\n",
        "2016-02-02 01:52:13      4346.779785            4346.779785\n",
        "2016-02-02 07:52:13      4355.342773            4355.342773\n",
        "2016-02-02 13:52:11      4358.462891            4358.462891\n",
        "2016-02-02 19:52:08      4371.333008            4371.333008\n",
        "2016-02-03 01:52:07      4383.454102            4383.454102\n",
        "\n",
        "[75 rows x 2 columns]\n"
       ]
      }
     ],
     "prompt_number": 135
    },
    {
     "cell_type": "code",
     "collapsed": false,
     "input": [
      "from twilio.rest import TwilioRestClient # This is used further below to access the Twilio database\n",
      "from flexbox import psql_server as psql\n",
      "import yaml\n",
      "import urllib, urllib2\n",
      "import requests\n",
      "import json\n",
      "import datetime\n",
      "import pandas as pd\n",
      "\n",
      "#with open('/home/flexbox/twilio_auth.yaml') as f:\n",
      "#        cf = yaml.safe_load(f)\n",
      "        \n",
      "\n",
      "#Preparing the Twilio message\n",
      "\n",
      "client = TwilioRestClient(cf['ACCOUNT_SID'], cf['AUTH_TOKEN']) #Calling python twilio to authenticate that indeed we have an account\n",
      "\n",
      "phone_id = [\"Odaly\",\"A1\",\"A24\",\"A26\",\"A28\",\"A17\",\"Stephen\",\"Diego\"]\n",
      "#phone_list = [\"+50582371823\",\"+50585531569\",\"+50589762464\",\"+50586840640\",\"+50588957602\",\"+50586773460\",\"+12676718589\",\"+16513577324\"]\n",
      "#message = \"Hola! Somos los investigadores del proyecto de energia (FlexBox). Nos gustaria empezar a ayudarlo a administrar su consumo energetico. Diganos: cuantos kWh le gustaria consumir este mes? Le avisaremos cuando este apunto de llegar a su limite!\"\n",
      "#message = \"Por favor responda con la fecha cuando recibio su ultimo recibo, y con el limite de kWh que le gustaria establecer para su proximo recibo. Por ejemplo, usted podria responder asi: 27/2/2016 245 kWh\"\n",
      "#message = \"Gracias por participar en la prueba de los mensajes de texto energeticos! Porfavor avise a Odaly cuando llegue su siguiente recibo y lo ayudaremos a llegar a sus metas energeticas\"\n",
      "phone_list = [\"+12676718589\",\"+16513577324\"]\n",
      "#phone_list = [\"+12676718589\"]\n",
      "since = datetime.datetime(2016,1,15)\n",
      "metadata = psql.get_metadata()                                                  \n",
      "table_dict = psql.setup_tables(metadata)   \n",
      "\n",
      "flxbxList = ['flxbxD1','flxbxD17','flxbxD24','flxbxD26','flxbxD28']\n",
      "column_names = table_dict['zwave_table'].columns.keys()\n",
      "dfs = {}\n",
      "\n",
      "def fix_zwave_reset(df):\n",
      "    prev_val = 0\n",
      "    running_total = 0\n",
      "    new_col = []\n",
      "    for val in df['houseAll_Energy']:\n",
      "        if(val<prev_val):\n",
      "            running_total = running_total + prev_val\n",
      "        new_col.append(running_total+val)\n",
      "        prev_val = val\n",
      "    return new_col\n",
      "\n",
      "message_total = \"(Just being sent to Steve and Diego) Energy Totals since:\"+str(since.strftime(\"%d/%m/%Y\"))+ \" \"\n",
      "message_last = \"Last heartbeat:\"+ \" \"\n",
      "for flxbx in flxbxList:\n",
      "    # The next two lines are SQL Alchemy code, ordering each house energy data by date and then executing \n",
      "    dfs[flxbx] = pd.DataFrame(table_dict['zwave_table'].select(\"hostname='\"+flxbx+\"'\").\\\n",
      "    order_by(table_dict['zwave_table'].c.datetime.asc()).execute().fetchall(),columns=column_names)\n",
      "    dfs[flxbx]['month'] = [x.month for x in dfs[flxbx]['datetime']] #list comprehension can also be written into a for loop as exemplified below\n",
      "    #I added the line below so that the dataframe can be indexed by datetime, making slices easier\n",
      "    dfs[flxbx].index = dfs[flxbx].index = pd.to_datetime(dfs[flxbx]['datetime']) #<--- I added this line \n",
      "    #Below adds a new column to take into account when the Z-wave gets reset to 0\n",
      "    dfs[flxbx] = dfs[flxbx][dfs[flxbx]['houseAll_Energy']>0]\n",
      "    dfs[flxbx]['houseAll_Energy_total'] = fix_zwave_reset(dfs[flxbx])\n",
      "    \n",
      "    total_since = dfs[flxbx][since:]['houseAll_Energy_total'][-1:].iloc[0] - dfs[flxbx][since:]['houseAll_Energy_total'][:1].iloc[0]\n",
      "    message_total+= flxbx + \":\"+ str(round(total_since,0)) + \", \" \n",
      "    message_last+= flxbx + \":\"+str(dfs[flxbx].index[-1:][0].strftime(\"%d/%m/%Y\"))+\", \"\n",
      "\n",
      "message_total = message_total[:-2]\n",
      "message_last = message_last[:-2]\n",
      "print message_last\n",
      "\n",
      "for phone_number in phone_list:\n",
      "    message = client.messages.create(\n",
      "        to= phone_number,\n",
      "        from_=\"+12015235236\",\n",
      "        body=message_total,  \n",
      "    )\n",
      "\n",
      "for phone_number in phone_list:\n",
      "    message = client.messages.create(\n",
      "        to= phone_number,\n",
      "        from_=\"+12015235236\",\n",
      "        body=message_last,  \n",
      "    )\n",
      "\n",
      "\n",
      "\n",
      "pass\n"
     ],
     "language": "python",
     "metadata": {},
     "outputs": [
      {
       "output_type": "stream",
       "stream": "stdout",
       "text": [
        "Last heartbeat: flxbxD1:03/02/2016, flxbxD17:26/01/2016, flxbxD24:03/02/2016, flxbxD26:03/02/2016, flxbxD28:31/01/2016,\n"
       ]
      }
     ],
     "prompt_number": 1
    },
    {
     "cell_type": "code",
     "collapsed": false,
     "input": [
      "inputflaskmessage = 'limite 11/02/2016 1000(mil) kWh'\n",
      "phone_number = '+50589708489'"
     ],
     "language": "python",
     "metadata": {},
     "outputs": [],
     "prompt_number": 6
    },
    {
     "cell_type": "code",
     "collapsed": false,
     "input": [
      "print len(phone_id),len(phone_list)"
     ],
     "language": "python",
     "metadata": {},
     "outputs": [
      {
       "output_type": "stream",
       "stream": "stdout",
       "text": [
        "8 8\n"
       ]
      }
     ],
     "prompt_number": 27
    },
    {
     "cell_type": "code",
     "collapsed": false,
     "input": [
      "phone_flexboxid={}\n",
      "for i,val in enumerate(phone_id):\n",
      "    phone_flexboxid[phone_list[i]]=val  \n",
      "    \n",
      "    "
     ],
     "language": "python",
     "metadata": {},
     "outputs": [
      {
       "output_type": "stream",
       "stream": "stdout",
       "text": [
        "{'+50585531569': 'A1', '+50588957602': 'A28', '+50589762464': 'A24', '+50586773460': 'A17', '+12676718589': 'Stephen', '+16513577324': 'Diego', '+50589708489': 'A26', '+50582371823': 'Odaly'}\n"
       ]
      }
     ],
     "prompt_number": 29
    },
    {
     "cell_type": "code",
     "collapsed": false,
     "input": [
      "from flexbox import psql_server as psql"
     ],
     "language": "python",
     "metadata": {},
     "outputs": []
    },
    {
     "cell_type": "code",
     "collapsed": false,
     "input": [
      "#Grabbing data and pulling it\n",
      "metadata = psql.get_metadata()                                                  \n",
      "table_dict = psql.setup_tables(metadata)  "
     ],
     "language": "python",
     "metadata": {},
     "outputs": [],
     "prompt_number": 2
    },
    {
     "cell_type": "code",
     "collapsed": false,
     "input": [],
     "language": "python",
     "metadata": {},
     "outputs": [],
     "prompt_number": 34
    },
    {
     "cell_type": "code",
     "collapsed": false,
     "input": [
      "#Dictionary with all participants\n",
      "phone_dictionary ={'+50585531569': 'flxbxD1', '+50588957602': 'flxbxD28', '+50589762464': 'flxbxD24', \n",
      "                   '+50586773460': 'flxbxD17', '+12676718589': 'Stephen', '+16513577324': 'Diego', \n",
      "                   '+50589708489': 'flxbxD26', '+50582371823': 'Odaly'}\n",
      "\n",
      "# NOTE Changed : A17 from  50586773460 to +50588140038\n",
      "\n",
      "\n",
      "\n",
      "if 'limite' in inputflaskmessage: \n",
      "    \n",
      "    #1. Extracting values from message\n",
      "    split_array = inputflaskmessage.split(' ')\n",
      "    date = datetime.strptime(split_array[1],'%d/%m/%Y')\n",
      "    limit = re.findall(\"(\\d+)\", split_array[2])[0] #Pulling the first element from the list\n",
      "    \n",
      "    #2. Output Dictionary\n",
      "    output_dict = {}\n",
      "    output_dict['flexboxid']= phone_dictionary[phone_number]\n",
      "    output_dict['date_last'] = date\n",
      "    output_dict['phone_number'] = phone_number #Specified by Twilio message\n",
      "    output_dict['message'] = inputflaskmessage\n",
      "    output_dict['limit_kwh'] = int(limit)\n",
      "    \n",
      "    enter_data = psql.add_values_to_table(table_dict['twilio_received'],output_dict)\n",
      "    \n",
      "    \n",
      "if 'energia' in inputflaskmessage: \n",
      "    \n",
      "    column_names = table_dict['twilio_received'].columns.keys()\n",
      "    flxbx = phone_dictionary[phone_number]\n",
      "    \n",
      "    # The next two lines are SQL Alchemy code, ordering each house energy data by date and then executing \n",
      "    last_date = table_dict['twilio_received'].select(\"flexboxid='\"+flxbx+\"'\").order_by(table_dict['twilio_received'].\\\n",
      "                                                                           c.datetime.desc()).execute().fetchone()[3]\n",
      "        \n",
      "    column_names = table_dict['zwave_table'].columns.keys()\n",
      "    \n",
      "    # The next two lines are SQL Alchemy code, ordering each house energy data by date and then executing \n",
      "    dfs[flxbx] = pd.DataFrame(table_dict['zwave_table'].select(\"hostname='\"+flxbx+\"'\").\\\n",
      "    order_by(table_dict['zwave_table'].c.datetime.asc()).execute().fetchall(),columns=column_names)\n",
      "    dfs[flxbx]['month'] = [x.month for x in dfs[flxbx]['datetime']] #list comprehension can also be written into a for loop as exemplified below\n",
      "    #I added the line below so that the dataframe can be indexed by datetime, making slices easier\n",
      "    dfs[flxbx].index = dfs[flxbx].index = pd.to_datetime(dfs[flxbx]['datetime']) #<--- I added this line \n",
      "    #Below adds a new column to take into account when the Z-wave gets reset to 0\n",
      "    dfs[flxbx] = dfs[flxbx][dfs[flxbx]['houseAll_Energy']>0]\n",
      "    dfs[flxbx]['houseAll_Energy_total'] = fix_zwave_reset(dfs[flxbx])\n",
      "    \n",
      "    \n",
      "    \n",
      "    dfs[flxbx][last_date:]['houseAll_Energy_total'][-1:].iloc[0] - dfs[flxbx][last_date:]['houseAll_Energy_total'][:1].iloc[0]\n",
      "    \n",
      "    \n",
      "\n",
      "\n",
      "    "
     ],
     "language": "python",
     "metadata": {},
     "outputs": [
      {
       "output_type": "stream",
       "stream": "stdout",
       "text": [
        "['limite', '11/02/2016', '1000(mil)', 'kWh'] 2016-02-11 00:00:00 1000\n"
       ]
      }
     ],
     "prompt_number": 15
    },
    {
     "cell_type": "code",
     "collapsed": false,
     "input": [
      "column_names = table_dict['twilio_received'].columns.keys()\n",
      "flxbx = phone_dictionary[phone_number]\n",
      "\n",
      "# The next two lines are SQL Alchemy code, ordering each house energy data by date and then executing \n",
      "print table_dict['twilio_received'].select(\"flexboxid='\"+flxbx+\"'\").\\\n",
      "order_by(table_dict['twilio_received'].c.datetime.desc()).execute().fetchone()[3]"
     ],
     "language": "python",
     "metadata": {},
     "outputs": [
      {
       "output_type": "stream",
       "stream": "stdout",
       "text": [
        "2016-02-11 00:00:00\n"
       ]
      }
     ],
     "prompt_number": 22
    },
    {
     "cell_type": "code",
     "collapsed": false,
     "input": [],
     "language": "python",
     "metadata": {},
     "outputs": [],
     "prompt_number": 38
    },
    {
     "cell_type": "code",
     "collapsed": false,
     "input": [
      "dfs[flxbx]['houseAll_Energy'][last_date:]"
     ],
     "language": "python",
     "metadata": {},
     "outputs": [
      {
       "metadata": {},
       "output_type": "pyout",
       "prompt_number": 46,
       "text": [
        "Series([], dtype: object)"
       ]
      }
     ],
     "prompt_number": 46
    },
    {
     "cell_type": "code",
     "collapsed": false,
     "input": [
      "last_date"
     ],
     "language": "python",
     "metadata": {},
     "outputs": [
      {
       "metadata": {},
       "output_type": "pyout",
       "prompt_number": 47,
       "text": [
        "datetime.datetime(2016, 2, 11, 0, 0)"
       ]
      }
     ],
     "prompt_number": 47
    },
    {
     "cell_type": "markdown",
     "metadata": {},
     "source": [
      "#Second part of the script"
     ]
    },
    {
     "cell_type": "code",
     "collapsed": false,
     "input": [
      "import twilio.twiml\n",
      "from flexbox import psql_server as psql\n",
      "from datetime import datetime\n",
      "import re\n",
      "import pandas as pd\n",
      "\n",
      "\n",
      "\n",
      "\n",
      "def fix_zwave_reset(df):\n",
      "    prev_val = 0\n",
      "    running_total = 0\n",
      "    new_col = []\n",
      "    for val in df['houseAll_Energy']:\n",
      "        if(val<prev_val):\n",
      "            running_total = running_total + prev_val\n",
      "        new_col.append(running_total+val)\n",
      "        prev_val = val\n",
      "    return new_col\n",
      "\n",
      "\n",
      " \n",
      "\n",
      "def create_ewarning():\n",
      "    \"\"\"Respond to incoming calls with a simple text message.\"\"\"\n",
      "    #Grabbing data and pulling it\n",
      "    metadata = psql.get_metadata()                                                  \n",
      "    table_dict = psql.setup_tables(metadata) \n",
      "\n",
      "    # Dictionary with all participants\n",
      "    phone_dictionary ={'+50585531569': 'flxbxD1', '+50588957602': 'flxbxD28', '+50589762464': 'flxbxD24','+50586773460': 'flxbxD17', '+12676718589': 'Stephen', '+16513577324': 'Diego','+50589708489': 'flxbxD26', '+50582371823': 'Odaly'}\n",
      "\n",
      "    # Opening Twilio\n",
      "\n",
      "    column_names = table_dict['twilio_received'].columns.keys()\n",
      "    \n",
      "\n",
      "    \n",
      "    for flxbx in phone_dictionary.values():\n",
      "        flxbxid = flxbx        \n",
      "            \n",
      "        \n",
      "        if flxbx == 'Stephen':\n",
      "            flxbx= 'flxbxD26'\n",
      "\n",
      "        dfs = {}\n",
      "        # The next two lines are SQL Alchemy code, ordering each house energy data by date and then executing \n",
      "        last_row = table_dict['twilio_received'].select(\"flexboxid='\"+flxbxid+\"'\").order_by(table_dict['twilio_received'].\\\n",
      "                                                                               c.datetime.desc()).execute().fetchone()\n",
      "        \n",
      "        if last_row:\n",
      "            last_date = last_row[3]\n",
      "            limit = last_row[6]\n",
      "            phone_number = last_row[4]\n",
      "            \n",
      "            \n",
      "            \n",
      "            column_names = table_dict['zwave_table'].columns.keys()\n",
      "        \n",
      "            # The next two lines are SQL Alchemy code, ordering each house energy data by date and then executing \n",
      "            dfs[flxbx] = pd.DataFrame(table_dict['zwave_table'].select(\"hostname='\"+flxbx+\"'\").\\\n",
      "            order_by(table_dict['zwave_table'].c.datetime.asc()).execute().fetchall(),columns=column_names)\n",
      "            dfs[flxbx]['month'] = [x.month for x in dfs[flxbx]['datetime']] #list comprehension can also be written into a for loop as exemplified below\n",
      "            #I added the line below so that the dataframe can be indexed by datetime, making slices easier\n",
      "            dfs[flxbx].index = dfs[flxbx].index = pd.to_datetime(dfs[flxbx]['datetime']) #<--- I added this line \n",
      "            #Below adds a new column to take into account when the Z-wave gets reset to 0\n",
      "            dfs[flxbx] = dfs[flxbx][dfs[flxbx]['houseAll_Energy']>0]\n",
      "            dfs[flxbx]['houseAll_Energy_total'] = fix_zwave_reset(dfs[flxbx])\n",
      "           \n",
      "            energia=dfs[flxbx][last_date:]['houseAll_Energy_total'][-1:].iloc[0] - dfs[flxbx][last_date:]['houseAll_Energy_total'][:1].iloc[0]\n",
      "            \n",
      "            \n",
      "            #Querying the Twilio sent table\n",
      "            last_row_sent = table_dict['twilio_sent'].select().where(\"flexboxid='\"+flxbx+\"'\").order_by(table_dict['twilio_sent'].\\\n",
      "                                                                               c.datetime.desc()).execute().fetchone()\n",
      "            \n",
      "            if last_row_sent:\n",
      "                previously_crossed = last_row_sent[6]\n",
      "                last_date_sent = last_row_sent[3]\n",
      "                \n",
      "                if last_date_sent != last_date:\n",
      "                    previously_crossed=0\n",
      "            else:\n",
      "                previously_crossed = 0\n",
      "                      \n",
      "            if energia and limit and energia >= 0.5*limit:\n",
      "                message = ''\n",
      "                if energia >= 1*limit and previously_crossed != 100:\n",
      "                    message = 'Usted ha pasado el 100% de su limite establecido ' + '(' + str(limit)+'kWh) ' + 'el ' + last_date.strftime('%d/%m/%Y') + '. Ha gastado ' + str(int(round(energia))) + ' kWh hasta el dia de hoy.'                          \n",
      "                    limit_crossed = 100\n",
      "                elif energia >= 0.95*limit and previously_crossed < 95:\n",
      "                    message = 'Usted ha pasado el 95% de su limite establecido ' + '(' + str(limit)+'kWh) ' + 'el ' + last_date.strftime('%d/%m/%Y') + '. Ha gastado ' + str(int(round(energia))) + ' kWh hasta el dia de hoy.' \n",
      "                    limit_crossed = 95\n",
      "                elif energia >= 0.75*limit and previously_crossed < 75:            \n",
      "                    message = 'Usted ha pasado el 75% de su limite establecido ' + '(' + str(limit)+'kWh) ' + 'el ' + last_date.strftime('%d/%m/%Y') + '. Ha gastado ' + str(int(round(energia))) + ' kWh hasta el dia de hoy.' \n",
      "                    limit_crossed = 75\n",
      "                elif energia >= 0.5*limit and previously_crossed < 50:\n",
      "                    limit_crossed = 50\n",
      "                    message = 'Usted ha pasado el 50% de su limite establecido ' + '(' + str(limit)+'kWh) ' + 'el ' + last_date.strftime('%d/%m/%Y') + '. Ha gastado ' + str(int(round(energia))) + ' kWh hasta el dia de hoy.' \n",
      "\n",
      "                if len(message) >0:\n",
      "                    phone_number = \"+12676718589\"\n",
      "                    #for phone_number in phone_list:\n",
      "                    client.messages.create(\n",
      "                        to= phone_number,\n",
      "                        from_=\"+12015235236\",\n",
      "                        body=message,  \n",
      "                    )\n",
      "                    \n",
      "                    #2. Output Dictionary\n",
      "                    output_dict = {}\n",
      "                    output_dict['flexboxid']= flxbx\n",
      "                    output_dict['date_last'] = last_date\n",
      "                    output_dict['phone_number'] = phone_number #Specified by Twilio message\n",
      "                    output_dict['message'] = message\n",
      "                    output_dict['limit_crossed'] = limit_crossed\n",
      "                    \n",
      "                    enter_data = psql.add_values_to_table(table_dict['twilio_sent'],output_dict)\n",
      "                \n",
      "                \n"
     ],
     "language": "python",
     "metadata": {},
     "outputs": [],
     "prompt_number": 120
    },
    {
     "cell_type": "code",
     "collapsed": false,
     "input": [
      "create_ewarning()"
     ],
     "language": "python",
     "metadata": {},
     "outputs": [],
     "prompt_number": 121
    },
    {
     "cell_type": "code",
     "collapsed": false,
     "input": [
      "from sqlalchemy import DateTime"
     ],
     "language": "python",
     "metadata": {},
     "outputs": [],
     "prompt_number": 79
    },
    {
     "cell_type": "code",
     "collapsed": false,
     "input": [
      "    metadata = psql.get_metadata()                                                  \n",
      "    table_dict = psql.setup_tables(metadata) \n",
      "\n",
      "    # Dictionary with all participants\n",
      "    phone_dictionary ={'+50585531569': 'flxbxD1', '+50588957602': 'flxbxD28', '+50589762464': 'flxbxD24','+50586773460': 'flxbxD17', '+12676718589': 'Stephen', '+16513577324': 'Diego','+50589708489': 'flxbxD26', '+50582371823': 'Odaly'}\n",
      "\n",
      "    last_date = datetime(2016,1,1)\n",
      "    flxbxid= 'flxbxD26'"
     ],
     "language": "python",
     "metadata": {},
     "outputs": [],
     "prompt_number": 68
    },
    {
     "cell_type": "code",
     "collapsed": false,
     "input": [
      "last_row_sent = table_dict['twilio_sent'].select().where(\"flexboxid='\"+flxbxid+\"'\").order_by(table_dict['twilio_sent'].\\\n",
      "                                                                               c.datetime.desc()).execute().fetchone()"
     ],
     "language": "python",
     "metadata": {},
     "outputs": [],
     "prompt_number": 82
    },
    {
     "cell_type": "code",
     "collapsed": false,
     "input": [
      "last_row_sent[3]\n"
     ],
     "language": "python",
     "metadata": {},
     "outputs": [
      {
       "metadata": {},
       "output_type": "pyout",
       "prompt_number": 88,
       "text": [
        "datetime.datetime(2016, 1, 1, 0, 0)"
       ]
      }
     ],
     "prompt_number": 88
    },
    {
     "cell_type": "code",
     "collapsed": false,
     "input": [
      "last_row_sent[6]"
     ],
     "language": "python",
     "metadata": {},
     "outputs": [
      {
       "metadata": {},
       "output_type": "pyout",
       "prompt_number": 93,
       "text": [
        "100"
       ]
      }
     ],
     "prompt_number": 93
    },
    {
     "cell_type": "code",
     "collapsed": false,
     "input": [
      "\n"
     ],
     "language": "python",
     "metadata": {},
     "outputs": [
      {
       "metadata": {},
       "output_type": "pyout",
       "prompt_number": 90,
       "text": [
        "u'Usted ha pasado el 100% de su limite establecido (100kWh) el 01/01/2016. Ha gastado 1087 kWh hasta el dia de hoy.'"
       ]
      }
     ],
     "prompt_number": 90
    }
   ],
   "metadata": {}
  }
 ]
}