{
 "metadata": {
  "name": "",
  "signature": "sha256:92928221f499fa747cf6d783e6d9b53678450c652419aa5de140be93471deca8"
 },
 "nbformat": 3,
 "nbformat_minor": 0,
 "worksheets": [
  {
   "cells": [
    {
     "cell_type": "code",
     "collapsed": false,
     "input": [
      "from niuera_nica import object_builder,analysis\n",
      "reload(object_builder)\n",
      "reload(analysis)\n",
      "import seaborn as sns\n",
      "sns.set_style(\"white\")\n",
      "%matplotlib inline\n",
      "from datetime import datetime"
     ],
     "language": "python",
     "metadata": {},
     "outputs": [],
     "prompt_number": 16
    },
    {
     "cell_type": "code",
     "collapsed": false,
     "input": [
      "data_dir = '/home/steve/projects/nica/flexbox-data-dump-analysis/niuera_nica_data'\n",
      "nica_data = object_builder.NicaraguaData(data_dir,real_time=True)"
     ],
     "language": "python",
     "metadata": {},
     "outputs": [
      {
       "output_type": "stream",
       "stream": "stdout",
       "text": [
        "Loading Real-Time 20-Second Data...(real_time)\n",
        "Loading Posdepacho Data... (posdepacho)"
       ]
      },
      {
       "output_type": "stream",
       "stream": "stdout",
       "text": [
        "\n",
        "Loading Posdepacho Cost Data... (posdepacho_costs)"
       ]
      },
      {
       "output_type": "stream",
       "stream": "stdout",
       "text": [
        "\n",
        "Loading Posdepacho Spot Price Data... (posdepacho_spot)"
       ]
      },
      {
       "output_type": "stream",
       "stream": "stdout",
       "text": [
        "\n",
        "Loading Posdepacho Color Data... (posdepacho_colors)"
       ]
      },
      {
       "output_type": "stream",
       "stream": "stdout",
       "text": [
        "\n",
        "Loading Predespacho Data... (predespacho)"
       ]
      },
      {
       "output_type": "stream",
       "stream": "stdout",
       "text": [
        "\n",
        "Loading Hydro Height Data... (hdyro_heights)\n",
        "Loading overall plant characteristics dataframe... (plant_characteristics_df)"
       ]
      },
      {
       "output_type": "stream",
       "stream": "stdout",
       "text": [
        "\n",
        "Combining pre and pos depacho into new dataframe ... (pre_and_pos_depacho)"
       ]
      },
      {
       "output_type": "stream",
       "stream": "stdout",
       "text": [
        "\n",
        "Combining posdepacho and posdepacho costs into new dataframe ... (posdepacho_and_costs)"
       ]
      },
      {
       "output_type": "stream",
       "stream": "stdout",
       "text": [
        "\n",
        "Done."
       ]
      },
      {
       "output_type": "stream",
       "stream": "stdout",
       "text": [
        "\n"
       ]
      }
     ],
     "prompt_number": 19
    },
    {
     "cell_type": "code",
     "collapsed": false,
     "input": [
      "start_date = datetime(2015,1,1)\n",
      "end_date = datetime(2015,12,23,1)\n",
      "analysis.plot_supply_curve(nica_data,start_date,end_date)"
     ],
     "language": "python",
     "metadata": {},
     "outputs": [
      {
       "output_type": "stream",
       "stream": "stdout",
       "text": [
        "1/2015 to 12/2015\n",
        "Sorted by % Used\n"
       ]
      },
      {
       "metadata": {},
       "output_type": "display_data",
       "png": "[encoded data removed]",
       "text": [
        "<matplotlib.figure.Figure at 0x7f7f4dcd35d0>"
       ]
      }
     ],
     "prompt_number": 13
    },
    {
     "cell_type": "code",
     "collapsed": false,
     "input": [],
     "language": "python",
     "metadata": {},
     "outputs": []
    }
   ],
   "metadata": {}
  }
 ]
}