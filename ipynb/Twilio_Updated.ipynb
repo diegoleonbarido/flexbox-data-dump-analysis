{
 "metadata": {
  "name": "",
  "signature": "sha256:758600ae50116b3a412e10296468c278318cea960053cb249d96693ae154462c"
 },
 "nbformat": 3,
 "nbformat_minor": 0,
 "worksheets": [
  {
   "cells": [
    {
     "cell_type": "code",
     "collapsed": false,
     "input": [
      "from twilio.rest import TwilioRestClient # This is used further below to access the Twilio database\n",
      "from flexbox import psql_server as psql\n",
      "import yaml\n",
      "import urllib, urllib2\n",
      "import requests\n",
      "import json\n",
      "import datetime\n",
      "import pandas as pd\n",
      "from sqlalchemy import text,Date, cast\n",
      "import copy\n",
      "import matplotlib.pylab as plt\n",
      "%matplotlib inline  \n",
      "import numpy as np\n",
      "#To run this file, you need the twilio_auth.yaml file to use twilio and the phonebook.yaml file with the most updated numbers"
     ],
     "language": "python",
     "metadata": {},
     "outputs": [],
     "prompt_number": 1
    },
    {
     "cell_type": "code",
     "collapsed": false,
     "input": [
      "#with open('/home/flexbox/twilio_auth.yaml') as f:\n",
      "with open('auth.yaml') as f:\n",
      "        cf = yaml.safe_load(f)\n",
      "client = TwilioRestClient(cf['ACCOUNT_SID'], cf['AUTH_TOKEN'])"
     ],
     "language": "python",
     "metadata": {},
     "outputs": [],
     "prompt_number": 2
    },
    {
     "cell_type": "code",
     "collapsed": false,
     "input": [
      "#with open('/home/flexbox/phonebook.yaml') as f:\n",
      "with open('phonebook.yaml') as f:\n",
      "        phone_dictionary = yaml.safe_load(f)\n",
      "print phone_dictionary"
     ],
     "language": "python",
     "metadata": {},
     "outputs": [
      {
       "ename": "IOError",
       "evalue": "[Errno 2] No such file or directory: 'phonebook.yaml'",
       "output_type": "pyerr",
       "traceback": [
        "\u001b[0;31m---------------------------------------------------------------------------\u001b[0m\n\u001b[0;31mIOError\u001b[0m                                   Traceback (most recent call last)",
        "\u001b[0;32m<ipython-input-3-3e87fd029134>\u001b[0m in \u001b[0;36m<module>\u001b[0;34m()\u001b[0m\n\u001b[1;32m      1\u001b[0m \u001b[0;31m#with open('/home/flexbox/phonebook.yaml') as f:\u001b[0m\u001b[0;34m\u001b[0m\u001b[0;34m\u001b[0m\u001b[0m\n\u001b[0;32m----> 2\u001b[0;31m \u001b[0;32mwith\u001b[0m \u001b[0mopen\u001b[0m\u001b[0;34m(\u001b[0m\u001b[0;34m'phonebook.yaml'\u001b[0m\u001b[0;34m)\u001b[0m \u001b[0;32mas\u001b[0m \u001b[0mf\u001b[0m\u001b[0;34m:\u001b[0m\u001b[0;34m\u001b[0m\u001b[0m\n\u001b[0m\u001b[1;32m      3\u001b[0m         \u001b[0mphone_dictionary\u001b[0m \u001b[0;34m=\u001b[0m \u001b[0myaml\u001b[0m\u001b[0;34m.\u001b[0m\u001b[0msafe_load\u001b[0m\u001b[0;34m(\u001b[0m\u001b[0mf\u001b[0m\u001b[0;34m)\u001b[0m\u001b[0;34m\u001b[0m\u001b[0m\n\u001b[1;32m      4\u001b[0m \u001b[0;32mprint\u001b[0m \u001b[0mphone_dictionary\u001b[0m\u001b[0;34m\u001b[0m\u001b[0m\n",
        "\u001b[0;31mIOError\u001b[0m: [Errno 2] No such file or directory: 'phonebook.yaml'"
       ]
      }
     ],
     "prompt_number": 3
    },
    {
     "cell_type": "code",
     "collapsed": false,
     "input": [
      "def create_monotonically_increasing_energy_vals(flxbx):\n",
      "    df = pd.DataFrame(table_dict['zwave_table'].select(\"hostname='\"+flxbx+\"'\").\\\n",
      "        order_by(table_dict['zwave_table'].c.datetime.asc()).execute().fetchall(),columns=column_names)\n",
      "    df['month'] = [x.month for x in df['datetime']] \n",
      "    #I added the line below so that the dataframe can be indexed by datetime, making slices easier\n",
      "    df.index = pd.to_datetime(df['datetime']) #<--- I added this line \n",
      "    #Below adds a new column to take into account when the Z-wave gets reset to 0\n",
      "    #house_energy = df['house_Energy'][(abs(df['house_Energy'].diff())<1) & (df['house_Energy']>0)]\n",
      "    threshold = np.percentile(df[df['houseAll_Energy'].diff()>0]['houseAll_Energy'].diff(),98)*2\n",
      "    if threshold != threshold:#this checks if threshold is NaN, in which case we don't have to worry about outliers.\n",
      "        temporary_df_copy = copy.deepcopy(df[df['houseAll_Energy']>0])\n",
      "    else:\n",
      "        temporary_df = copy.deepcopy(df[(abs(df['houseAll_Energy'].diff())<threshold) & (df['houseAll_Energy']>0)])\n",
      "        temporary_df_copy = copy.deepcopy(temporary_df[abs(temporary_df['houseAll_Energy'].diff())<threshold])\n",
      "    temporary_df_fixed = copy.deepcopy(temporary_df_copy)\n",
      "    for val in temporary_df_copy['houseAll_Energy'].loc[temporary_df_copy['houseAll_Energy'].diff()<-1].index:\n",
      "        temporary_df_fixed['houseAll_Energy'].loc[val:]=\\\n",
      "        temporary_df_fixed['houseAll_Energy'].loc[val:]+temporary_df_copy['houseAll_Energy'].shift(1).loc[val]\n",
      "    return temporary_df_fixed\n",
      "\n",
      "def add_values_to_twilio_received_direct(flxbx_id,phone_number,date_of_last_bill,limit_kwh):\n",
      "    metadata = psql.get_metadata()                                                  \n",
      "    table_dict = psql.setup_tables(metadata)   \n",
      "    output_dict = {}\n",
      "    output_dict['flexboxid']= flxbx_id\n",
      "    output_dict['date_last'] = date_of_last_bill\n",
      "    output_dict['phone_number'] = phone_number\n",
      "    output_dict['message'] = 'Manually Added to system'\n",
      "    output_dict['limit_kwh'] = int(limit_kwh)\n",
      "    psql.add_values_to_table(table_dict['twilio_received'],output_dict)\n",
      "    \n",
      "def add_values_to_twilio_received_flask(body,from_number):\n",
      "    url = 'http://cooljoule.javirosa.com:5000/'\n",
      "    data = urllib.urlencode({'Body' : body,\n",
      "                         'From'  : from_number})\n",
      "    return urllib2.urlopen(url=url, data=data).read()"
     ],
     "language": "python",
     "metadata": {},
     "outputs": [],
     "prompt_number": 5
    },
    {
     "cell_type": "code",
     "collapsed": false,
     "input": [
      "#Sending A Twilio message\n",
      "\n",
      "phone_list = [\"+12676718589\"]\n",
      "since = datetime.datetime(2016,1,15)\n",
      "metadata = psql.get_metadata()                                                  \n",
      "table_dict = psql.setup_tables(metadata)   \n",
      "\n",
      "flxbxList = ['flxbxD1','flxbxD17','flxbxD24','flxbxD26','flxbxD28']\n",
      "column_names = table_dict['zwave_table'].columns.keys()\n",
      "dfs = {}\n",
      "\n",
      "message_total = \"(Just being sent to Steve and Diego) Energy Totals since:\"+str(since.strftime(\"%d/%m/%Y\"))+ \" \"\n",
      "message_last = \"Last heartbeat:\"+ \" \"\n",
      "for flxbx in flxbxList:\n",
      "    # The next two lines are SQL Alchemy code, ordering each house energy data by date and then executing \n",
      "    dfs[flxbx] = create_monotonically_increasing_energy_vals(flxbx)\n",
      "    total_since = dfs[flxbx][since:]['houseAll_Energy'][-1:].iloc[0] \\\n",
      "    - dfs[flxbx][since:]['houseAll_Energy'][:1].iloc[0]\n",
      "    \n",
      "    message_total+= flxbx + \":\"+ str(round(total_since,0)) + \", \" \n",
      "    message_last+= flxbx + \":\"+str(dfs[flxbx].index[-1:][0].strftime(\"%d/%m/%Y\"))+\", \"\n",
      "\n",
      "message_total = message_total[:-2]\n",
      "message_last = message_last[:-2]\n",
      "print message_total\n",
      "\n",
      "\n",
      "'''\n",
      "for phone_number in phone_list:\n",
      "    message = client.messages.create(\n",
      "        to= phone_number,\n",
      "        from_=\"+12015235236\",\n",
      "        body=message_total,  \n",
      "    )\n",
      "'''\n",
      "pass\n",
      "\n"
     ],
     "language": "python",
     "metadata": {},
     "outputs": [
      {
       "output_type": "stream",
       "stream": "stdout",
       "text": [
        "(Just being sent to Steve and Diego) Energy Totals since:15/01/2016 flxbxD1:173.0, flxbxD17:259.0, flxbxD24:359.0, flxbxD26:935.0, flxbxD28:194.0\n"
       ]
      },
      {
       "output_type": "stream",
       "stream": "stderr",
       "text": [
        "/usr/local/lib/python2.7/dist-packages/pandas/core/indexing.py:117: SettingWithCopyWarning: \n",
        "A value is trying to be set on a copy of a slice from a DataFrame\n",
        "\n",
        "See the caveats in the documentation: http://pandas.pydata.org/pandas-docs/stable/indexing.html#indexing-view-versus-copy\n",
        "  self._setitem_with_indexer(indexer, value)\n"
       ]
      }
     ],
     "prompt_number": 6
    },
    {
     "cell_type": "code",
     "collapsed": false,
     "input": [
      "#The _direct function is used only for testing. It directly puts data into the sql database. So if this is run locally,\n",
      "#it won't actually be putting data into the 'real' database on the server.\n",
      "\n",
      "#add_values_to_twilio_received_direct('flxbxD26','+12676718589',datetime(2016,1,15),'500')"
     ],
     "language": "python",
     "metadata": {},
     "outputs": [],
     "prompt_number": 4
    },
    {
     "cell_type": "code",
     "collapsed": false,
     "input": [
      "print add_values_to_twilio_received_flask('LIMITE 11/2/2016 1000 KWH','+50589708489')"
     ],
     "language": "python",
     "metadata": {},
     "outputs": [
      {
       "output_type": "stream",
       "stream": "stdout",
       "text": [
        "<?xml version=\"1.0\" encoding=\"UTF-8\"?><Response><Message><Body>Muchas gracias!</Body></Message></Response>\n"
       ]
      }
     ],
     "prompt_number": 6
    },
    {
     "cell_type": "code",
     "collapsed": false,
     "input": [
      "#How to see if words match\n",
      "from difflib import SequenceMatcher\n",
      "SequenceMatcher(None, \"limite\".lower(), \"Limit\").ratio()"
     ],
     "language": "python",
     "metadata": {},
     "outputs": [
      {
       "metadata": {},
       "output_type": "pyout",
       "prompt_number": 9,
       "text": [
        "0.7272727272727273"
       ]
      }
     ],
     "prompt_number": 9
    }
   ],
   "metadata": {}
  }
 ]
}